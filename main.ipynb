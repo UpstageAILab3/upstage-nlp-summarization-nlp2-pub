{
 "cells": [
  {
   "cell_type": "code",
   "execution_count": 1,
   "metadata": {},
   "outputs": [],
   "source": [
    "import yaml\n",
    "import torch\n",
    "import random\n",
    "\n",
    "from torch.utils.data import Subset\n",
    "\n",
    "from model.model import Model\n",
    "from model.trainer import Trainer\n",
    "from model.test import Test\n",
    "from model.model_analyze import ModelAnalyze\n",
    "\n",
    "from data_pre.dataset import TrainValidDataset, TestDataset, T5TrainValidDataset, T5TestDataset\n",
    "import pandas as pd\n",
    "\n",
    "\n",
    "random_seed = 42\n",
    "random.seed(random_seed)\n",
    "\n",
    "pd.set_option('display.max_colwidth', None)"
   ]
  },
  {
   "cell_type": "markdown",
   "metadata": {},
   "source": [
    "# Model & Tokenizer & Dataset 생성"
   ]
  },
  {
   "cell_type": "code",
   "execution_count": 2,
   "metadata": {},
   "outputs": [
    {
     "name": "stderr",
     "output_type": "stream",
     "text": [
      "/opt/conda/envs/myvenv/lib/python3.10/site-packages/transformers/tokenization_utils_base.py:1601: FutureWarning: `clean_up_tokenization_spaces` was not set. It will be set to `True` by default. This behavior will be depracted in transformers v4.45, and will be then set to `False` by default. For more details check this issue: https://github.com/huggingface/transformers/issues/31884\n",
      "  warnings.warn(\n"
     ]
    }
   ],
   "source": [
    "device = torch.device('cuda:0' if torch.cuda.is_available() else 'cpu')\n",
    "\n",
    "with open('/root/upstage-nlp-summarization-nlp2/config.yaml', \"r\") as file:\n",
    "    config = yaml.safe_load(file)\n",
    "\n",
    "# Model & Tokenizer\n",
    "model_instance = Model(config, device)\n",
    "\n",
    "tokenizer = model_instance.getT5Tokenizer()\n",
    "model = model_instance.getT5Model(tokenizer)\n",
    "\n",
    "# dataset\n",
    "train_dataset = T5TrainValidDataset(config, tokenizer, is_train=True)\n",
    "val_dataset = T5TrainValidDataset(config, tokenizer, is_train=False)\n",
    "test_dataset = T5TestDataset(config, tokenizer)"
   ]
  },
  {
   "cell_type": "markdown",
   "metadata": {},
   "source": [
    "# Trainer 학습"
   ]
  },
  {
   "cell_type": "code",
   "execution_count": 3,
   "metadata": {},
   "outputs": [
    {
     "name": "stderr",
     "output_type": "stream",
     "text": [
      "/opt/conda/envs/myvenv/lib/python3.10/site-packages/transformers/training_args.py:1525: FutureWarning: `evaluation_strategy` is deprecated and will be removed in version 4.46 of 🤗 Transformers. Use `eval_strategy` instead\n",
      "  warnings.warn(\n",
      "/opt/conda/envs/myvenv/lib/python3.10/site-packages/accelerate/accelerator.py:488: FutureWarning: `torch.cuda.amp.GradScaler(args...)` is deprecated. Please use `torch.amp.GradScaler('cuda', args...)` instead.\n",
      "  self.scaler = torch.cuda.amp.GradScaler(**kwargs)\n",
      "Detected kernel version 5.4.0, which is below the recommended minimum of 5.5.0; this can cause the process to hang. It is recommended to upgrade the kernel to the minimum version or higher.\n",
      "Failed to detect the name of this notebook, you can set it manually with the WANDB_NOTEBOOK_NAME environment variable to enable code saving.\n",
      "\u001b[34m\u001b[1mwandb\u001b[0m: Currently logged in as: \u001b[33mtjsgh2770\u001b[0m (\u001b[33mprefer_leee\u001b[0m). Use \u001b[1m`wandb login --relogin`\u001b[0m to force relogin\n"
     ]
    },
    {
     "data": {
      "text/html": [
       "Tracking run with wandb version 0.17.8"
      ],
      "text/plain": [
       "<IPython.core.display.HTML object>"
      ]
     },
     "metadata": {},
     "output_type": "display_data"
    },
    {
     "data": {
      "text/html": [
       "Run data is saved locally in <code>/root/upstage-nlp-summarization-nlp2/wandb/run-20240903_161324-74pj0k7m</code>"
      ],
      "text/plain": [
       "<IPython.core.display.HTML object>"
      ]
     },
     "metadata": {},
     "output_type": "display_data"
    },
    {
     "data": {
      "text/html": [
       "Syncing run <strong><a href='https://wandb.ai/prefer_leee/huggingface/runs/74pj0k7m' target=\"_blank\">summary_with_base_bart</a></strong> to <a href='https://wandb.ai/prefer_leee/huggingface' target=\"_blank\">Weights & Biases</a> (<a href='https://wandb.me/run' target=\"_blank\">docs</a>)<br/>"
      ],
      "text/plain": [
       "<IPython.core.display.HTML object>"
      ]
     },
     "metadata": {},
     "output_type": "display_data"
    },
    {
     "data": {
      "text/html": [
       " View project at <a href='https://wandb.ai/prefer_leee/huggingface' target=\"_blank\">https://wandb.ai/prefer_leee/huggingface</a>"
      ],
      "text/plain": [
       "<IPython.core.display.HTML object>"
      ]
     },
     "metadata": {},
     "output_type": "display_data"
    },
    {
     "data": {
      "text/html": [
       " View run at <a href='https://wandb.ai/prefer_leee/huggingface/runs/74pj0k7m' target=\"_blank\">https://wandb.ai/prefer_leee/huggingface/runs/74pj0k7m</a>"
      ],
      "text/plain": [
       "<IPython.core.display.HTML object>"
      ]
     },
     "metadata": {},
     "output_type": "display_data"
    },
    {
     "data": {
      "text/html": [
       "\n",
       "    <div>\n",
       "      \n",
       "      <progress value='779' max='779' style='width:300px; height:20px; vertical-align: middle;'></progress>\n",
       "      [779/779 08:58, Epoch 1/1]\n",
       "    </div>\n",
       "    <table border=\"1\" class=\"dataframe\">\n",
       "  <thead>\n",
       " <tr style=\"text-align: left;\">\n",
       "      <th>Epoch</th>\n",
       "      <th>Training Loss</th>\n",
       "      <th>Validation Loss</th>\n",
       "      <th>Rouge-1</th>\n",
       "      <th>Rouge-2</th>\n",
       "      <th>Rouge-l</th>\n",
       "    </tr>\n",
       "  </thead>\n",
       "  <tbody>\n",
       "    <tr>\n",
       "      <td>1</td>\n",
       "      <td>0.384000</td>\n",
       "      <td>0.599953</td>\n",
       "      <td>0.209205</td>\n",
       "      <td>0.046261</td>\n",
       "      <td>0.205579</td>\n",
       "    </tr>\n",
       "  </tbody>\n",
       "</table><p>"
      ],
      "text/plain": [
       "<IPython.core.display.HTML object>"
      ]
     },
     "metadata": {},
     "output_type": "display_data"
    },
    {
     "name": "stderr",
     "output_type": "stream",
     "text": [
      "Some non-default generation parameters are set in the model config. These should go into a GenerationConfig file (https://huggingface.co/docs/transformers/generation_strategies#save-a-custom-decoding-strategy-with-your-model) instead. This warning will be raised to an exception in v4.41.\n",
      "Non-default generation parameters: {'max_length': 128}\n",
      "Some non-default generation parameters are set in the model config. These should go into a GenerationConfig file (https://huggingface.co/docs/transformers/generation_strategies#save-a-custom-decoding-strategy-with-your-model) instead. This warning will be raised to an exception in v4.41.\n",
      "Non-default generation parameters: {'max_length': 128}\n",
      "There were missing keys in the checkpoint model loaded: ['encoder.embed_tokens.weight', 'decoder.embed_tokens.weight'].\n"
     ]
    },
    {
     "data": {
      "text/plain": [
       "TrainOutput(global_step=779, training_loss=2.2995037646899634, metrics={'train_runtime': 544.337, 'train_samples_per_second': 22.885, 'train_steps_per_second': 1.431, 'total_flos': 9066267722907648.0, 'train_loss': 2.2995037646899634, 'epoch': 1.0})"
      ]
     },
     "execution_count": 3,
     "metadata": {},
     "output_type": "execute_result"
    }
   ],
   "source": [
    "trainer = Trainer(config, model, train_dataset, val_dataset, tokenizer).get_trainer()\n",
    "trainer.train()"
   ]
  },
  {
   "cell_type": "markdown",
   "metadata": {},
   "source": [
    "# Test 추론"
   ]
  },
  {
   "cell_type": "code",
   "execution_count": 4,
   "metadata": {},
   "outputs": [
    {
     "name": "stderr",
     "output_type": "stream",
     "text": [
      "100%|██████████| 16/16 [01:01<00:00,  3.83s/it]\n"
     ]
    },
    {
     "data": {
      "text/html": [
       "<div>\n",
       "<style scoped>\n",
       "    .dataframe tbody tr th:only-of-type {\n",
       "        vertical-align: middle;\n",
       "    }\n",
       "\n",
       "    .dataframe tbody tr th {\n",
       "        vertical-align: top;\n",
       "    }\n",
       "\n",
       "    .dataframe thead th {\n",
       "        text-align: right;\n",
       "    }\n",
       "</style>\n",
       "<table border=\"1\" class=\"dataframe\">\n",
       "  <thead>\n",
       "    <tr style=\"text-align: right;\">\n",
       "      <th></th>\n",
       "      <th>fname</th>\n",
       "      <th>summary</th>\n",
       "    </tr>\n",
       "  </thead>\n",
       "  <tbody>\n",
       "    <tr>\n",
       "      <th>0</th>\n",
       "      <td>test_0</td>\n",
       "      <td>모든 직원에게 내부 메모로 전달되어야 합니다. 그들은 즉시 메시지를 사용하고 있습니다.</td>\n",
       "    </tr>\n",
       "    <tr>\n",
       "      <th>1</th>\n",
       "      <td>test_1</td>\n",
       "      <td>대중교통을 이용하는 것이 환경에 더 좋을 수 있다. 그들은 차를 가지고 있는 자유가 그리워질 거라고 생각한다.</td>\n",
       "    </tr>\n",
       "    <tr>\n",
       "      <th>2</th>\n",
       "      <td>test_2</td>\n",
       "      <td>케이트는 마샤와 히어로가 2개월 동안 별거 중이다가 이혼을 신청했다고 합니다. 그들은 아이들의 양육권에 대해 이야기하고 있습니다.</td>\n",
       "    </tr>\n",
       "    <tr>\n",
       "      <th>3</th>\n",
       "      <td>test_3</td>\n",
       "      <td>브라이언은 브라이언의 생일을 축하하고 함께 술 한 잔 하자고 제안한다.</td>\n",
       "    </tr>\n",
       "    <tr>\n",
       "      <th>4</th>\n",
       "      <td>test_4</td>\n",
       "      <td>올림픽 스타디움은 6월에 완공될 예정이다. 그들은 외국인 방문객을 위해 영어로 번역된 표지판과 점프 피트를 많이 설치했다.</td>\n",
       "    </tr>\n",
       "    <tr>\n",
       "      <th>...</th>\n",
       "      <td>...</td>\n",
       "      <td>...</td>\n",
       "    </tr>\n",
       "    <tr>\n",
       "      <th>494</th>\n",
       "      <td>test_495</td>\n",
       "      <td>잭은 헤이와 찰리에게 비디오 게임을 보여주고 싶어합니다.</td>\n",
       "    </tr>\n",
       "    <tr>\n",
       "      <th>495</th>\n",
       "      <td>test_496</td>\n",
       "      <td>아내와 아내가 처음으로 레코드 플레이어를 구입했을 때부터 컨트리 음악에 관심을 가지게 되었습니다. 그들은 CBC에서 제안받은 프로그램으로인해 자신의 도서관 설립을하게 됩니다.</td>\n",
       "    </tr>\n",
       "    <tr>\n",
       "      <th>496</th>\n",
       "      <td>test_497</td>\n",
       "      <td>앨리스는 앨리스에게 세탁기와 건조기의 사용법을 알려준다. 하지만 그들은 모두 엄마가 아이들을 위해 빨래를 해주지 않는다고 말한다.</td>\n",
       "    </tr>\n",
       "    <tr>\n",
       "      <th>497</th>\n",
       "      <td>test_498</td>\n",
       "      <td>스티브는 스티브에게 최근에 살 곳을 찾고 있다고 말한다. 그들은 이미 집을 찾았으나 여전히 분류된 광고를 찾는 중이다.</td>\n",
       "    </tr>\n",
       "    <tr>\n",
       "      <th>498</th>\n",
       "      <td>test_499</td>\n",
       "      <td>프랭크는 승진하고 친구들을 위한 큰 파티를 열려고 한다.</td>\n",
       "    </tr>\n",
       "  </tbody>\n",
       "</table>\n",
       "<p>499 rows × 2 columns</p>\n",
       "</div>"
      ],
      "text/plain": [
       "        fname  \\\n",
       "0      test_0   \n",
       "1      test_1   \n",
       "2      test_2   \n",
       "3      test_3   \n",
       "4      test_4   \n",
       "..        ...   \n",
       "494  test_495   \n",
       "495  test_496   \n",
       "496  test_497   \n",
       "497  test_498   \n",
       "498  test_499   \n",
       "\n",
       "                                                                                               summary  \n",
       "0                                                     모든 직원에게 내부 메모로 전달되어야 합니다. 그들은 즉시 메시지를 사용하고 있습니다.  \n",
       "1                                        대중교통을 이용하는 것이 환경에 더 좋을 수 있다. 그들은 차를 가지고 있는 자유가 그리워질 거라고 생각한다.  \n",
       "2                             케이트는 마샤와 히어로가 2개월 동안 별거 중이다가 이혼을 신청했다고 합니다. 그들은 아이들의 양육권에 대해 이야기하고 있습니다.  \n",
       "3                                                              브라이언은 브라이언의 생일을 축하하고 함께 술 한 잔 하자고 제안한다.  \n",
       "4                                 올림픽 스타디움은 6월에 완공될 예정이다. 그들은 외국인 방문객을 위해 영어로 번역된 표지판과 점프 피트를 많이 설치했다.  \n",
       "..                                                                                                 ...  \n",
       "494                                                                    잭은 헤이와 찰리에게 비디오 게임을 보여주고 싶어합니다.  \n",
       "495  아내와 아내가 처음으로 레코드 플레이어를 구입했을 때부터 컨트리 음악에 관심을 가지게 되었습니다. 그들은 CBC에서 제안받은 프로그램으로인해 자신의 도서관 설립을하게 됩니다.  \n",
       "496                           앨리스는 앨리스에게 세탁기와 건조기의 사용법을 알려준다. 하지만 그들은 모두 엄마가 아이들을 위해 빨래를 해주지 않는다고 말한다.  \n",
       "497                                 스티브는 스티브에게 최근에 살 곳을 찾고 있다고 말한다. 그들은 이미 집을 찾았으나 여전히 분류된 광고를 찾는 중이다.  \n",
       "498                                                                    프랭크는 승진하고 친구들을 위한 큰 파티를 열려고 한다.  \n",
       "\n",
       "[499 rows x 2 columns]"
      ]
     },
     "execution_count": 4,
     "metadata": {},
     "output_type": "execute_result"
    }
   ],
   "source": [
    "best_model_path = trainer.state.best_model_checkpoint\n",
    "\n",
    "test_inst = Test(config, test_dataset, tokenizer, device)\n",
    "model = test_inst.getT5Model(best_model_path)\n",
    "\n",
    "model_name = config['model']['t5']\n",
    "result_df = test_inst.testModel(model, model_name)\n",
    "result_df"
   ]
  },
  {
   "cell_type": "markdown",
   "metadata": {},
   "source": [
    "# Model 성능 분석"
   ]
  },
  {
   "cell_type": "code",
   "execution_count": 6,
   "metadata": {},
   "outputs": [
    {
     "name": "stderr",
     "output_type": "stream",
     "text": [
      "You passed along `num_labels=3` with an incompatible id to label map: {'0': 'NEGATIVE', '1': 'POSITIVE'}. The number of labels wil be overwritten to 2.\n",
      "100%|██████████| 16/16 [00:40<00:00,  2.52s/it]\n"
     ]
    },
    {
     "data": {
      "text/html": [
       "<div>\n",
       "<style scoped>\n",
       "    .dataframe tbody tr th:only-of-type {\n",
       "        vertical-align: middle;\n",
       "    }\n",
       "\n",
       "    .dataframe tbody tr th {\n",
       "        vertical-align: top;\n",
       "    }\n",
       "\n",
       "    .dataframe thead th {\n",
       "        text-align: right;\n",
       "    }\n",
       "</style>\n",
       "<table border=\"1\" class=\"dataframe\">\n",
       "  <thead>\n",
       "    <tr style=\"text-align: right;\">\n",
       "      <th></th>\n",
       "      <th>input_text</th>\n",
       "      <th>generated_text</th>\n",
       "      <th>label</th>\n",
       "      <th>rouge_1</th>\n",
       "      <th>rouge_2</th>\n",
       "      <th>rouge_l</th>\n",
       "      <th>rouge_mean</th>\n",
       "    </tr>\n",
       "  </thead>\n",
       "  <tbody>\n",
       "    <tr>\n",
       "      <th>187</th>\n",
       "      <td>#Person1# : 음... 내 식기는 어디에 있나요? \\n#Person2# : 손으로 먹습니다. 빵을 집어서 숟가락처럼 음식을 떠먹으세요. \\n#Person3# : 이 요리, 질보는 양고기와 감자가 들어있습니다. \\n#Person1# : 허허! 정말 맛있네요! 꿀 와인 좀 주실 수 있나요? 그럼, 클라이드, 너는 무엇을 공부하니? \\n#Person2# : 국제법과 비즈니스입니다. 우리 가족은 자체 회사를 운영하고 있어요. \\n#Person3# : 클라이드는 첫 번째 흑인 대통령이 되고 싶어합니다. \\n#Person2# : 첫 번째 흑인 대통령이 될 겁니다. 나는 론알드 레이건을 롤 모델로 삼고 있어요.</td>\n",
       "      <td>&lt;usr&gt;#Person1# 은 #Person2# 에게 클라이드의 식기, 질보는 양고기와 감자, 그리고 꿀 와인을 소개합니다.&lt;/s&gt;</td>\n",
       "      <td>#Person1# 과 클라이드, #Person3# 이 함께 식사를 하는데 클라이드가 첫 번째 흑인 대통령이 되고 싶다고 말합니다.&lt;/s&gt;</td>\n",
       "      <td>0.0645</td>\n",
       "      <td>0.0000</td>\n",
       "      <td>0.0645</td>\n",
       "      <td>0.0430</td>\n",
       "    </tr>\n",
       "    <tr>\n",
       "      <th>323</th>\n",
       "      <td>#Person1# : 실례합니다. 저는 새로 이사 온 이웃, 잭입니다.\\n#Person2# : 오, 네?\\n#Person1# : 식료품점을 찾고 있는데, 여기 주변에 있나요?\\n#Person2# : 네, 파인 스트리트에 몇 군데 있습니다.\\n#Person1# : 알겠습니다. 그럼 여기 근처에 세탁소는 있나요?\\n#Person2# : 음, 쇼핑 센터 맞은편에 있는 것 같습니다.\\n#Person1# : 감사합니다.\\n#Person2# : 그런데, 쇼핑 센터 안에 이발소도 있습니다.\\n#Person1# : 이발소라고요?!</td>\n",
       "      <td>&lt;usr&gt;#Person1# 은 새로 이사 온 잭에게 식료품점을 찾고 있는지 묻습니다. 잭은 쇼핑 센터 맞은편에 세탁소가 있다고 말합니다.&lt;/s&gt;</td>\n",
       "      <td>#Person2# 는 #Person1# 에게 식료품점, 세탁소, 그리고 이발소의 위치를 알려줍니다.&lt;/s&gt;</td>\n",
       "      <td>0.0690</td>\n",
       "      <td>0.0000</td>\n",
       "      <td>0.0690</td>\n",
       "      <td>0.0460</td>\n",
       "    </tr>\n",
       "    <tr>\n",
       "      <th>349</th>\n",
       "      <td>#Person1# : 리사, 안녕!\\n#Person2# : 안녕, 넷!\\n#Person1# : 보통 출근할 때 차를 타지 않나요?\\n#Person2# : 보통은 그렇지만, 날씨가 안 좋을 때는 아니에요.\\n#Person1# : 왜죠?\\n#Person2# : 비나 눈이 오면 교통이 훨씬 더 복잡해져요.\\n#Person1# : 저는 항상 기차를 타요. 운전하는 것보다 훨씬 빠르거든요.\\n#Person2# : 저에게도 더 빠르긴 해요. 하지만 그 시간이 항상 편리하지는 않아요.\\n#Person1# : 그래도, 기차에서 할 수 있는 일들을 생각해봐요.\\n#Person2# : 책이나 신문을 읽는 것 말이죠.\\n#Person1# : 아니면 이메일을 답장하는 것. 고맙지만, 제 근무 시간은 이미 충분히 길어요.</td>\n",
       "      <td>&lt;usr&gt; 리사는 #Person1# 에게 출근할 때 차를 타지 않으며, 기차에서 할 수 있는 일들을 생각해보라고 제안한다.&lt;/s&gt;</td>\n",
       "      <td>리사와 넷은 &lt;unk&gt;안 좋은 날씨에 어떻게 출근하는지에 대해 이야기한다.&lt;/s&gt;</td>\n",
       "      <td>0.0741</td>\n",
       "      <td>0.0000</td>\n",
       "      <td>0.0741</td>\n",
       "      <td>0.0494</td>\n",
       "    </tr>\n",
       "    <tr>\n",
       "      <th>259</th>\n",
       "      <td>#Person1# : 하지만 어떻게 제가 웹트래커에서 일하고 있다는 것을 알았나요?\\n#Person2# : LA에 있을 때, 저는 웹트래커의 영업 대표를 만났습니다.\\n#Person1# : 그는 당신에게 말하지 않았을 것입니다. 웹트래커에서는 저를 아는 사람이 몇 명 없습니다.\\n#Person2# : 영업 대표는 당신의 것과 똑같은 녹색 노트패드를 가지고 있었습니다. 그는 웹트래커의 모든 사람들이 그것을 사용한다고 말했습니다.\\n#Person1# : 믿을 수 없어요. 당신이 친 함정에 빠졌다는 것을 믿을 수 없어요.\\n#Person2# : 우리 둘 다 뱀일지라도, 데이브, 제가 좀 더 낫습니다. 뱀들 중에서, 저는 가장 교활합니다.</td>\n",
       "      <td>&lt;usr&gt; 데이브와 #Person1# 은 웹트래커의 영업 대표를 만났다. 그들은 서로의 장점을 비교한다.&lt;/s&gt;</td>\n",
       "      <td>Dave는 #Person2# 가 그가 웹트래커에서 일하고 있다는 것을 추론할 수 있다는 사실에 놀란다.&lt;/s&gt;</td>\n",
       "      <td>0.0769</td>\n",
       "      <td>0.0000</td>\n",
       "      <td>0.0769</td>\n",
       "      <td>0.0513</td>\n",
       "    </tr>\n",
       "    <tr>\n",
       "      <th>77</th>\n",
       "      <td>#Person1# : 안녕, 케빈!\\n#Person2# : 안녕, 로라, 오랜만이네! 요즘 뭐하고 지냈어?\\n#Person1# : 별로. 확신할 수 있어. 너는?\\n#Person2# : 나도 비슷한데, 큰 소식이 있어.\\n#Person1# : 어서 말해. 너무 긴장돼서 죽을 것 같아.\\n#Person2# : 아니, 정말로, 너는 이 몇 주 동안 뭐하고 있었어? 마지막에 널 봤을 때, 너는 새로운 일자리를 찾고 있었잖아.\\n#Person1# : 음, 사실 그건 아냐. 나는 직장을 옮기려고 생각하고 있었어. 다행히도, 회계 부서에서 새로운 직책을 제안해줬어.\\n#Person2# : 회사 생활에서 승진했네.\\n#Person1# : 과장이 아니라, 나 정말 기뻐. 나는 한동안 승진을 희망하고 있었어. 그래서 드디어 승진이 결정되었을 때, 나는 안도했어. 사실, 그게 내가 새로운 일자리를 찾고 있던 이유야. 그들이 내 노력을 인정하지 않는다면, 나는 더 이상 그곳에서 일하고 싶지 않았어.\\n#Person2# : 그렇지, 가끔 너의 최선을 다해도 다른 사람들은 너가 존재하는지 모르는 것 같아. 월급이 좀 올라간 거면 좋겠어.\\n#Person1# : 합리적인 인상을 받았어, 이제 나에 대해 충분히 얘기했으니. 너의 소식을 듣고 싶어 죽겠어.\\n#Person2# : 나 결혼하려고 해.\\n#Person1# : 아니, 너는 결혼하지 않겠다고 했잖아.\\n#Person2# : 그건 그때의 이야기고, 이건 지금의 이야기야. 너는 반드시 안드레아를 만나봐야 해, 그녀는 정말 대단해!\\n#Person1# : 이건 모두 나에게 새로운 소식이야. 너가 데이트를 하고 있다는 것조차 몰랐어.\\n#Person2# : 우리는 그렇지 않았어. 우리는 지금 두 주 동안 만나고 있었어.\\n#Person1# : 그리고 너는 결혼하려고 해?\\n#Person2# : 알아. 어쩔 수 없어. 그녀가 바로 내가 찾던 그 사람이라는 것을 알고 있어.\\n#Person1# : 그럼, 축하해! 정말 대단하다!\\n#Person2# : 고마워, 너도 그렇게 생각한다니 기쁘다.</td>\n",
       "      <td>&lt;usr&gt; 케빈은 로라에게 그녀가 새로운 일자리를 찾고 있다고 말한다. 케빈은 그녀가 직장을 옮기려고 생각하고 있었지만 다행히도 회계 부서에서 새로운 직책을 제안받았기 때문에 승진을 하게 되었다. 그녀는 또한 안드레아를 만나기 위해 그녀를 만나고 싶어한다.&lt;/s&gt;</td>\n",
       "      <td>로라와 케빈은 오랜만에 만나 서로의 최근 소식을 공유한다. 로라는 직장 승진과 월급 인상을 받았고, 케빈은 안드레아와 2주 동안 데이트한 후 결혼했다.&lt;/s&gt;</td>\n",
       "      <td>0.0769</td>\n",
       "      <td>0.0000</td>\n",
       "      <td>0.0769</td>\n",
       "      <td>0.0513</td>\n",
       "    </tr>\n",
       "    <tr>\n",
       "      <th>...</th>\n",
       "      <td>...</td>\n",
       "      <td>...</td>\n",
       "      <td>...</td>\n",
       "      <td>...</td>\n",
       "      <td>...</td>\n",
       "      <td>...</td>\n",
       "      <td>...</td>\n",
       "    </tr>\n",
       "    <tr>\n",
       "      <th>472</th>\n",
       "      <td>#Person1# : 메리, 우리가 처음 만났던 날을 기억하니?&lt;unk&gt;\\n#Person2# : 절대 잊지 못해! 나 혼자서 카페테리아에 앉아 있었어...&lt;unk&gt;\\n#Person1# : 그리고 나는 네 옆에 앉아도 되는 지 물어봤었지...&lt;unk&gt;\\n#Person2# : 아, 마치 어제 일 같아.</td>\n",
       "      <td>&lt;usr&gt; 메리는 #Person1# 에게 카페테리아에서 처음 만났던 날을 회상한다.&lt;/s&gt;</td>\n",
       "      <td>메리와 #Person1# 은 처음 만났던 날을 회상한다.&lt;/s&gt;</td>\n",
       "      <td>0.6667</td>\n",
       "      <td>0.5000</td>\n",
       "      <td>0.6667</td>\n",
       "      <td>0.6111</td>\n",
       "    </tr>\n",
       "    <tr>\n",
       "      <th>452</th>\n",
       "      <td>#Person1# : 실례합니다. 가장 가까운 영화관에 어떻게 가는지 알려주실 수 있나요?&lt;unk&gt;\\n#Person2# : 두 번째 신호등에서 왼쪽으로 가세요. 찾으실 수 있을 거예요.&lt;unk&gt;\\n#Person1# : 거기에 가는 데 오래 걸리나요?&lt;unk&gt;\\n#Person2# : 아니요. 전혀 멀지 않아요.&lt;unk&gt;\\n#Person1# : 정말 감사합니다.&lt;unk&gt;\\n#Person2# : 괜찮아요. 좋은 하루 보내세요.</td>\n",
       "      <td>&lt;usr&gt;#Person2# 는 #Person1# 에게 가장 가까운 영화관에 가는 방법을 알려줍니다.&lt;/s&gt;</td>\n",
       "      <td>#Person2# 는 #Person1# 에게 가장 가까운 영화관으로 가는 길을 알려줍니다.&lt;/s&gt;</td>\n",
       "      <td>0.7273</td>\n",
       "      <td>0.5000</td>\n",
       "      <td>0.7273</td>\n",
       "      <td>0.6515</td>\n",
       "    </tr>\n",
       "    <tr>\n",
       "      <th>209</th>\n",
       "      <td>#Person1# : 경찰관님, 문제가 있나요?\\n#Person2# : 빨간 불을 무시하고 운전해서 당신을 세웠습니다.\\n#Person1# : 정말 그랬나요?\\n#Person2# : 모르고 있었나요?\\n#Person1# : 무시했다는 사실을 전혀 몰랐습니다.\\n#Person2# : 노란 불이 느려지라는 뜻인 건 알고 있나요?\\n#Person1# : 네, 선생님.\\n#Person2# : 왜 오히려 속도를 높였나요?\\n#Person1# : 정말 변명할 수 없습니다, 선생님.\\n#Person2# : 벌금 티켓을 발행해야겠습니다.\\n#Person1# : 이해합니다, 그리고 정말 죄송합니다.\\n#Person2# : 여기 벌금 티켓입니다.</td>\n",
       "      <td>&lt;usr&gt;#Person1# 은 빨간 불을 무시하고 운전했습니다. #Person2# 는 #Person1# 에게 벌금 티켓을 발행합니다.&lt;/s&gt;</td>\n",
       "      <td>#Person2# 는 빨간 불을 무시하고 운전한 #Person1# 에게 벌금 티켓을 발행했다.&lt;/s&gt;</td>\n",
       "      <td>0.7692</td>\n",
       "      <td>0.5000</td>\n",
       "      <td>0.7692</td>\n",
       "      <td>0.6795</td>\n",
       "    </tr>\n",
       "    <tr>\n",
       "      <th>367</th>\n",
       "      <td>#Person1# : 안녕하세요. 무엇을 도와드릴까요, 선생님?\\n#Person2# : 네. 저는 뉴델리로 송금을 하고 싶습니다.\\n#Person1# : 국제환어음을 원하시나요, 아니면 은행어음을 원하시나요?\\n#Person2# : 은행 어음을 원합니다. 그다지 급한 일은 아닙니다.</td>\n",
       "      <td>&lt;usr&gt;#Person2# 는 #Person1# 의 도움으로 뉴델리로 송금을 합니다.&lt;/s&gt;</td>\n",
       "      <td>#Person2# 는 #Person1# 의 도움으로 뉴델리로 은행 어음을 통해 송금을 합니다.&lt;/s&gt;</td>\n",
       "      <td>0.7619</td>\n",
       "      <td>0.6316</td>\n",
       "      <td>0.7619</td>\n",
       "      <td>0.7185</td>\n",
       "    </tr>\n",
       "    <tr>\n",
       "      <th>0</th>\n",
       "      <td>AVERAGE</td>\n",
       "      <td>AVERAGE</td>\n",
       "      <td>AVERAGE</td>\n",
       "      <td>0.339065</td>\n",
       "      <td>0.100955</td>\n",
       "      <td>0.319816</td>\n",
       "      <td>0.253279</td>\n",
       "    </tr>\n",
       "  </tbody>\n",
       "</table>\n",
       "<p>500 rows × 7 columns</p>\n",
       "</div>"
      ],
      "text/plain": [
       "                                                                                                                                                                                                                                                                                                                                                                                                                                                                                                                                                                                                                                                                                                                                                                                                                                                                                                                                                                                                                                                                                                                                                                                                                               input_text  \\\n",
       "187                                                                                                                                                                                                                                                                                                                                                                                                                                                                         #Person1# : 음... 내 식기는 어디에 있나요? \\n#Person2# : 손으로 먹습니다. 빵을 집어서 숟가락처럼 음식을 떠먹으세요. \\n#Person3# : 이 요리, 질보는 양고기와 감자가 들어있습니다. \\n#Person1# : 허허! 정말 맛있네요! 꿀 와인 좀 주실 수 있나요? 그럼, 클라이드, 너는 무엇을 공부하니? \\n#Person2# : 국제법과 비즈니스입니다. 우리 가족은 자체 회사를 운영하고 있어요. \\n#Person3# : 클라이드는 첫 번째 흑인 대통령이 되고 싶어합니다. \\n#Person2# : 첫 번째 흑인 대통령이 될 겁니다. 나는 론알드 레이건을 롤 모델로 삼고 있어요.                                                                                                                                                                                                                                                                                                                                                                                                          \n",
       "323                                                                                                                                                                                                                                                                                                                                                                                                                                                                                               #Person1# : 실례합니다. 저는 새로 이사 온 이웃, 잭입니다.\\n#Person2# : 오, 네?\\n#Person1# : 식료품점을 찾고 있는데, 여기 주변에 있나요?\\n#Person2# : 네, 파인 스트리트에 몇 군데 있습니다.\\n#Person1# : 알겠습니다. 그럼 여기 근처에 세탁소는 있나요?\\n#Person2# : 음, 쇼핑 센터 맞은편에 있는 것 같습니다.\\n#Person1# : 감사합니다.\\n#Person2# : 그런데, 쇼핑 센터 안에 이발소도 있습니다.\\n#Person1# : 이발소라고요?!                                                                                                                                                                                                                                                                                                                                                                                                                                       \n",
       "349                                                                                                                                                                                                                                                                                                                                                                                                                           #Person1# : 리사, 안녕!\\n#Person2# : 안녕, 넷!\\n#Person1# : 보통 출근할 때 차를 타지 않나요?\\n#Person2# : 보통은 그렇지만, 날씨가 안 좋을 때는 아니에요.\\n#Person1# : 왜죠?\\n#Person2# : 비나 눈이 오면 교통이 훨씬 더 복잡해져요.\\n#Person1# : 저는 항상 기차를 타요. 운전하는 것보다 훨씬 빠르거든요.\\n#Person2# : 저에게도 더 빠르긴 해요. 하지만 그 시간이 항상 편리하지는 않아요.\\n#Person1# : 그래도, 기차에서 할 수 있는 일들을 생각해봐요.\\n#Person2# : 책이나 신문을 읽는 것 말이죠.\\n#Person1# : 아니면 이메일을 답장하는 것. 고맙지만, 제 근무 시간은 이미 충분히 길어요.                                                                                                                                                                                                                                                                                                                                                                                                   \n",
       "259                                                                                                                                                                                                                                                                                                                                                                                                                                                         #Person1# : 하지만 어떻게 제가 웹트래커에서 일하고 있다는 것을 알았나요?\\n#Person2# : LA에 있을 때, 저는 웹트래커의 영업 대표를 만났습니다.\\n#Person1# : 그는 당신에게 말하지 않았을 것입니다. 웹트래커에서는 저를 아는 사람이 몇 명 없습니다.\\n#Person2# : 영업 대표는 당신의 것과 똑같은 녹색 노트패드를 가지고 있었습니다. 그는 웹트래커의 모든 사람들이 그것을 사용한다고 말했습니다.\\n#Person1# : 믿을 수 없어요. 당신이 친 함정에 빠졌다는 것을 믿을 수 없어요.\\n#Person2# : 우리 둘 다 뱀일지라도, 데이브, 제가 좀 더 낫습니다. 뱀들 중에서, 저는 가장 교활합니다.                                                                                                                                                                                                                                                                                                                                                                                                           \n",
       "77   #Person1# : 안녕, 케빈!\\n#Person2# : 안녕, 로라, 오랜만이네! 요즘 뭐하고 지냈어?\\n#Person1# : 별로. 확신할 수 있어. 너는?\\n#Person2# : 나도 비슷한데, 큰 소식이 있어.\\n#Person1# : 어서 말해. 너무 긴장돼서 죽을 것 같아.\\n#Person2# : 아니, 정말로, 너는 이 몇 주 동안 뭐하고 있었어? 마지막에 널 봤을 때, 너는 새로운 일자리를 찾고 있었잖아.\\n#Person1# : 음, 사실 그건 아냐. 나는 직장을 옮기려고 생각하고 있었어. 다행히도, 회계 부서에서 새로운 직책을 제안해줬어.\\n#Person2# : 회사 생활에서 승진했네.\\n#Person1# : 과장이 아니라, 나 정말 기뻐. 나는 한동안 승진을 희망하고 있었어. 그래서 드디어 승진이 결정되었을 때, 나는 안도했어. 사실, 그게 내가 새로운 일자리를 찾고 있던 이유야. 그들이 내 노력을 인정하지 않는다면, 나는 더 이상 그곳에서 일하고 싶지 않았어.\\n#Person2# : 그렇지, 가끔 너의 최선을 다해도 다른 사람들은 너가 존재하는지 모르는 것 같아. 월급이 좀 올라간 거면 좋겠어.\\n#Person1# : 합리적인 인상을 받았어, 이제 나에 대해 충분히 얘기했으니. 너의 소식을 듣고 싶어 죽겠어.\\n#Person2# : 나 결혼하려고 해.\\n#Person1# : 아니, 너는 결혼하지 않겠다고 했잖아.\\n#Person2# : 그건 그때의 이야기고, 이건 지금의 이야기야. 너는 반드시 안드레아를 만나봐야 해, 그녀는 정말 대단해!\\n#Person1# : 이건 모두 나에게 새로운 소식이야. 너가 데이트를 하고 있다는 것조차 몰랐어.\\n#Person2# : 우리는 그렇지 않았어. 우리는 지금 두 주 동안 만나고 있었어.\\n#Person1# : 그리고 너는 결혼하려고 해?\\n#Person2# : 알아. 어쩔 수 없어. 그녀가 바로 내가 찾던 그 사람이라는 것을 알고 있어.\\n#Person1# : 그럼, 축하해! 정말 대단하다!\\n#Person2# : 고마워, 너도 그렇게 생각한다니 기쁘다.                                                                                                                                                                 \n",
       "..                                                                                                                                                                                                                                                                                                                                                                                                                                                                                                                                                                                                                                                                                                                                                                                                                                                                                                                                                                                                                                                                                                                                                                                                                                    ...   \n",
       "472                                                                                                                                                                                                                                                                                                                                                                                                                                                                                                                                                                                           #Person1# : 메리, 우리가 처음 만났던 날을 기억하니?<unk>\\n#Person2# : 절대 잊지 못해! 나 혼자서 카페테리아에 앉아 있었어...<unk>\\n#Person1# : 그리고 나는 네 옆에 앉아도 되는 지 물어봤었지...<unk>\\n#Person2# : 아, 마치 어제 일 같아.                                                                                                                                                                                                                                                                                                                                                                                                                                                                       \n",
       "452                                                                                                                                                                                                                                                                                                                                                                                                                                                                                                                                      #Person1# : 실례합니다. 가장 가까운 영화관에 어떻게 가는지 알려주실 수 있나요?<unk>\\n#Person2# : 두 번째 신호등에서 왼쪽으로 가세요. 찾으실 수 있을 거예요.<unk>\\n#Person1# : 거기에 가는 데 오래 걸리나요?<unk>\\n#Person2# : 아니요. 전혀 멀지 않아요.<unk>\\n#Person1# : 정말 감사합니다.<unk>\\n#Person2# : 괜찮아요. 좋은 하루 보내세요.                                                                                                                                                                                                                                                                                                                                                                                                                                                      \n",
       "209                                                                                                                                                                                                                                                                                                                                                                                                                                        #Person1# : 경찰관님, 문제가 있나요?\\n#Person2# : 빨간 불을 무시하고 운전해서 당신을 세웠습니다.\\n#Person1# : 정말 그랬나요?\\n#Person2# : 모르고 있었나요?\\n#Person1# : 무시했다는 사실을 전혀 몰랐습니다.\\n#Person2# : 노란 불이 느려지라는 뜻인 건 알고 있나요?\\n#Person1# : 네, 선생님.\\n#Person2# : 왜 오히려 속도를 높였나요?\\n#Person1# : 정말 변명할 수 없습니다, 선생님.\\n#Person2# : 벌금 티켓을 발행해야겠습니다.\\n#Person1# : 이해합니다, 그리고 정말 죄송합니다.\\n#Person2# : 여기 벌금 티켓입니다.                                                                                                                                                                                                                                                                                                                                                                                                                              \n",
       "367                                                                                                                                                                                                                                                                                                                                                                                                                                                                                                                                                                                             #Person1# : 안녕하세요. 무엇을 도와드릴까요, 선생님?\\n#Person2# : 네. 저는 뉴델리로 송금을 하고 싶습니다.\\n#Person1# : 국제환어음을 원하시나요, 아니면 은행어음을 원하시나요?\\n#Person2# : 은행 어음을 원합니다. 그다지 급한 일은 아닙니다.                                                                                                                                                                                                                                                                                                                                                                                                                                                                              \n",
       "0                                                                                                                                                                                                                                                                                                                                                                                                                                                                                                                                                                                                                                                                                                                                                                                                                                                                                                                                                                                                                                                                                                                                                                                                                                 AVERAGE   \n",
       "\n",
       "                                                                                                                                                        generated_text  \\\n",
       "187                                                                      <usr>#Person1# 은 #Person2# 에게 클라이드의 식기, 질보는 양고기와 감자, 그리고 꿀 와인을 소개합니다.</s>                       \n",
       "323                                     <usr>#Person1# 은 새로 이사 온 잭에게 식료품점을 찾고 있는지 묻습니다. 잭은 쇼핑 센터 맞은편에 세탁소가 있다고 말합니다.</s>                                                 \n",
       "349                                              <usr> 리사는 #Person1# 에게 출근할 때 차를 타지 않으며, 기차에서 할 수 있는 일들을 생각해보라고 제안한다.</s>                                                \n",
       "259                                                                   <usr> 데이브와 #Person1# 은 웹트래커의 영업 대표를 만났다. 그들은 서로의 장점을 비교한다.</s>                                     \n",
       "77   <usr> 케빈은 로라에게 그녀가 새로운 일자리를 찾고 있다고 말한다. 케빈은 그녀가 직장을 옮기려고 생각하고 있었지만 다행히도 회계 부서에서 새로운 직책을 제안받았기 때문에 승진을 하게 되었다. 그녀는 또한 안드레아를 만나기 위해 그녀를 만나고 싶어한다.</s>                 \n",
       "..                                                                                                                                                                 ...   \n",
       "472                                                                       <usr> 메리는 #Person1# 에게 카페테리아에서 처음 만났던 날을 회상한다.</s>                                             \n",
       "452                                                             <usr>#Person2# 는 #Person1# 에게 가장 가까운 영화관에 가는 방법을 알려줍니다.</s>                                              \n",
       "209                                                     <usr>#Person1# 은 빨간 불을 무시하고 운전했습니다. #Person2# 는 #Person1# 에게 벌금 티켓을 발행합니다.</s>                                   \n",
       "367                                                                            <usr>#Person2# 는 #Person1# 의 도움으로 뉴델리로 송금을 합니다.</s>                                       \n",
       "0                                                                                                                                                              AVERAGE   \n",
       "\n",
       "                                                                                                                                               label  \\\n",
       "187   #Person1# 과 클라이드, #Person3# 이 함께 식사를 하는데 클라이드가 첫 번째 흑인 대통령이 되고 싶다고 말합니다.</s>                                                                     \n",
       "323                 #Person2# 는 #Person1# 에게 식료품점, 세탁소, 그리고 이발소의 위치를 알려줍니다.</s>                                                                        \n",
       "349                            리사와 넷은 <unk>안 좋은 날씨에 어떻게 출근하는지에 대해 이야기한다.</s>                                                                           \n",
       "259                   Dave는 #Person2# 가 그가 웹트래커에서 일하고 있다는 것을 추론할 수 있다는 사실에 놀란다.</s>                                                                    \n",
       "77   로라와 케빈은 오랜만에 만나 서로의 최근 소식을 공유한다. 로라는 직장 승진과 월급 인상을 받았고, 케빈은 안드레아와 2주 동안 데이트한 후 결혼했다.</s>                                                          \n",
       "..                                                                                                                                               ...   \n",
       "472                                메리와 #Person1# 은 처음 만났던 날을 회상한다.</s>                                                                                 \n",
       "452                 #Person2# 는 #Person1# 에게 가장 가까운 영화관으로 가는 길을 알려줍니다.</s>                                                                             \n",
       "209                 #Person2# 는 빨간 불을 무시하고 운전한 #Person1# 에게 벌금 티켓을 발행했다.</s>                                                                           \n",
       "367                 #Person2# 는 #Person1# 의 도움으로 뉴델리로 은행 어음을 통해 송금을 합니다.</s>                                                                           \n",
       "0                                                                                                                                            AVERAGE   \n",
       "\n",
       "      rouge_1   rouge_2   rouge_l rouge_mean  \n",
       "187    0.0645    0.0000    0.0645     0.0430  \n",
       "323    0.0690    0.0000    0.0690     0.0460  \n",
       "349    0.0741    0.0000    0.0741     0.0494  \n",
       "259    0.0769    0.0000    0.0769     0.0513  \n",
       "77     0.0769    0.0000    0.0769     0.0513  \n",
       "..        ...       ...       ...        ...  \n",
       "472    0.6667    0.5000    0.6667     0.6111  \n",
       "452    0.7273    0.5000    0.7273     0.6515  \n",
       "209    0.7692    0.5000    0.7692     0.6795  \n",
       "367    0.7619    0.6316    0.7619     0.7185  \n",
       "0    0.339065  0.100955  0.319816   0.253279  \n",
       "\n",
       "[500 rows x 7 columns]"
      ]
     },
     "execution_count": 6,
     "metadata": {},
     "output_type": "execute_result"
    }
   ],
   "source": [
    "model_path = '/root/upstage-nlp-summarization-nlp2/results/checkpoint-2337'\n",
    "model_analyze = ModelAnalyze(config, tokenizer, device)\n",
    "result_df = model_analyze.get_result(val_dataset, model_path)\n",
    "result_df"
   ]
  },
  {
   "cell_type": "code",
   "execution_count": 7,
   "metadata": {},
   "outputs": [],
   "source": [
    "result_df.to_csv('/root/upstage-nlp-summarization-nlp2/submits/temp.csv', index=False)"
   ]
  }
 ],
 "metadata": {
  "kernelspec": {
   "display_name": "myvenv",
   "language": "python",
   "name": "python3"
  },
  "language_info": {
   "codemirror_mode": {
    "name": "ipython",
    "version": 3
   },
   "file_extension": ".py",
   "mimetype": "text/x-python",
   "name": "python",
   "nbconvert_exporter": "python",
   "pygments_lexer": "ipython3",
   "version": "3.10.14"
  }
 },
 "nbformat": 4,
 "nbformat_minor": 2
}
