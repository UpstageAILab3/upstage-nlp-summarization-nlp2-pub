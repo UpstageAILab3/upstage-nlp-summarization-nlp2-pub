{
 "cells": [
  {
   "cell_type": "code",
   "execution_count": 17,
   "metadata": {},
   "outputs": [
    {
     "name": "stdout",
     "output_type": "stream",
     "text": [
      "\"물론, 말씀, 천만, 감사, 친절\"\n"
     ]
    }
   ],
   "source": [
    "from keybert import KeyBERT\n",
    "from konlpy.tag import Kkma\n",
    "\n",
    "# KeyBERT 모델과 Kkma 형태소 분석기 초기화\n",
    "kw_model = KeyBERT(model='all-mpnet-base-v2')\n",
    "kkma = Kkma()\n",
    "\n",
    "def is_hangul(text):\n",
    "    # 한글인지 확인하는 함수 (한글 유니코드 범위: U+AC00 ~ U+D7A3)\n",
    "    return all('가' <= char <= '힣' for char in text)\n",
    "\n",
    "def extract_keywords(text, top_n=10, keyphrase_ngram_range=(1, 1), stop_words=None):\n",
    "    # KeyBERT를 사용하여 키워드 추출\n",
    "    keywords = kw_model.extract_keywords(text, \n",
    "                                         keyphrase_ngram_range=keyphrase_ngram_range, \n",
    "                                         stop_words=stop_words, \n",
    "                                         top_n=top_n)\n",
    "    \n",
    "    keywords_with_lemma = {}\n",
    "    for keyword, score in keywords:\n",
    "        # 형태소 분석 및 명사, 동사, 형용사만 추출\n",
    "        lemmas = kkma.pos(keyword, join=True)\n",
    "        filtered_lemmas = [lemma.split('/')[0] for lemma in lemmas \n",
    "                           if lemma.split('/')[1] in ['NNG', 'NNP', 'VA', 'VV']]\n",
    "        \n",
    "        # 중복된 키워드를 제거하고, 최고 점수만 유지\n",
    "        for lemma in filtered_lemmas:\n",
    "            if len(lemma) > 1 and is_hangul(lemma):  # 한글이면서 1글자 이상인 경우만\n",
    "                if lemma not in keywords_with_lemma or score > keywords_with_lemma[lemma]:\n",
    "                    keywords_with_lemma[lemma] = score\n",
    "\n",
    "    # 추출된 키워드와 점수를 정렬하여 반환\n",
    "    sorted_keywords = sorted(keywords_with_lemma.items(), key=lambda x: x[1], reverse=True)\n",
    "    return sorted_keywords\n",
    "\n",
    "text = \"\"\"\n",
    "#Person1#: 실례합니다, 열쇠 한 묶음 보셨나요?\n",
    "#Person2#: 어떤 종류의 열쇠인가요?\n",
    "#Person1#: 5개의 열쇠와 작은 발 장식이 있어요.\n",
    "#Person2#: 안타깝네요! 저는 보지 못했습니다.\n",
    "#Person1#: 그럼, 찾는 데 도와주실 수 있나요? 제가 여기는 처음이라서요.\n",
    "#Peson2#: 물론입니다. 기꺼이 도와드리겠습니다. 사라진 열쇠를 찾는 데 도와드리겠습니다.\n",
    "#Person1#: 정말 친절하시네요.\n",
    "#Person2#: 별 말씀을요. 어, 찾았어요.\n",
    "#Person1#: 오, 하느님 감사합니다! 어떻게 감사의 말씀을 드려야 할지 모르겠네요.\n",
    "#Person2#: 천만에요.\n",
    "\"\"\"\n",
    "\n",
    "keywords = extract_keywords(text, top_n=5)\n",
    "keywords_string = '\"' + ', '.join([f\"{keyword}\" for keyword, score in keywords]) + '\"'\n",
    "print(keywords_string)\n"
   ]
  },
  {
   "cell_type": "code",
   "execution_count": 15,
   "metadata": {},
   "outputs": [],
   "source": [
    "import pandas as pd\n",
    "\n",
    "def generate_summary(row):\n",
    "    text = row['dialogue']\n",
    "    keywords = extract_keywords(text, top_n=10)\n",
    "    summary = ', '.join([f\"{keyword}\" for keyword, score in keywords])\n",
    "    return summary\n",
    "\n",
    "df = pd.read_csv('/kkh/data/test.csv')\n",
    "df['summary'] = df.apply(generate_summary, axis=1)\n",
    "df = df.drop(columns=['dialogue'])\n",
    "df.to_csv('/kkh/data/kkh-submit.csv', index=False)"
   ]
  },
  {
   "cell_type": "code",
   "execution_count": null,
   "metadata": {},
   "outputs": [],
   "source": [
    "import pandas as pd\n",
    "\n",
    "def generate_keyword(row):\n",
    "    text = row['dialogue']\n",
    "    keywords = extract_keywords(text, top_n=10)\n",
    "    keyword = ', '.join([f\"{keyword}\" for keyword, score in keywords])\n",
    "    return keyword\n",
    "\n",
    "df = pd.read_csv('/kkh/data/test.csv')\n",
    "df['keyword'] = df.apply(generate_keyword, axis=1)\n",
    "# df = df.drop(columns=['dialogue'])\n",
    "df.to_csv('/kkh/data/test_keyword.csv', index=False)"
   ]
  }
 ],
 "metadata": {
  "kernelspec": {
   "display_name": "nlp",
   "language": "python",
   "name": "python3"
  },
  "language_info": {
   "codemirror_mode": {
    "name": "ipython",
    "version": 3
   },
   "file_extension": ".py",
   "mimetype": "text/x-python",
   "name": "python",
   "nbconvert_exporter": "python",
   "pygments_lexer": "ipython3",
   "version": "3.10.14"
  }
 },
 "nbformat": 4,
 "nbformat_minor": 2
}
