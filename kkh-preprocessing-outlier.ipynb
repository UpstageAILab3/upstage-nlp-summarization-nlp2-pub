{
 "cells": [
  {
   "cell_type": "code",
   "execution_count": 3,
   "metadata": {},
   "outputs": [],
   "source": [
    "import pandas as pd\n",
    "import re\n",
    "\n",
    "import platform\n",
    "\n",
    "os_name = platform.system()\n",
    "if os_name == 'Windows':\n",
    "    PRE_PATH = ''\n",
    "elif os_name == 'Linux':\n",
    "    PRE_PATH = '/kkh/'\n",
    "elif os_name == 'Darwin': # 맥\n",
    "    PRE_PATH = '/kkh/'\n",
    "\n",
    "DATA_PATH = PRE_PATH + \"data/\"\n",
    "TRAIN_PATH = DATA_PATH + 'train.csv'\n",
    "DEV_PATH = DATA_PATH + 'dev.csv'\n",
    "TRAIN_NEW_PATH = DATA_PATH + 'train_new.csv'\n",
    "DEV_NEW_PATH = DATA_PATH + 'dev_new.csv'"
   ]
  },
  {
   "cell_type": "markdown",
   "metadata": {},
   "source": [
    "## 발화 20개 초과되면 해당 학습 전체 삭제, 1개 발화에 2개 문장 초과되면 해당 학습 전체 삭제, 전체 단어 개수가 200가 초과되면 해당 학습 전체 삭제"
   ]
  },
  {
   "cell_type": "code",
   "execution_count": 11,
   "metadata": {},
   "outputs": [
    {
     "name": "stdout",
     "output_type": "stream",
     "text": [
      "Train 원본 데이터 행 수: 12457\n",
      "Train 필터링된 데이터 행 수: 8479\n",
      "Train 제거된 행 수: 3978\n",
      "Dev 원본 데이터 행 수: 499\n",
      "Dev 필터링된 데이터 행 수: 337\n",
      "Dev 제거된 행 수: 162\n"
     ]
    }
   ],
   "source": [
    "import os\n",
    "import re\n",
    "import platform\n",
    "import pandas as pd\n",
    "\n",
    "def filter_dialogue(dialogue):\n",
    "    # 발화 수 계산\n",
    "    utterance_count = len(re.findall(r'#Person\\d+#', dialogue))\n",
    "    \n",
    "    # 발화당 문장 수 계산\n",
    "    utterances = re.split(r'#Person\\d+#', dialogue)[1:]  # 첫 번째 요소는 빈 문자열\n",
    "    sentence_count_per_utterance = max([len(utterance.split('. ')) - 1 for utterance in utterances])\n",
    "    \n",
    "    # 대화당 단어 수 계산\n",
    "    word_count = len(dialogue.split())\n",
    "    \n",
    "    # 조건에 맞는지 필터링\n",
    "    if utterance_count <= 20 and sentence_count_per_utterance <= 2 and word_count <= 200:\n",
    "        return True\n",
    "    else:\n",
    "        return False\n",
    "\n",
    "def filter_data(file_path):\n",
    "    df = pd.read_csv(file_path)\n",
    "    \n",
    "    if 'dialogue' not in df.columns:\n",
    "        raise ValueError(\"'dialogue' 열이 CSV 파일에 없습니다.\")\n",
    "    \n",
    "    filtered_df = df[df['dialogue'].apply(filter_dialogue)]\n",
    "    \n",
    "    return filtered_df\n",
    "\n",
    "def print_row_counts(original_df, filtered_df, label):\n",
    "    print(f\"{label} 원본 데이터 행 수: {len(original_df)}\")\n",
    "    print(f\"{label} 필터링된 데이터 행 수: {len(filtered_df)}\")\n",
    "    print(f\"{label} 제거된 행 수: {len(original_df) - len(filtered_df)}\")\n",
    "\n",
    "if __name__ == \"__main__\":\n",
    "    os_name = platform.system()\n",
    "    if os_name == 'Windows':\n",
    "        PRE_PATH = ''\n",
    "    elif os_name == 'Linux':\n",
    "        PRE_PATH = '/kkh/'\n",
    "    elif os_name == 'Darwin':  # 맥\n",
    "        PRE_PATH = '/kkh/'\n",
    "\n",
    "    DATA_PATH = PRE_PATH + \"data/\"\n",
    "    train_file_path = DATA_PATH + 'train_new.csv'\n",
    "    dev_file_path = DATA_PATH + 'dev_new.csv'\n",
    "    \n",
    "    # Train 데이터 필터링 및 행 수 출력\n",
    "    original_train_df = pd.read_csv(train_file_path)\n",
    "    filtered_train_df = filter_data(train_file_path)\n",
    "    print_row_counts(original_train_df, filtered_train_df, \"Train\")\n",
    "    \n",
    "    # Dev 데이터 필터링 및 행 수 출력\n",
    "    original_dev_df = pd.read_csv(dev_file_path)\n",
    "    filtered_dev_df = filter_data(dev_file_path)\n",
    "    print_row_counts(original_dev_df, filtered_dev_df, \"Dev\")\n",
    "    \n",
    "    # 필터링된 데이터 저장\n",
    "    filtered_train_df.to_csv(DATA_PATH + 'train_new2.csv', index=False)\n",
    "    filtered_dev_df.to_csv(DATA_PATH + 'dev_new2.csv', index=False)\n"
   ]
  }
 ],
 "metadata": {
  "kernelspec": {
   "display_name": "base",
   "language": "python",
   "name": "python3"
  },
  "language_info": {
   "codemirror_mode": {
    "name": "ipython",
    "version": 3
   },
   "file_extension": ".py",
   "mimetype": "text/x-python",
   "name": "python",
   "nbconvert_exporter": "python",
   "pygments_lexer": "ipython3",
   "version": "3.10.14"
  }
 },
 "nbformat": 4,
 "nbformat_minor": 2
}
