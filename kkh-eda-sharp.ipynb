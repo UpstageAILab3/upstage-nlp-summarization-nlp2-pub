{
 "cells": [
  {
   "cell_type": "code",
   "execution_count": 1,
   "metadata": {},
   "outputs": [
    {
     "name": "stdout",
     "output_type": "stream",
     "text": [
      "train_839: #사람1만기 시 계정 갱신 서비스는 만기일이 다가오면 자동으로 갱신되며, 고객님이 직접 이곳에 오셔서 정리하실 필요가 없다는 뜻입니다. 여기에 서명만 하시면 저희가 모든 것을 설정해 드립니다.\n",
      "train_1125: 사람1#: 제니, 이번 금요일에, 음... 바쁘세요?\n",
      "train_1142: 사람1#: 실례합니다. 저는 STM에서 왔어요. 우리 도시의 교통에 대한 설문 조사를 하고 있는데, 몇 가지 질문해도 괜찮을까요?\n",
      "train_1213: #하지만 장기간의 무중력 상태, 음식 저장, 일련의 생리적 영향 등 해결해야 할 다른 큰 문제들이 아직 남아 있습니다.\n",
      "train_1236: #고객님, 크루즈 컨트롤에 대해 우려하는 고객들이 있다는 것을 알고 있습니다. 하지만 혼다는 크루즈 컨트롤 오작동으로 인한 사고가 단 한 건도 발생하지 않았습니다.\n",
      "train_1250: #여기 있습니다. 스티븐스 씨가 준비되었습니다. 이쪽 사무실로 안내해 드리겠습니다.\n",
      "train_1266: #고객님, 저희는 고객이 화나거나 불행한 상태로 머무는 것을 원치 않습니다.\n",
      "train_1278: #고객님, 죄송합니다만 계산대에서 계산하셔야 합니다. 저기 있습니다.\n",
      "train_1281: #잠깐만요, 버전 7 요구 사항을 불러올게요. . . 네, 저희의 예상이 고객님이 생각하신 것과 조금 다른 것은 당연하죠. 버전 7에는 버전 12에는 없던 호스티스 6명과 칵테일 셀프 서비스 바가 추가로 포함되어 있습니다. 이 프로젝트의 비용이 확실히 추가될 것입니다. . .\n",
      "train_1283: #어디 보자. 네, 그런 방이 두 개 남았습니다. 성함이 어떻게 되시나요?\n",
      "train_1301: #샐러드용 드레싱은 세 가지 종류가 있습니다. 이탈리안, 프렌치, 사우전드 아일랜드. 어떤 걸로 드시겠어요?\n",
      "train_1302: #페리에와 짐 빔 세 병씩 주세요.\n",
      "train_1306: #나 부엌에 있어. . . 들어와요!\n",
      "train_1322: #여기서 만나서 반갑습니다. 당신은 . . .\n",
      "train_1547: #작은 걸로 주세요.\n",
      "train_1609: #여기 있습니다.\n",
      "train_9547: #Person1: 성인을 대상으로 하는 책을 쓰는 계획이 있나요?\n",
      "train_9547: #Person2: 제 첫 두 소설은 성인 대상이었어요. 아마 또 다른 성인용 소설을 쓸 수도 있겠지만, 사실 제가 글을 쓸 때는 대상 독자를 상상하지 않아요. 아이디어가 먼저 나와요. 그래서 그 다음에 나에게 끌리는 아이디어에 따라 다를 거에요.\n",
      "train_9548: #Person2: 분명히 그럴 거에요. 그 매니저는 아직 한 번도 우리를 실망시킨 적이 없었어요.\n",
      "train_9548: #Person1: 우리는 좋은 인상을 남기고 싶어요. 이 비즈니스 거래가 성공적이기만을 위한 게 아니라, 작년 도쿄에서 받은 훌륭한 대우에 대한 보답을 하려고 해요.\"\n",
      "train_9750: Person1#: 이번 여름에 당신의 정원이 정말 아름답게 피어나 보이네요. 꽃들이 정말 다채롭네요.\n",
      "train_9779: Person1#: 우리 오늘 운이 좋네.\n"
     ]
    }
   ],
   "source": [
    "import pandas as pd\n",
    "import re\n",
    "import os\n",
    "import platform\n",
    "\n",
    "def extract_single_sharp_sentence(text):\n",
    "    # 개행으로 문장을 분리\n",
    "    sentences = text.split('\\n')\n",
    "    \n",
    "    # 샵(#)이 단 하나만 있는 문장을 추출\n",
    "    single_sharp_sentences = [sentence for sentence in sentences if sentence.count('#') == 1]\n",
    "    \n",
    "    return single_sharp_sentences\n",
    "\n",
    "def extract_single_sharp_from_file(file_path):\n",
    "    df = pd.read_csv(file_path)\n",
    "    \n",
    "    extracted_texts = []\n",
    "    for index, row in df.iterrows():\n",
    "        fname = row['fname']\n",
    "        text = row['dialogue']\n",
    "        single_sharp_sentences = extract_single_sharp_sentence(text)\n",
    "        \n",
    "        for sentence in single_sharp_sentences:\n",
    "            extracted_texts.append(f\"{fname}: {sentence.strip()}\")\n",
    "    \n",
    "    return extracted_texts\n",
    "\n",
    "if __name__ == \"__main__\":\n",
    "    os_name = platform.system()\n",
    "    if os_name == 'Windows':\n",
    "        PRE_PATH = ''\n",
    "    elif os_name == 'Linux':\n",
    "        PRE_PATH = '/kkh/'\n",
    "    elif os_name == 'Darwin':  # 맥\n",
    "        PRE_PATH = '/kkh/'\n",
    "\n",
    "    DATA_PATH = PRE_PATH + \"data/\"\n",
    "    file_path = DATA_PATH + 'train.csv'\n",
    "    \n",
    "    # 파일에서 샵(#)이 단 하나만 등장하는 문장을 추출하여 출력합니다.\n",
    "    single_sharp_texts = extract_single_sharp_from_file(file_path)\n",
    "    for text in single_sharp_texts:\n",
    "        print(text)"
   ]
  }
 ],
 "metadata": {
  "kernelspec": {
   "display_name": "nlp",
   "language": "python",
   "name": "python3"
  },
  "language_info": {
   "codemirror_mode": {
    "name": "ipython",
    "version": 3
   },
   "file_extension": ".py",
   "mimetype": "text/x-python",
   "name": "python",
   "nbconvert_exporter": "python",
   "pygments_lexer": "ipython3",
   "version": "3.10.14"
  }
 },
 "nbformat": 4,
 "nbformat_minor": 2
}
