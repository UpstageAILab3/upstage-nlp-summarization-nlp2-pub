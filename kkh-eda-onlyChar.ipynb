{
 "cells": [
  {
   "cell_type": "markdown",
   "metadata": {},
   "source": [
    "## 모음 또는 자음만 적힌 경우(train)"
   ]
  },
  {
   "cell_type": "code",
   "execution_count": 4,
   "metadata": {},
   "outputs": [
    {
     "name": "stdout",
     "output_type": "stream",
     "text": [
      "File: train_3154\n",
      "Utterance: #Person1#: 속았어! ㅋㅋ.. 완전 속았어. \n",
      "----------------------------------------\n",
      "File: train_5385\n",
      "Utterance: #Person2#: 먼저, 이것은 19세기 초 배경ㅇ로 설정된 로맨스 소설이에요.\n",
      "----------------------------------------\n",
      "File: train_5429\n",
      "Utterance: #Person2#: ㅋㅋ\n",
      "----------------------------------------\n",
      "File: train_6942\n",
      "Utterance: #Person2#: 'ㅣ'로 끝나는 이탈리아 이름 같네요. \n",
      "----------------------------------------\n",
      "File: train_7201\n",
      "Utterance: #Person1#: 편집장이 제ㅏ 다른 잡지에서 편집자로 일했던 경험이 있다는 걸 듣고, 그가 도우미 편집자가 되고 싶냐고 물어봤어요.\n",
      "----------------------------------------\n",
      "File: train_9677\n",
      "Utterance: #Person1#: 이제 그만. 너는 아직ㅍ알맞는 사람을 만나지 못했을 뿐이고, 너는 너무 많이 일하는 것 같아. 너는 어떻게 즐기고 삶을 즐기는 법을 배워야 해.\n",
      "----------------------------------------\n",
      "File: train_12181\n",
      "Utterance: #Person1#: 아무것도 안 했어. 그는 결국 나갔어. 그런데 오늘 또 그를 봤어. 신발 가게 밖에서. 카페 근처에서. 나는 CD 가게에 들어가서 CD를 보는 척했ㄷ거든. 그런데 그도 들어왔어.\n",
      "----------------------------------------\n"
     ]
    }
   ],
   "source": [
    "import pandas as pd\n",
    "import re\n",
    "\n",
    "def find_incomplete_hangul(file_path):\n",
    "    df = pd.read_csv(file_path)\n",
    "    \n",
    "    if 'dialogue' not in df.columns:\n",
    "        raise ValueError(\"'dialogue' 열이 CSV 파일에 없습니다.\")\n",
    "    \n",
    "    # 한글 자음과 모음의 유니코드 범위 정의\n",
    "    consonants_and_vowels_pattern = re.compile(r'[ㄱ-ㅎㅏ-ㅣ]+')\n",
    "    \n",
    "    results = []\n",
    "\n",
    "    for _, row in df.iterrows():\n",
    "        fname = row['fname']\n",
    "        dialogue = row['dialogue']\n",
    "        \n",
    "        # 발화 단위로 분리\n",
    "        utterances = dialogue.split('\\n')  # 각 발화는 줄바꿈으로 구분된다고 가정\n",
    "\n",
    "        for utterance in utterances:\n",
    "            # 자음과 모음으로만 이루어진 문자열을 찾기 위한 정규 표현식\n",
    "            incomplete_hangul = re.findall(consonants_and_vowels_pattern, utterance)\n",
    "            \n",
    "            if incomplete_hangul:\n",
    "                results.append((fname, utterance))\n",
    "    \n",
    "    return results\n",
    "\n",
    "if __name__ == \"__main__\":\n",
    "    import platform\n",
    "    \n",
    "    os_name = platform.system()\n",
    "    if os_name == 'Windows':\n",
    "        PRE_PATH = ''\n",
    "    elif os_name == 'Linux':\n",
    "        PRE_PATH = '/kkh/'\n",
    "    elif os_name == 'Darwin': # 맥\n",
    "        PRE_PATH = '/kkh/'\n",
    "\n",
    "    DATA_PATH = PRE_PATH + \"data/\"\n",
    "    file_path = DATA_PATH + 'train.csv'  # 또는 'dev.csv'로 변경 가능\n",
    "    \n",
    "    # 불완전한 한글 찾기\n",
    "    incomplete_hangul_results = find_incomplete_hangul(file_path)\n",
    "    \n",
    "    # 결과 출력\n",
    "    if incomplete_hangul_results:\n",
    "        for fname, utterance in incomplete_hangul_results:\n",
    "            print(f\"File: {fname}\")\n",
    "            print(f\"Utterance: {utterance}\")\n",
    "            print(\"-\" * 40)\n",
    "    else:\n",
    "        print(\"No incomplete Hangul characters found.\")\n"
   ]
  },
  {
   "cell_type": "markdown",
   "metadata": {},
   "source": [
    "## 모음 또는 자음만 적힌 경우(dev)"
   ]
  },
  {
   "cell_type": "code",
   "execution_count": 3,
   "metadata": {},
   "outputs": [
    {
     "name": "stdout",
     "output_type": "stream",
     "text": [
      "No incomplete Hangul characters found.\n"
     ]
    }
   ],
   "source": [
    "import pandas as pd\n",
    "import re\n",
    "\n",
    "def find_incomplete_hangul(file_path):\n",
    "    df = pd.read_csv(file_path)\n",
    "    \n",
    "    if 'dialogue' not in df.columns:\n",
    "        raise ValueError(\"'dialogue' 열이 CSV 파일에 없습니다.\")\n",
    "    \n",
    "    # 한글 자음과 모음의 유니코드 범위 정의\n",
    "    consonants_and_vowels_pattern = re.compile(r'[ㄱ-ㅎㅏ-ㅣ]+')\n",
    "    \n",
    "    results = []\n",
    "\n",
    "    for _, row in df.iterrows():\n",
    "        fname = row['fname']\n",
    "        dialogue = row['dialogue']\n",
    "        \n",
    "        # 발화 단위로 분리\n",
    "        utterances = dialogue.split('\\n')  # 각 발화는 줄바꿈으로 구분된다고 가정\n",
    "\n",
    "        for utterance in utterances:\n",
    "            # 자음과 모음으로만 이루어진 문자열을 찾기 위한 정규 표현식\n",
    "            incomplete_hangul = re.findall(consonants_and_vowels_pattern, utterance)\n",
    "            \n",
    "            if incomplete_hangul:\n",
    "                results.append((fname, utterance))\n",
    "    \n",
    "    return results\n",
    "\n",
    "if __name__ == \"__main__\":\n",
    "    import platform\n",
    "    \n",
    "    os_name = platform.system()\n",
    "    if os_name == 'Windows':\n",
    "        PRE_PATH = ''\n",
    "    elif os_name == 'Linux':\n",
    "        PRE_PATH = '/kkh/'\n",
    "    elif os_name == 'Darwin': # 맥\n",
    "        PRE_PATH = '/kkh/'\n",
    "\n",
    "    DATA_PATH = PRE_PATH + \"data/\"\n",
    "    file_path = DATA_PATH + 'dev.csv'  # 또는 'dev.csv'로 변경 가능\n",
    "    \n",
    "    # 불완전한 한글 찾기\n",
    "    incomplete_hangul_results = find_incomplete_hangul(file_path)\n",
    "    \n",
    "    # 결과 출력\n",
    "    if incomplete_hangul_results:\n",
    "        for fname, utterance in incomplete_hangul_results:\n",
    "            print(f\"File: {fname}\")\n",
    "            print(f\"Utterance: {utterance}\")\n",
    "            print(\"-\" * 40)\n",
    "    else:\n",
    "        print(\"No incomplete Hangul characters found.\")\n"
   ]
  }
 ],
 "metadata": {
  "kernelspec": {
   "display_name": "nlp",
   "language": "python",
   "name": "python3"
  },
  "language_info": {
   "codemirror_mode": {
    "name": "ipython",
    "version": 3
   },
   "file_extension": ".py",
   "mimetype": "text/x-python",
   "name": "python",
   "nbconvert_exporter": "python",
   "pygments_lexer": "ipython3",
   "version": "3.10.14"
  }
 },
 "nbformat": 4,
 "nbformat_minor": 2
}
