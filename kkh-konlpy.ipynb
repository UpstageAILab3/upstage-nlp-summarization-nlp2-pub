{
 "cells": [
  {
   "cell_type": "markdown",
   "metadata": {},
   "source": [
    "- apt install -y openjdk-11-jdk\n",
    "- pip install konlpy"
   ]
  },
  {
   "cell_type": "code",
   "execution_count": 1,
   "metadata": {},
   "outputs": [
    {
     "name": "stdout",
     "output_type": "stream",
     "text": [
      "Kkma 형태소 분석 결과:\n",
      "['오늘', '날씨', '가', '참', '좋', '네요', '.', '여러분', ',', '기분', '이', '어', '어', '떠세', '이', '요', '?']\n",
      "[('오늘', 'NNG'), ('날씨', 'NNG'), ('가', 'JKS'), ('참', 'MAG'), ('좋', 'VA'), ('네요', 'EFN'), ('.', 'SF'), ('여러분', 'NP'), (',', 'SP'), ('기분', 'NNG'), ('이', 'JKS'), ('어', 'VV'), ('어', 'ECS'), ('떠세', 'NNG'), ('이', 'VCP'), ('요', 'EFN'), ('?', 'SF')]\n",
      "['오늘', '날씨', '여러분', '기분', '떠세']\n",
      "\n",
      "Okt 형태소 분석 결과:\n",
      "['오늘', '날씨', '가', '참', '좋네요', '.', '여러분', ',', '기분', '이', '어떠세요', '?']\n",
      "[('오늘', 'Noun'), ('날씨', 'Noun'), ('가', 'Josa'), ('참', 'Verb'), ('좋네요', 'Adjective'), ('.', 'Punctuation'), ('여러분', 'Noun'), (',', 'Punctuation'), ('기분', 'Noun'), ('이', 'Josa'), ('어떠세요', 'Adjective'), ('?', 'Punctuation')]\n",
      "['오늘', '날씨', '여러분', '기분']\n",
      "\n",
      "Hannanum 형태소 분석 결과:\n",
      "['오늘', '날씨', '가', '참', '좋', '네', '요', '.', '여러분', ',', '기분', '이', '어떠세요', '?']\n",
      "[('오늘', 'N'), ('날씨', 'N'), ('가', 'J'), ('참', 'M'), ('좋', 'P'), ('네', 'E'), ('요', 'J'), ('.', 'S'), ('여러분', 'N'), (',', 'S'), ('기분', 'N'), ('이', 'J'), ('어떠세요', 'N'), ('?', 'S')]\n",
      "['오늘', '날씨', '여러분', '기분', '어떠세요']\n",
      "\n",
      "Komoran 형태소 분석 결과:\n",
      "['오늘', '날씨', '가', '참', '좋', '네요', '.', '여러분', ',', '기분', '이', '어떻', '시', '어요', '?']\n",
      "[('오늘', 'NNG'), ('날씨', 'NNG'), ('가', 'JKS'), ('참', 'MAG'), ('좋', 'VA'), ('네요', 'EF'), ('.', 'SF'), ('여러분', 'NNP'), (',', 'SP'), ('기분', 'NNG'), ('이', 'JKS'), ('어떻', 'VA'), ('시', 'EP'), ('어요', 'EF'), ('?', 'SF')]\n",
      "['오늘', '날씨', '여러분', '기분']\n"
     ]
    }
   ],
   "source": [
    "from konlpy.tag import Kkma, Okt, Hannanum, Komoran\n",
    "\n",
    "# 형태소 분석기 객체 생성\n",
    "kkma = Kkma()\n",
    "okt = Okt()\n",
    "hannanum = Hannanum()\n",
    "komoran = Komoran()\n",
    "\n",
    "# 테스트 문장\n",
    "text = \"오늘 날씨가 참 좋네요. 여러분, 기분이 어떠세요?\"\n",
    "\n",
    "# Kkma 형태소 분석 결과\n",
    "print(\"Kkma 형태소 분석 결과:\")\n",
    "print(kkma.morphs(text))\n",
    "print(kkma.pos(text))\n",
    "print(kkma.nouns(text))\n",
    "\n",
    "# Okt 형태소 분석 결과\n",
    "print(\"\\nOkt 형태소 분석 결과:\")\n",
    "print(okt.morphs(text))\n",
    "print(okt.pos(text))\n",
    "print(okt.nouns(text))\n",
    "\n",
    "# Hannanum 형태소 분석 결과\n",
    "print(\"\\nHannanum 형태소 분석 결과:\")\n",
    "print(hannanum.morphs(text))\n",
    "print(hannanum.pos(text))\n",
    "print(hannanum.nouns(text))\n",
    "\n",
    "# Komoran 형태소 분석 결과\n",
    "print(\"\\nKomoran 형태소 분석 결과:\")\n",
    "print(komoran.morphs(text))\n",
    "print(komoran.pos(text))\n",
    "print(komoran.nouns(text))\n"
   ]
  }
 ],
 "metadata": {
  "kernelspec": {
   "display_name": "nlp",
   "language": "python",
   "name": "python3"
  },
  "language_info": {
   "codemirror_mode": {
    "name": "ipython",
    "version": 3
   },
   "file_extension": ".py",
   "mimetype": "text/x-python",
   "name": "python",
   "nbconvert_exporter": "python",
   "pygments_lexer": "ipython3",
   "version": "3.10.14"
  }
 },
 "nbformat": 4,
 "nbformat_minor": 2
}
