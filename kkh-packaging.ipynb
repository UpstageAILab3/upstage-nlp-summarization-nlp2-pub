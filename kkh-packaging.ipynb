{
 "cells": [
  {
   "cell_type": "code",
   "execution_count": 1,
   "metadata": {},
   "outputs": [],
   "source": [
    "import pandas as pd\n",
    "import re\n",
    "import csv\n",
    "\n",
    "def post_process_summary(summary):\n",
    "    summary = re.sub(r'#([A-Za-z0-9_]+)#\\s+(은|는|이|가|을|를|에|에게|의|로|으로)', r'#\\1#\\2', summary)\n",
    "    summary = summary.strip()\n",
    "    return summary\n",
    "df = pd.read_csv('/kkh/submission/output_4490.csv')\n",
    "df['summary'] = df['summary'].apply(post_process_summary)\n",
    "df.to_csv('/kkh/submission/output_4490_packaging.csv', index=False)\n"
   ]
  },
  {
   "cell_type": "code",
   "execution_count": 2,
   "metadata": {},
   "outputs": [],
   "source": [
    "def post_process_summary(text):\n",
    "    # 문자열 내 쌍따옴표 제거\n",
    "    text = text.replace('\"', '')\n",
    "    # `\\`와 `,` 사이에 있는 `\\` 제거\n",
    "    text = re.sub(r'\\\\,', ',', text)\n",
    "    return text\n",
    "\n",
    "def process_csv(input_file, output_file):\n",
    "    with open(input_file, 'r', encoding='utf-8') as file:\n",
    "        lines = file.readlines()\n",
    "    with open(output_file, 'w', encoding='utf-8', newline='') as file:\n",
    "        for line in lines:\n",
    "            parts = line.strip().split(',', 1)\n",
    "            if len(parts) == 2:\n",
    "                fname, summary = parts\n",
    "                summary = summary.strip()\n",
    "                summary = post_process_summary(summary)\n",
    "                file.write(f'{fname},{summary}\\n')\n",
    "\n",
    "input_file = '/kkh/submission/output_4490_packaging.csv'\n",
    "output_file = '/kkh/submission/output_4490_packaging.csv'\n",
    "process_csv(input_file, output_file)\n"
   ]
  }
 ],
 "metadata": {
  "kernelspec": {
   "display_name": "base",
   "language": "python",
   "name": "python3"
  },
  "language_info": {
   "codemirror_mode": {
    "name": "ipython",
    "version": 3
   },
   "file_extension": ".py",
   "mimetype": "text/x-python",
   "name": "python",
   "nbconvert_exporter": "python",
   "pygments_lexer": "ipython3",
   "version": "3.10.14"
  }
 },
 "nbformat": 4,
 "nbformat_minor": 2
}
