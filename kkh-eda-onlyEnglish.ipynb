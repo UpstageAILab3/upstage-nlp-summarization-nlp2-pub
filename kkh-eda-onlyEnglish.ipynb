{
 "cells": [
  {
   "cell_type": "code",
   "execution_count": null,
   "metadata": {},
   "outputs": [],
   "source": [
    "import pandas as pd\n",
    "import re\n",
    "import os\n",
    "import platform\n",
    "\n",
    "def extract_english_text(text):\n",
    "    # #...# 패턴을 제거한 후 남은 영어 단어 또는 문장 추출\n",
    "    pattern_remove = r\"#\\w+#\"\n",
    "    text_without_keywords = re.sub(pattern_remove, '', text)\n",
    "    \n",
    "    # 영어로 구성된 단어 또는 문장을 찾기 위한 패턴\n",
    "    pattern_english = r\"[a-zA-Z\\s]+\"\n",
    "    english_text = re.findall(pattern_english, text_without_keywords)\n",
    "    \n",
    "    # 결과를 리스트로 반환, 공백만 있는 항목은 제외\n",
    "    return [item.strip() for item in english_text if item.strip()]\n",
    "\n",
    "def extract_english_from_file(file_path):\n",
    "    df = pd.read_csv(file_path)\n",
    "    \n",
    "    extracted_texts = []\n",
    "    for index, row in df.iterrows():\n",
    "        fname = row['fname']\n",
    "        text = row['dialogue']\n",
    "        english_texts = extract_english_text(text)\n",
    "        \n",
    "        for sentence in english_texts:\n",
    "            extracted_texts.append(f\"{fname}: {sentence}\")\n",
    "    \n",
    "    return extracted_texts\n",
    "if __name__ == \"__main__\":\n",
    "    os_name = platform.system()\n",
    "    if os_name == 'Windows':\n",
    "        PRE_PATH = ''\n",
    "    elif os_name == 'Linux':\n",
    "        PRE_PATH = '/kkh/'\n",
    "    elif os_name == 'Darwin': # 맥\n",
    "        PRE_PATH = '/kkh/'\n",
    "\n",
    "    DATA_PATH = PRE_PATH + \"data/\"\n",
    "    file_path = DATA_PATH + 'train.csv'\n",
    "    \n",
    "    # 파일에서 영어 단어나 문장을 추출하여 출력합니다.\n",
    "    english_texts = extract_english_from_file(file_path)\n",
    "    for text in english_texts:\n",
    "        print(text)"
   ]
  }
 ],
 "metadata": {
  "language_info": {
   "name": "python"
  }
 },
 "nbformat": 4,
 "nbformat_minor": 2
}
