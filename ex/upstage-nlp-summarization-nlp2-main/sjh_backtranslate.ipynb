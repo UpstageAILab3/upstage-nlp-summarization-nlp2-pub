{
 "cells": [
  {
   "cell_type": "code",
   "execution_count": 1,
   "metadata": {},
   "outputs": [],
   "source": [
    "import pandas as pd\n",
    "import os\n",
    "import re\n",
    "import json\n",
    "import yaml\n",
    "from glob import glob\n",
    "from tqdm import tqdm\n",
    "from pprint import pprint\n",
    "import torch\n",
    "import pytorch_lightning as pl\n",
    "from rouge import Rouge # 모델의 성능을 평가하기 위한 라이브러리입니다.\n",
    "\n",
    "from torch.utils.data import Dataset , DataLoader\n",
    "from transformers import AutoTokenizer, BartForConditionalGeneration, BartConfig\n",
    "from transformers import Seq2SeqTrainingArguments, Seq2SeqTrainer\n",
    "from transformers import Trainer, TrainingArguments\n",
    "from transformers import EarlyStoppingCallback\n",
    "\n",
    "import wandb # 모델 학습 과정을 손쉽게 Tracking하고, 시각화할 수 있는 라이브러리입니다."
   ]
  },
  {
   "cell_type": "code",
   "execution_count": 2,
   "metadata": {},
   "outputs": [],
   "source": [
    "from googletrans import Translator\n",
    "import re"
   ]
  },
  {
   "cell_type": "code",
   "execution_count": 3,
   "metadata": {},
   "outputs": [
    {
     "data": {
      "text/plain": [
       "'#Person1#: 안녕하세요, 박 씨, 잘 지내세요?\\n#Person2#: 안녕하세요, 피터스 박사님 헬로 감사합니다.\\n#Person1#: Ricky의 예방 접종 기록은 이미 소아마비, Dicks 및 B 형 간염에 대한 예방 접종을 받았으며, 14 개월이므로 A 형 간염, 수두 및 홍역을 위해 예방 접종을 받아야합니다.\\n#Person2#: 풍진과 명소는 무엇입니까?\\n#Person1#: 이 백신은 지금받을 수 있으며 나머지는 몇 주 안에 받아야합니다.\\n#Person2#: 좋아, 박사님, 독재 백신이 필요하다고 생각합니다. 15 년 전이었습니다.\\n#Person1#: 나는 당신의 기록을 확인하고 간호사에게 부스터를 접종 할 것입니다.'"
      ]
     },
     "execution_count": 3,
     "metadata": {},
     "output_type": "execute_result"
    }
   ],
   "source": [
    "def backtranslate_with_placeholders(text, src_lang='ko', target_lang='en'):\n",
    "    text = text.split('\\n')\n",
    "    length = len(text)\n",
    "\n",
    "    translator = Translator()\n",
    "\n",
    "    result = ''\n",
    "\n",
    "    for i in range(length):\n",
    "        person = text[i][:11]\n",
    "        dia = text[i][11:]\n",
    "        try:\n",
    "            translate_text = translator.translate(dia, src=src_lang, dest=target_lang).text\n",
    "            back_translate_text = translator.translate(translate_text, src=target_lang, dest=src_lang).text\n",
    "        except Exception as e:\n",
    "            print(f\"An error occurred during translation: {e}\")\n",
    "            return -1\n",
    "        test_result = person + back_translate_text  \n",
    "        \n",
    "        if i != length - 1:\n",
    "            test_result = test_result + '\\n'\n",
    "\n",
    "        result = result + test_result\n",
    "\n",
    "    return result\n",
    "        \n",
    "input_text = \"#Person1#: 안녕하세요, 박씨, 어떻게 지내세요?\\n#Person2#: 안녕하세요, 피터스 박사님. 안녕하세요, 감사합니다. 리키와 저는 예방 접종을 받으러 여기 왔어요.\\n#Person1#: 알겠어요. 리키의 예방 접종 이력을 보니 이미 소아마비, 딕테리아 및 B형간염 예방접종을 받았네요. 그는 14개월이니 이제 A형간염, 수두 및 홍역 예방접종을 받아야 해요.\\n#Person2#: 풍진 및 볼거리는 어떻게 되죠?\\n#Person1#: 이 백신들은 지금 받을 수 있고 나머지는 몇 주 후에 받아야 해요.\\n#Person2#: 알겠어요, 박사님, 딕테리아 백신도 필요할 것 같아요. 마지막으로 맞은 게 15년 전이에요!\\n#Person1#: 당신의 기록을 확인하고 간호사에게 부스터를 접종하도록 하겠습니다. 이제 리키의 팔을 꽉 잡아 주세요. 조금 따가울 수 있어요.\"\n",
    "backtranslated_text = backtranslate_with_placeholders(input_text)\n",
    "backtranslated_text"
   ]
  },
  {
   "cell_type": "code",
   "execution_count": 4,
   "metadata": {},
   "outputs": [],
   "source": [
    "df = pd.read_csv(\"/data/ephemeral/home/data/train.csv\")"
   ]
  },
  {
   "cell_type": "code",
   "execution_count": 5,
   "metadata": {},
   "outputs": [],
   "source": [
    "# for i in range(len(df)):\n",
    "#     fname = f'train_{i}'\n",
    "#     df.loc[i, 'fname'] = fname"
   ]
  },
  {
   "cell_type": "code",
   "execution_count": 6,
   "metadata": {},
   "outputs": [],
   "source": [
    "# df.to_csv(\"/data/ephemeral/home/data/train.csv\", index=False)"
   ]
  },
  {
   "cell_type": "code",
   "execution_count": 7,
   "metadata": {},
   "outputs": [
    {
     "data": {
      "text/html": [
       "<div>\n",
       "<style scoped>\n",
       "    .dataframe tbody tr th:only-of-type {\n",
       "        vertical-align: middle;\n",
       "    }\n",
       "\n",
       "    .dataframe tbody tr th {\n",
       "        vertical-align: top;\n",
       "    }\n",
       "\n",
       "    .dataframe thead th {\n",
       "        text-align: right;\n",
       "    }\n",
       "</style>\n",
       "<table border=\"1\" class=\"dataframe\">\n",
       "  <thead>\n",
       "    <tr style=\"text-align: right;\">\n",
       "      <th></th>\n",
       "      <th>fname</th>\n",
       "      <th>dialogue</th>\n",
       "      <th>summary</th>\n",
       "      <th>topic</th>\n",
       "    </tr>\n",
       "  </thead>\n",
       "  <tbody>\n",
       "    <tr>\n",
       "      <th>0</th>\n",
       "      <td>train_0</td>\n",
       "      <td>#Person1#: 안녕하세요, 스미스씨. 저는 호킨스 의사입니다. 오늘 왜 오셨나...</td>\n",
       "      <td>스미스씨가 건강검진을 받고 있고, 호킨스 의사는 매년 건강검진을 받는 것을 권장합니...</td>\n",
       "      <td>건강검진 받기</td>\n",
       "    </tr>\n",
       "    <tr>\n",
       "      <th>1</th>\n",
       "      <td>train_1</td>\n",
       "      <td>#Person1#: 안녕하세요, 파커 부인, 어떻게 지내셨나요?\\n#Person2#...</td>\n",
       "      <td>파커 부인이 리키를 데리고 백신 접종을 하러 갔다. 피터스 박사는 기록을 확인한 후...</td>\n",
       "      <td>백신</td>\n",
       "    </tr>\n",
       "    <tr>\n",
       "      <th>2</th>\n",
       "      <td>train_2</td>\n",
       "      <td>#Person1#: 실례합니다, 열쇠 한 묶음 보셨나요?\\n#Person2#: 어떤...</td>\n",
       "      <td>#Person1#은 열쇠 한 묶음을 찾고 있고, 그것을 찾기 위해 #Person2#...</td>\n",
       "      <td>열쇠 찾기</td>\n",
       "    </tr>\n",
       "    <tr>\n",
       "      <th>3</th>\n",
       "      <td>train_3</td>\n",
       "      <td>#Person1#: 왜 너는 여자친구가 있다는 걸 말해주지 않았어?\\n#Person...</td>\n",
       "      <td>#Person1#은 #Person2#가 여자친구가 있고 그녀와 결혼할 것이라는 사실...</td>\n",
       "      <td>여자친구가 있다</td>\n",
       "    </tr>\n",
       "    <tr>\n",
       "      <th>4</th>\n",
       "      <td>train_4</td>\n",
       "      <td>#Person1#: 안녕, 숙녀분들! 오늘 밤 당신들은 정말 멋져 보여. 이 춤을 ...</td>\n",
       "      <td>말릭이 니키에게 춤을 요청한다. 말릭이 발을 밟는 것을 신경 쓰지 않는다면 니키는 ...</td>\n",
       "      <td>댄스</td>\n",
       "    </tr>\n",
       "    <tr>\n",
       "      <th>...</th>\n",
       "      <td>...</td>\n",
       "      <td>...</td>\n",
       "      <td>...</td>\n",
       "      <td>...</td>\n",
       "    </tr>\n",
       "    <tr>\n",
       "      <th>12452</th>\n",
       "      <td>train_12452</td>\n",
       "      <td>#Person1#: 실례합니다. 맨체스터 출신의 그린 씨이신가요?\\n#Person2...</td>\n",
       "      <td>탄 링은 흰머리와 수염으로 쉽게 인식되는 그린 씨를 만나 호텔로 데려갈 예정입니다....</td>\n",
       "      <td>누군가를 태우다</td>\n",
       "    </tr>\n",
       "    <tr>\n",
       "      <th>12453</th>\n",
       "      <td>train_12453</td>\n",
       "      <td>#Person1#: 이윙 씨가 우리가 컨퍼런스 센터에 오후 4시에 도착해야 한다고 ...</td>\n",
       "      <td>#Person1#과 #Person2#는 이윙 씨가 늦지 않도록 요청했기 때문에 컨퍼...</td>\n",
       "      <td>컨퍼런스 센터</td>\n",
       "    </tr>\n",
       "    <tr>\n",
       "      <th>12454</th>\n",
       "      <td>train_12454</td>\n",
       "      <td>#Person1#: 오늘 어떻게 도와드릴까요?\\n#Person2#: 차를 빌리고 싶...</td>\n",
       "      <td>#Person2#는 #Person1#의 도움으로 5일 동안 소형 차를 빌립니다.</td>\n",
       "      <td>차 렌트</td>\n",
       "    </tr>\n",
       "    <tr>\n",
       "      <th>12455</th>\n",
       "      <td>train_12455</td>\n",
       "      <td>#Person1#: 오늘 좀 행복해 보이지 않아. 무슨 일 있어?\\n#Person2...</td>\n",
       "      <td>#Person2#의 엄마가 일자리를 잃었다. #Person2#는 엄마가 우울해하지 ...</td>\n",
       "      <td>실직</td>\n",
       "    </tr>\n",
       "    <tr>\n",
       "      <th>12456</th>\n",
       "      <td>train_12456</td>\n",
       "      <td>#Person1#: 엄마, 다음 토요일에 이 삼촌네 가족을 방문하기 위해 비행기를 ...</td>\n",
       "      <td>#Person1#은 다음 토요일에 이 삼촌네를 방문할 때 가방을 어떻게 싸야 할지 ...</td>\n",
       "      <td>짐 싸기</td>\n",
       "    </tr>\n",
       "  </tbody>\n",
       "</table>\n",
       "<p>12457 rows × 4 columns</p>\n",
       "</div>"
      ],
      "text/plain": [
       "             fname                                           dialogue  \\\n",
       "0          train_0  #Person1#: 안녕하세요, 스미스씨. 저는 호킨스 의사입니다. 오늘 왜 오셨나...   \n",
       "1          train_1  #Person1#: 안녕하세요, 파커 부인, 어떻게 지내셨나요?\\n#Person2#...   \n",
       "2          train_2  #Person1#: 실례합니다, 열쇠 한 묶음 보셨나요?\\n#Person2#: 어떤...   \n",
       "3          train_3  #Person1#: 왜 너는 여자친구가 있다는 걸 말해주지 않았어?\\n#Person...   \n",
       "4          train_4  #Person1#: 안녕, 숙녀분들! 오늘 밤 당신들은 정말 멋져 보여. 이 춤을 ...   \n",
       "...            ...                                                ...   \n",
       "12452  train_12452  #Person1#: 실례합니다. 맨체스터 출신의 그린 씨이신가요?\\n#Person2...   \n",
       "12453  train_12453  #Person1#: 이윙 씨가 우리가 컨퍼런스 센터에 오후 4시에 도착해야 한다고 ...   \n",
       "12454  train_12454  #Person1#: 오늘 어떻게 도와드릴까요?\\n#Person2#: 차를 빌리고 싶...   \n",
       "12455  train_12455  #Person1#: 오늘 좀 행복해 보이지 않아. 무슨 일 있어?\\n#Person2...   \n",
       "12456  train_12456  #Person1#: 엄마, 다음 토요일에 이 삼촌네 가족을 방문하기 위해 비행기를 ...   \n",
       "\n",
       "                                                 summary     topic  \n",
       "0      스미스씨가 건강검진을 받고 있고, 호킨스 의사는 매년 건강검진을 받는 것을 권장합니...   건강검진 받기  \n",
       "1      파커 부인이 리키를 데리고 백신 접종을 하러 갔다. 피터스 박사는 기록을 확인한 후...        백신  \n",
       "2      #Person1#은 열쇠 한 묶음을 찾고 있고, 그것을 찾기 위해 #Person2#...     열쇠 찾기  \n",
       "3      #Person1#은 #Person2#가 여자친구가 있고 그녀와 결혼할 것이라는 사실...  여자친구가 있다  \n",
       "4      말릭이 니키에게 춤을 요청한다. 말릭이 발을 밟는 것을 신경 쓰지 않는다면 니키는 ...        댄스  \n",
       "...                                                  ...       ...  \n",
       "12452  탄 링은 흰머리와 수염으로 쉽게 인식되는 그린 씨를 만나 호텔로 데려갈 예정입니다....  누군가를 태우다  \n",
       "12453  #Person1#과 #Person2#는 이윙 씨가 늦지 않도록 요청했기 때문에 컨퍼...   컨퍼런스 센터  \n",
       "12454       #Person2#는 #Person1#의 도움으로 5일 동안 소형 차를 빌립니다.      차 렌트  \n",
       "12455  #Person2#의 엄마가 일자리를 잃었다. #Person2#는 엄마가 우울해하지 ...        실직  \n",
       "12456  #Person1#은 다음 토요일에 이 삼촌네를 방문할 때 가방을 어떻게 싸야 할지 ...      짐 싸기  \n",
       "\n",
       "[12457 rows x 4 columns]"
      ]
     },
     "execution_count": 7,
     "metadata": {},
     "output_type": "execute_result"
    }
   ],
   "source": [
    "df"
   ]
  },
  {
   "cell_type": "code",
   "execution_count": 8,
   "metadata": {},
   "outputs": [
    {
     "name": "stderr",
     "output_type": "stream",
     "text": [
      "  0%|          | 49/12457 [12:36<51:42:46, 15.00s/it]"
     ]
    },
    {
     "name": "stdout",
     "output_type": "stream",
     "text": [
      "An error occurred during translation: The read operation timed out\n",
      "index: 48에서 google translate api 오류 발생 !!!\n"
     ]
    },
    {
     "name": "stderr",
     "output_type": "stream",
     "text": [
      "  1%|          | 116/12457 [35:08<60:58:26, 17.79s/it]"
     ]
    },
    {
     "name": "stdout",
     "output_type": "stream",
     "text": [
      "An error occurred during translation: The read operation timed out\n",
      "index: 115에서 google translate api 오류 발생 !!!\n"
     ]
    },
    {
     "name": "stderr",
     "output_type": "stream",
     "text": [
      "  1%|          | 122/12457 [37:40<75:39:11, 22.08s/it]"
     ]
    },
    {
     "name": "stdout",
     "output_type": "stream",
     "text": [
      "An error occurred during translation: The read operation timed out\n",
      "index: 121에서 google translate api 오류 발생 !!!\n"
     ]
    },
    {
     "name": "stderr",
     "output_type": "stream",
     "text": [
      "  1%|          | 138/12457 [41:46<48:48:31, 14.26s/it]"
     ]
    },
    {
     "name": "stdout",
     "output_type": "stream",
     "text": [
      "An error occurred during translation: The read operation timed out\n",
      "index: 137에서 google translate api 오류 발생 !!!\n"
     ]
    },
    {
     "name": "stderr",
     "output_type": "stream",
     "text": [
      "  1%|          | 153/12457 [46:55<61:10:23, 17.90s/it]"
     ]
    },
    {
     "name": "stdout",
     "output_type": "stream",
     "text": [
      "An error occurred during translation: The read operation timed out\n",
      "index: 152에서 google translate api 오류 발생 !!!\n"
     ]
    },
    {
     "name": "stderr",
     "output_type": "stream",
     "text": [
      "  1%|▏         | 157/12457 [48:00<53:22:06, 15.62s/it]"
     ]
    },
    {
     "name": "stdout",
     "output_type": "stream",
     "text": [
      "An error occurred during translation: The read operation timed out\n",
      "index: 156에서 google translate api 오류 발생 !!!\n"
     ]
    },
    {
     "name": "stderr",
     "output_type": "stream",
     "text": [
      "  2%|▏         | 265/12457 [1:27:58<86:37:45, 25.58s/it] "
     ]
    },
    {
     "name": "stdout",
     "output_type": "stream",
     "text": [
      "An error occurred during translation: The read operation timed out\n",
      "index: 264에서 google translate api 오류 발생 !!!\n"
     ]
    },
    {
     "name": "stderr",
     "output_type": "stream",
     "text": [
      "  2%|▏         | 266/12457 [1:28:07<68:56:19, 20.36s/it]"
     ]
    },
    {
     "name": "stdout",
     "output_type": "stream",
     "text": [
      "An error occurred during translation: The read operation timed out\n",
      "index: 265에서 google translate api 오류 발생 !!!\n"
     ]
    },
    {
     "name": "stderr",
     "output_type": "stream",
     "text": [
      "  2%|▏         | 281/12457 [1:33:34<83:28:37, 24.68s/it] "
     ]
    },
    {
     "name": "stdout",
     "output_type": "stream",
     "text": [
      "An error occurred during translation: The read operation timed out\n",
      "index: 280에서 google translate api 오류 발생 !!!\n"
     ]
    },
    {
     "name": "stderr",
     "output_type": "stream",
     "text": [
      "  3%|▎         | 314/12457 [1:46:13<87:10:58, 25.85s/it]"
     ]
    },
    {
     "name": "stdout",
     "output_type": "stream",
     "text": [
      "An error occurred during translation: The read operation timed out\n",
      "index: 313에서 google translate api 오류 발생 !!!\n"
     ]
    },
    {
     "name": "stderr",
     "output_type": "stream",
     "text": [
      "  4%|▎         | 454/12457 [2:34:57<75:43:46, 22.71s/it] "
     ]
    },
    {
     "name": "stdout",
     "output_type": "stream",
     "text": [
      "An error occurred during translation: The read operation timed out\n",
      "index: 453에서 google translate api 오류 발생 !!!\n"
     ]
    },
    {
     "name": "stderr",
     "output_type": "stream",
     "text": [
      "  4%|▎         | 461/12457 [2:37:01<63:25:04, 19.03s/it]"
     ]
    },
    {
     "name": "stdout",
     "output_type": "stream",
     "text": [
      "An error occurred during translation: The read operation timed out\n",
      "index: 460에서 google translate api 오류 발생 !!!\n"
     ]
    },
    {
     "name": "stderr",
     "output_type": "stream",
     "text": [
      "  4%|▍         | 535/12457 [3:00:26<84:27:39, 25.50s/it] "
     ]
    },
    {
     "name": "stdout",
     "output_type": "stream",
     "text": [
      "An error occurred during translation: The read operation timed out\n",
      "index: 534에서 google translate api 오류 발생 !!!\n"
     ]
    },
    {
     "name": "stderr",
     "output_type": "stream",
     "text": [
      "  4%|▍         | 540/12457 [3:01:53<60:02:49, 18.14s/it]"
     ]
    },
    {
     "name": "stdout",
     "output_type": "stream",
     "text": [
      "An error occurred during translation: the JSON object must be str, bytes or bytearray, not NoneType\n",
      "index: 539에서 google translate api 오류 발생 !!!\n"
     ]
    },
    {
     "name": "stderr",
     "output_type": "stream",
     "text": [
      "  4%|▍         | 541/12457 [3:01:54<42:20:53, 12.79s/it]"
     ]
    },
    {
     "name": "stdout",
     "output_type": "stream",
     "text": [
      "An error occurred during translation: the JSON object must be str, bytes or bytearray, not NoneType\n",
      "index: 540에서 google translate api 오류 발생 !!!\n"
     ]
    },
    {
     "name": "stderr",
     "output_type": "stream",
     "text": [
      "  4%|▍         | 552/12457 [3:06:42<98:26:57, 29.77s/it] "
     ]
    },
    {
     "name": "stdout",
     "output_type": "stream",
     "text": [
      "An error occurred during translation: The read operation timed out\n",
      "index: 551에서 google translate api 오류 발생 !!!\n"
     ]
    },
    {
     "name": "stderr",
     "output_type": "stream",
     "text": [
      "  4%|▍         | 556/12457 [3:08:18<80:41:51, 24.41s/it] "
     ]
    },
    {
     "name": "stdout",
     "output_type": "stream",
     "text": [
      "An error occurred during translation: the JSON object must be str, bytes or bytearray, not NoneType\n",
      "index: 555에서 google translate api 오류 발생 !!!\n"
     ]
    },
    {
     "name": "stderr",
     "output_type": "stream",
     "text": [
      "  4%|▍         | 557/12457 [3:08:19<57:29:30, 17.39s/it]"
     ]
    },
    {
     "name": "stdout",
     "output_type": "stream",
     "text": [
      "An error occurred during translation: the JSON object must be str, bytes or bytearray, not NoneType\n",
      "index: 556에서 google translate api 오류 발생 !!!\n"
     ]
    },
    {
     "name": "stderr",
     "output_type": "stream",
     "text": [
      "  4%|▍         | 558/12457 [3:08:20<41:34:28, 12.58s/it]"
     ]
    },
    {
     "name": "stdout",
     "output_type": "stream",
     "text": [
      "An error occurred during translation: the JSON object must be str, bytes or bytearray, not NoneType\n",
      "index: 557에서 google translate api 오류 발생 !!!\n"
     ]
    },
    {
     "name": "stderr",
     "output_type": "stream",
     "text": [
      "  5%|▍         | 571/12457 [3:12:11<62:36:46, 18.96s/it]"
     ]
    },
    {
     "name": "stdout",
     "output_type": "stream",
     "text": [
      "An error occurred during translation: the JSON object must be str, bytes or bytearray, not NoneType\n",
      "index: 570에서 google translate api 오류 발생 !!!\n"
     ]
    },
    {
     "name": "stderr",
     "output_type": "stream",
     "text": [
      "  5%|▍         | 572/12457 [3:12:12<44:54:15, 13.60s/it]"
     ]
    },
    {
     "name": "stdout",
     "output_type": "stream",
     "text": [
      "An error occurred during translation: the JSON object must be str, bytes or bytearray, not NoneType\n",
      "index: 571에서 google translate api 오류 발생 !!!\n"
     ]
    },
    {
     "name": "stderr",
     "output_type": "stream",
     "text": [
      "  5%|▍         | 586/12457 [3:16:45<55:16:04, 16.76s/it]"
     ]
    },
    {
     "name": "stdout",
     "output_type": "stream",
     "text": [
      "An error occurred during translation: The read operation timed out\n",
      "index: 585에서 google translate api 오류 발생 !!!\n"
     ]
    },
    {
     "name": "stderr",
     "output_type": "stream",
     "text": [
      "  5%|▍         | 587/12457 [3:16:50<43:49:52, 13.29s/it]"
     ]
    },
    {
     "name": "stdout",
     "output_type": "stream",
     "text": [
      "An error occurred during translation: The read operation timed out\n",
      "index: 586에서 google translate api 오류 발생 !!!\n"
     ]
    },
    {
     "name": "stderr",
     "output_type": "stream",
     "text": [
      "  5%|▌         | 648/12457 [3:37:31<68:07:26, 20.77s/it]"
     ]
    },
    {
     "name": "stdout",
     "output_type": "stream",
     "text": [
      "An error occurred during translation: The read operation timed out\n",
      "index: 647에서 google translate api 오류 발생 !!!\n"
     ]
    },
    {
     "name": "stderr",
     "output_type": "stream",
     "text": [
      "  6%|▌         | 703/12457 [3:58:02<61:08:02, 18.72s/it]"
     ]
    },
    {
     "name": "stdout",
     "output_type": "stream",
     "text": [
      "An error occurred during translation: The read operation timed out\n",
      "index: 702에서 google translate api 오류 발생 !!!\n"
     ]
    },
    {
     "name": "stderr",
     "output_type": "stream",
     "text": [
      "  6%|▌         | 726/12457 [4:05:32<49:12:06, 15.10s/it]"
     ]
    },
    {
     "name": "stdout",
     "output_type": "stream",
     "text": [
      "An error occurred during translation: The read operation timed out\n",
      "index: 725에서 google translate api 오류 발생 !!!\n"
     ]
    },
    {
     "name": "stderr",
     "output_type": "stream",
     "text": [
      "  6%|▌         | 738/12457 [4:09:42<71:47:49, 22.06s/it]"
     ]
    },
    {
     "name": "stdout",
     "output_type": "stream",
     "text": [
      "An error occurred during translation: The read operation timed out\n",
      "index: 737에서 google translate api 오류 발생 !!!\n"
     ]
    },
    {
     "name": "stderr",
     "output_type": "stream",
     "text": [
      "  6%|▌         | 742/12457 [4:10:50<63:02:58, 19.38s/it]"
     ]
    },
    {
     "name": "stdout",
     "output_type": "stream",
     "text": [
      "An error occurred during translation: The read operation timed out\n",
      "index: 741에서 google translate api 오류 발생 !!!\n"
     ]
    },
    {
     "name": "stderr",
     "output_type": "stream",
     "text": [
      "  6%|▌         | 747/12457 [4:12:19<59:31:13, 18.30s/it]"
     ]
    },
    {
     "name": "stdout",
     "output_type": "stream",
     "text": [
      "An error occurred during translation: The read operation timed out\n",
      "index: 746에서 google translate api 오류 발생 !!!\n"
     ]
    },
    {
     "name": "stderr",
     "output_type": "stream",
     "text": [
      "  6%|▌         | 764/12457 [4:18:45<102:50:25, 31.66s/it]"
     ]
    },
    {
     "name": "stdout",
     "output_type": "stream",
     "text": [
      "An error occurred during translation: The read operation timed out\n",
      "index: 763에서 google translate api 오류 발생 !!!\n"
     ]
    },
    {
     "name": "stderr",
     "output_type": "stream",
     "text": [
      "  6%|▌         | 768/12457 [4:20:23<83:39:31, 25.77s/it] "
     ]
    },
    {
     "name": "stdout",
     "output_type": "stream",
     "text": [
      "An error occurred during translation: the JSON object must be str, bytes or bytearray, not NoneType\n",
      "index: 767에서 google translate api 오류 발생 !!!\n"
     ]
    },
    {
     "name": "stderr",
     "output_type": "stream",
     "text": [
      "  6%|▋         | 789/12457 [4:29:10<83:06:16, 25.64s/it] "
     ]
    },
    {
     "name": "stdout",
     "output_type": "stream",
     "text": [
      "An error occurred during translation: The read operation timed out\n",
      "index: 788에서 google translate api 오류 발생 !!!\n"
     ]
    },
    {
     "name": "stderr",
     "output_type": "stream",
     "text": [
      "  6%|▋         | 797/12457 [4:31:57<62:38:18, 19.34s/it]"
     ]
    },
    {
     "name": "stdout",
     "output_type": "stream",
     "text": [
      "An error occurred during translation: The read operation timed out\n",
      "index: 796에서 google translate api 오류 발생 !!!\n"
     ]
    },
    {
     "name": "stderr",
     "output_type": "stream",
     "text": [
      "  7%|▋         | 825/12457 [4:43:55<49:45:46, 15.40s/it] "
     ]
    },
    {
     "name": "stdout",
     "output_type": "stream",
     "text": [
      "An error occurred during translation: The read operation timed out\n",
      "index: 824에서 google translate api 오류 발생 !!!\n"
     ]
    },
    {
     "name": "stderr",
     "output_type": "stream",
     "text": [
      "  7%|▋         | 853/12457 [4:53:37<56:31:41, 17.54s/it]"
     ]
    },
    {
     "name": "stdout",
     "output_type": "stream",
     "text": [
      "An error occurred during translation: The read operation timed out\n",
      "index: 852에서 google translate api 오류 발생 !!!\n"
     ]
    },
    {
     "name": "stderr",
     "output_type": "stream",
     "text": [
      "  7%|▋         | 901/12457 [5:09:21<88:39:01, 27.62s/it]"
     ]
    },
    {
     "name": "stdout",
     "output_type": "stream",
     "text": [
      "An error occurred during translation: The read operation timed out\n",
      "index: 900에서 google translate api 오류 발생 !!!\n"
     ]
    },
    {
     "name": "stderr",
     "output_type": "stream",
     "text": [
      "  7%|▋         | 902/12457 [5:09:44<83:55:06, 26.15s/it]"
     ]
    },
    {
     "name": "stdout",
     "output_type": "stream",
     "text": [
      "An error occurred during translation: The read operation timed out\n",
      "index: 901에서 google translate api 오류 발생 !!!\n"
     ]
    },
    {
     "name": "stderr",
     "output_type": "stream",
     "text": [
      "  7%|▋         | 904/12457 [5:10:22<70:49:22, 22.07s/it]"
     ]
    },
    {
     "name": "stdout",
     "output_type": "stream",
     "text": [
      "An error occurred during translation: The read operation timed out\n",
      "index: 903에서 google translate api 오류 발생 !!!\n"
     ]
    },
    {
     "name": "stderr",
     "output_type": "stream",
     "text": [
      "  7%|▋         | 905/12457 [5:10:27<54:45:46, 17.07s/it]"
     ]
    },
    {
     "name": "stdout",
     "output_type": "stream",
     "text": [
      "An error occurred during translation: The read operation timed out\n",
      "index: 904에서 google translate api 오류 발생 !!!\n"
     ]
    },
    {
     "name": "stderr",
     "output_type": "stream",
     "text": [
      "  7%|▋         | 915/12457 [5:14:06<73:55:06, 23.06s/it]"
     ]
    },
    {
     "name": "stdout",
     "output_type": "stream",
     "text": [
      "An error occurred during translation: The read operation timed out\n",
      "index: 914에서 google translate api 오류 발생 !!!\n"
     ]
    },
    {
     "name": "stderr",
     "output_type": "stream",
     "text": [
      "  7%|▋         | 916/12457 [5:14:24<68:42:36, 21.43s/it]"
     ]
    },
    {
     "name": "stdout",
     "output_type": "stream",
     "text": [
      "An error occurred during translation: The read operation timed out\n",
      "index: 915에서 google translate api 오류 발생 !!!\n"
     ]
    },
    {
     "name": "stderr",
     "output_type": "stream",
     "text": [
      "  7%|▋         | 917/12457 [5:14:31<55:21:33, 17.27s/it]"
     ]
    },
    {
     "name": "stdout",
     "output_type": "stream",
     "text": [
      "An error occurred during translation: The read operation timed out\n",
      "index: 916에서 google translate api 오류 발생 !!!\n"
     ]
    },
    {
     "name": "stderr",
     "output_type": "stream",
     "text": [
      "  7%|▋         | 934/12457 [5:21:06<78:07:26, 24.41s/it]"
     ]
    },
    {
     "name": "stdout",
     "output_type": "stream",
     "text": [
      "An error occurred during translation: The read operation timed out\n",
      "index: 933에서 google translate api 오류 발생 !!!\n"
     ]
    },
    {
     "name": "stderr",
     "output_type": "stream",
     "text": [
      "  8%|▊         | 935/12457 [5:21:11<59:40:40, 18.65s/it]"
     ]
    },
    {
     "name": "stdout",
     "output_type": "stream",
     "text": [
      "An error occurred during translation: The read operation timed out\n",
      "index: 934에서 google translate api 오류 발생 !!!\n"
     ]
    },
    {
     "name": "stderr",
     "output_type": "stream",
     "text": [
      "  8%|▊         | 940/12457 [5:22:58<69:25:17, 21.70s/it]"
     ]
    },
    {
     "name": "stdout",
     "output_type": "stream",
     "text": [
      "An error occurred during translation: The read operation timed out\n",
      "index: 939에서 google translate api 오류 발생 !!!\n"
     ]
    },
    {
     "name": "stderr",
     "output_type": "stream",
     "text": [
      "  8%|▊         | 946/12457 [5:25:38<71:30:58, 22.37s/it]"
     ]
    },
    {
     "name": "stdout",
     "output_type": "stream",
     "text": [
      "An error occurred during translation: The read operation timed out\n",
      "index: 945에서 google translate api 오류 발생 !!!\n"
     ]
    },
    {
     "name": "stderr",
     "output_type": "stream",
     "text": [
      "  8%|▊         | 947/12457 [5:25:55<66:06:45, 20.68s/it]"
     ]
    },
    {
     "name": "stdout",
     "output_type": "stream",
     "text": [
      "An error occurred during translation: The read operation timed out\n",
      "index: 946에서 google translate api 오류 발생 !!!\n"
     ]
    },
    {
     "name": "stderr",
     "output_type": "stream",
     "text": [
      "  8%|▊         | 948/12457 [5:26:02<53:23:31, 16.70s/it]"
     ]
    },
    {
     "name": "stdout",
     "output_type": "stream",
     "text": [
      "An error occurred during translation: The read operation timed out\n",
      "index: 947에서 google translate api 오류 발생 !!!\n"
     ]
    },
    {
     "name": "stderr",
     "output_type": "stream",
     "text": [
      "  8%|▊         | 959/12457 [5:31:09<70:44:04, 22.15s/it] "
     ]
    },
    {
     "name": "stdout",
     "output_type": "stream",
     "text": [
      "An error occurred during translation: The read operation timed out\n",
      "index: 958에서 google translate api 오류 발생 !!!\n"
     ]
    },
    {
     "name": "stderr",
     "output_type": "stream",
     "text": [
      "  8%|▊         | 977/12457 [5:37:26<52:46:38, 16.55s/it]"
     ]
    },
    {
     "name": "stdout",
     "output_type": "stream",
     "text": [
      "An error occurred during translation: The read operation timed out\n",
      "index: 976에서 google translate api 오류 발생 !!!\n"
     ]
    },
    {
     "name": "stderr",
     "output_type": "stream",
     "text": [
      "  8%|▊         | 978/12457 [5:37:36<45:57:35, 14.41s/it]"
     ]
    },
    {
     "name": "stdout",
     "output_type": "stream",
     "text": [
      "An error occurred during translation: The read operation timed out\n",
      "index: 977에서 google translate api 오류 발생 !!!\n"
     ]
    },
    {
     "name": "stderr",
     "output_type": "stream",
     "text": [
      "  8%|▊         | 982/12457 [5:38:29<43:30:06, 13.65s/it]"
     ]
    },
    {
     "name": "stdout",
     "output_type": "stream",
     "text": [
      "An error occurred during translation: The read operation timed out\n",
      "index: 981에서 google translate api 오류 발생 !!!\n"
     ]
    },
    {
     "name": "stderr",
     "output_type": "stream",
     "text": [
      "  8%|▊         | 983/12457 [5:38:35<35:28:13, 11.13s/it]"
     ]
    },
    {
     "name": "stdout",
     "output_type": "stream",
     "text": [
      "An error occurred during translation: The read operation timed out\n",
      "index: 982에서 google translate api 오류 발생 !!!\n"
     ]
    },
    {
     "name": "stderr",
     "output_type": "stream",
     "text": [
      "  8%|▊         | 1001/12457 [5:44:36<57:29:55, 18.07s/it]"
     ]
    },
    {
     "name": "stdout",
     "output_type": "stream",
     "text": [
      "An error occurred during translation: The read operation timed out\n",
      "index: 1000에서 google translate api 오류 발생 !!!\n"
     ]
    },
    {
     "name": "stderr",
     "output_type": "stream",
     "text": [
      "  8%|▊         | 1002/12457 [5:44:41<45:15:23, 14.22s/it]"
     ]
    },
    {
     "name": "stdout",
     "output_type": "stream",
     "text": [
      "An error occurred during translation: The read operation timed out\n",
      "index: 1001에서 google translate api 오류 발생 !!!\n"
     ]
    },
    {
     "name": "stderr",
     "output_type": "stream",
     "text": [
      "  8%|▊         | 1048/12457 [6:00:05<71:29:30, 22.56s/it]"
     ]
    },
    {
     "name": "stdout",
     "output_type": "stream",
     "text": [
      "An error occurred during translation: The read operation timed out\n",
      "index: 1047에서 google translate api 오류 발생 !!!\n"
     ]
    },
    {
     "name": "stderr",
     "output_type": "stream",
     "text": [
      "  9%|▊         | 1074/12457 [6:08:41<52:46:15, 16.69s/it]"
     ]
    },
    {
     "name": "stdout",
     "output_type": "stream",
     "text": [
      "An error occurred during translation: The read operation timed out\n",
      "index: 1073에서 google translate api 오류 발생 !!!\n"
     ]
    },
    {
     "name": "stderr",
     "output_type": "stream",
     "text": [
      "  9%|▊         | 1077/12457 [6:09:26<46:42:24, 14.78s/it]"
     ]
    },
    {
     "name": "stdout",
     "output_type": "stream",
     "text": [
      "An error occurred during translation: The read operation timed out\n",
      "index: 1076에서 google translate api 오류 발생 !!!\n"
     ]
    },
    {
     "name": "stderr",
     "output_type": "stream",
     "text": [
      "  9%|▉         | 1097/12457 [6:15:14<56:26:58, 17.89s/it]"
     ]
    },
    {
     "name": "stdout",
     "output_type": "stream",
     "text": [
      "An error occurred during translation: The read operation timed out\n",
      "index: 1096에서 google translate api 오류 발생 !!!\n"
     ]
    },
    {
     "name": "stderr",
     "output_type": "stream",
     "text": [
      "  9%|▉         | 1100/12457 [6:16:08<53:45:34, 17.04s/it]"
     ]
    },
    {
     "name": "stdout",
     "output_type": "stream",
     "text": [
      "An error occurred during translation: The read operation timed out\n",
      "index: 1099에서 google translate api 오류 발생 !!!\n"
     ]
    },
    {
     "name": "stderr",
     "output_type": "stream",
     "text": [
      "  9%|▉         | 1111/12457 [6:20:10<71:01:21, 22.53s/it]"
     ]
    },
    {
     "name": "stdout",
     "output_type": "stream",
     "text": [
      "An error occurred during translation: The read operation timed out\n",
      "index: 1110에서 google translate api 오류 발생 !!!\n"
     ]
    },
    {
     "name": "stderr",
     "output_type": "stream",
     "text": [
      "  9%|▉         | 1127/12457 [6:25:49<51:33:23, 16.38s/it]"
     ]
    },
    {
     "name": "stdout",
     "output_type": "stream",
     "text": [
      "An error occurred during translation: The read operation timed out\n",
      "index: 1126에서 google translate api 오류 발생 !!!\n"
     ]
    },
    {
     "name": "stderr",
     "output_type": "stream",
     "text": [
      "  9%|▉         | 1128/12457 [6:25:58<44:45:39, 14.22s/it]"
     ]
    },
    {
     "name": "stdout",
     "output_type": "stream",
     "text": [
      "An error occurred during translation: The read operation timed out\n",
      "index: 1127에서 google translate api 오류 발생 !!!\n"
     ]
    },
    {
     "name": "stderr",
     "output_type": "stream",
     "text": [
      "  9%|▉         | 1144/12457 [6:30:46<68:51:56, 21.91s/it]"
     ]
    },
    {
     "name": "stdout",
     "output_type": "stream",
     "text": [
      "An error occurred during translation: The read operation timed out\n",
      "index: 1143에서 google translate api 오류 발생 !!!\n"
     ]
    },
    {
     "name": "stderr",
     "output_type": "stream",
     "text": [
      "  9%|▉         | 1151/12457 [6:33:28<79:14:45, 25.23s/it]"
     ]
    },
    {
     "name": "stdout",
     "output_type": "stream",
     "text": [
      "An error occurred during translation: The read operation timed out\n",
      "index: 1150에서 google translate api 오류 발생 !!!\n"
     ]
    },
    {
     "name": "stderr",
     "output_type": "stream",
     "text": [
      "  9%|▉         | 1152/12457 [6:33:33<60:24:19, 19.24s/it]"
     ]
    },
    {
     "name": "stdout",
     "output_type": "stream",
     "text": [
      "An error occurred during translation: The read operation timed out\n",
      "index: 1151에서 google translate api 오류 발생 !!!\n"
     ]
    },
    {
     "name": "stderr",
     "output_type": "stream",
     "text": [
      "  9%|▉         | 1155/12457 [6:34:41<66:18:35, 21.12s/it]"
     ]
    },
    {
     "name": "stdout",
     "output_type": "stream",
     "text": [
      "An error occurred during translation: The read operation timed out\n",
      "index: 1154에서 google translate api 오류 발생 !!!\n"
     ]
    },
    {
     "name": "stderr",
     "output_type": "stream",
     "text": [
      "  9%|▉         | 1165/12457 [6:38:19<51:18:49, 16.36s/it]"
     ]
    },
    {
     "name": "stdout",
     "output_type": "stream",
     "text": [
      "An error occurred during translation: The read operation timed out\n",
      "index: 1164에서 google translate api 오류 발생 !!!\n"
     ]
    },
    {
     "name": "stderr",
     "output_type": "stream",
     "text": [
      "  9%|▉         | 1176/12457 [6:41:13<43:38:11, 13.93s/it]"
     ]
    },
    {
     "name": "stdout",
     "output_type": "stream",
     "text": [
      "An error occurred during translation: The read operation timed out\n",
      "index: 1175에서 google translate api 오류 발생 !!!\n"
     ]
    },
    {
     "name": "stderr",
     "output_type": "stream",
     "text": [
      "  9%|▉         | 1181/12457 [6:42:33<56:28:21, 18.03s/it]"
     ]
    },
    {
     "name": "stdout",
     "output_type": "stream",
     "text": [
      "An error occurred during translation: the JSON object must be str, bytes or bytearray, not NoneType\n",
      "index: 1180에서 google translate api 오류 발생 !!!\n"
     ]
    },
    {
     "name": "stderr",
     "output_type": "stream",
     "text": [
      "  9%|▉         | 1182/12457 [6:42:34<39:46:01, 12.70s/it]"
     ]
    },
    {
     "name": "stdout",
     "output_type": "stream",
     "text": [
      "An error occurred during translation: the JSON object must be str, bytes or bytearray, not NoneType\n",
      "index: 1181에서 google translate api 오류 발생 !!!\n"
     ]
    },
    {
     "name": "stderr",
     "output_type": "stream",
     "text": [
      "  9%|▉         | 1183/12457 [6:42:36<29:45:04,  9.50s/it]"
     ]
    },
    {
     "name": "stdout",
     "output_type": "stream",
     "text": [
      "An error occurred during translation: the JSON object must be str, bytes or bytearray, not NoneType\n",
      "index: 1182에서 google translate api 오류 발생 !!!\n"
     ]
    },
    {
     "name": "stderr",
     "output_type": "stream",
     "text": [
      " 10%|▉         | 1184/12457 [6:42:36<21:04:35,  6.73s/it]"
     ]
    },
    {
     "name": "stdout",
     "output_type": "stream",
     "text": [
      "An error occurred during translation: the JSON object must be str, bytes or bytearray, not NoneType\n",
      "index: 1183에서 google translate api 오류 발생 !!!\n"
     ]
    },
    {
     "name": "stderr",
     "output_type": "stream",
     "text": [
      " 10%|▉         | 1185/12457 [6:42:36<14:59:04,  4.79s/it]"
     ]
    },
    {
     "name": "stdout",
     "output_type": "stream",
     "text": [
      "An error occurred during translation: the JSON object must be str, bytes or bytearray, not NoneType\n",
      "index: 1184에서 google translate api 오류 발생 !!!\n"
     ]
    },
    {
     "name": "stderr",
     "output_type": "stream",
     "text": [
      " 10%|▉         | 1186/12457 [6:42:46<20:00:28,  6.39s/it]"
     ]
    },
    {
     "name": "stdout",
     "output_type": "stream",
     "text": [
      "An error occurred during translation: The read operation timed out\n",
      "index: 1185에서 google translate api 오류 발생 !!!\n"
     ]
    },
    {
     "name": "stderr",
     "output_type": "stream",
     "text": [
      " 10%|▉         | 1234/12457 [6:59:20<63:03:04, 20.22s/it]"
     ]
    },
    {
     "name": "stdout",
     "output_type": "stream",
     "text": [
      "An error occurred during translation: The read operation timed out\n",
      "index: 1233에서 google translate api 오류 발생 !!!\n"
     ]
    },
    {
     "name": "stderr",
     "output_type": "stream",
     "text": [
      " 10%|▉         | 1241/12457 [7:01:58<59:45:53, 19.18s/it] "
     ]
    },
    {
     "name": "stdout",
     "output_type": "stream",
     "text": [
      "An error occurred during translation: The read operation timed out\n",
      "index: 1240에서 google translate api 오류 발생 !!!\n"
     ]
    },
    {
     "name": "stderr",
     "output_type": "stream",
     "text": [
      " 10%|█         | 1291/12457 [7:18:42<75:32:54, 24.36s/it]"
     ]
    },
    {
     "name": "stdout",
     "output_type": "stream",
     "text": [
      "An error occurred during translation: The read operation timed out\n",
      "index: 1290에서 google translate api 오류 발생 !!!\n"
     ]
    },
    {
     "name": "stderr",
     "output_type": "stream",
     "text": [
      " 11%|█         | 1355/12457 [7:40:16<64:56:23, 21.06s/it]"
     ]
    },
    {
     "name": "stdout",
     "output_type": "stream",
     "text": [
      "An error occurred during translation: The read operation timed out\n",
      "index: 1354에서 google translate api 오류 발생 !!!\n"
     ]
    },
    {
     "name": "stderr",
     "output_type": "stream",
     "text": [
      " 11%|█         | 1356/12457 [7:40:21<50:18:03, 16.31s/it]"
     ]
    },
    {
     "name": "stdout",
     "output_type": "stream",
     "text": [
      "An error occurred during translation: The read operation timed out\n",
      "index: 1355에서 google translate api 오류 발생 !!!\n"
     ]
    },
    {
     "name": "stderr",
     "output_type": "stream",
     "text": [
      " 11%|█         | 1357/12457 [7:40:26<40:01:37, 12.98s/it]"
     ]
    },
    {
     "name": "stdout",
     "output_type": "stream",
     "text": [
      "An error occurred during translation: The read operation timed out\n",
      "index: 1356에서 google translate api 오류 발생 !!!\n"
     ]
    },
    {
     "name": "stderr",
     "output_type": "stream",
     "text": [
      " 12%|█▏        | 1458/12457 [8:16:34<68:29:55, 22.42s/it] "
     ]
    },
    {
     "name": "stdout",
     "output_type": "stream",
     "text": [
      "An error occurred during translation: The read operation timed out\n",
      "index: 1457에서 google translate api 오류 발생 !!!\n"
     ]
    },
    {
     "name": "stderr",
     "output_type": "stream",
     "text": [
      " 12%|█▏        | 1459/12457 [8:16:39<52:44:57, 17.27s/it]"
     ]
    },
    {
     "name": "stdout",
     "output_type": "stream",
     "text": [
      "An error occurred during translation: The read operation timed out\n",
      "index: 1458에서 google translate api 오류 발생 !!!\n"
     ]
    },
    {
     "name": "stderr",
     "output_type": "stream",
     "text": [
      " 12%|█▏        | 1504/12457 [8:30:42<46:54:26, 15.42s/it]"
     ]
    },
    {
     "name": "stdout",
     "output_type": "stream",
     "text": [
      "An error occurred during translation: The read operation timed out\n",
      "index: 1503에서 google translate api 오류 발생 !!!\n"
     ]
    },
    {
     "name": "stderr",
     "output_type": "stream",
     "text": [
      " 12%|█▏        | 1518/12457 [8:34:57<55:04:46, 18.13s/it]"
     ]
    },
    {
     "name": "stdout",
     "output_type": "stream",
     "text": [
      "An error occurred during translation: The read operation timed out\n",
      "index: 1517에서 google translate api 오류 발생 !!!\n"
     ]
    },
    {
     "name": "stderr",
     "output_type": "stream",
     "text": [
      " 12%|█▏        | 1548/12457 [8:46:06<55:33:50, 18.34s/it]"
     ]
    },
    {
     "name": "stdout",
     "output_type": "stream",
     "text": [
      "An error occurred during translation: list index out of range\n",
      "index: 1547에서 google translate api 오류 발생 !!!\n"
     ]
    },
    {
     "name": "stderr",
     "output_type": "stream",
     "text": [
      " 12%|█▏        | 1553/12457 [8:47:27<54:12:12, 17.90s/it]"
     ]
    },
    {
     "name": "stdout",
     "output_type": "stream",
     "text": [
      "An error occurred during translation: The read operation timed out\n",
      "index: 1552에서 google translate api 오류 발생 !!!\n"
     ]
    },
    {
     "name": "stderr",
     "output_type": "stream",
     "text": [
      " 13%|█▎        | 1561/12457 [8:49:51<59:29:14, 19.65s/it]"
     ]
    },
    {
     "name": "stdout",
     "output_type": "stream",
     "text": [
      "An error occurred during translation: The read operation timed out\n",
      "index: 1560에서 google translate api 오류 발생 !!!\n"
     ]
    },
    {
     "name": "stderr",
     "output_type": "stream",
     "text": [
      " 13%|█▎        | 1575/12457 [8:54:25<39:59:52, 13.23s/it]"
     ]
    },
    {
     "name": "stdout",
     "output_type": "stream",
     "text": [
      "An error occurred during translation: The read operation timed out\n",
      "index: 1574에서 google translate api 오류 발생 !!!\n"
     ]
    },
    {
     "name": "stderr",
     "output_type": "stream",
     "text": [
      " 13%|█▎        | 1610/12457 [9:06:53<73:08:45, 24.28s/it]"
     ]
    },
    {
     "name": "stdout",
     "output_type": "stream",
     "text": [
      "An error occurred during translation: the JSON object must be str, bytes or bytearray, not NoneType\n",
      "index: 1609에서 google translate api 오류 발생 !!!\n"
     ]
    },
    {
     "name": "stderr",
     "output_type": "stream",
     "text": [
      " 14%|█▍        | 1758/12457 [9:58:52<39:52:53, 13.42s/it] "
     ]
    },
    {
     "name": "stdout",
     "output_type": "stream",
     "text": [
      "An error occurred during translation: The read operation timed out\n",
      "index: 1757에서 google translate api 오류 발생 !!!\n"
     ]
    },
    {
     "name": "stderr",
     "output_type": "stream",
     "text": [
      " 14%|█▍        | 1759/12457 [9:58:57<33:01:04, 11.11s/it]"
     ]
    },
    {
     "name": "stdout",
     "output_type": "stream",
     "text": [
      "An error occurred during translation: The read operation timed out\n",
      "index: 1758에서 google translate api 오류 발생 !!!\n"
     ]
    },
    {
     "name": "stderr",
     "output_type": "stream",
     "text": [
      " 14%|█▍        | 1787/12457 [10:09:19<76:47:45, 25.91s/it]"
     ]
    },
    {
     "name": "stdout",
     "output_type": "stream",
     "text": [
      "An error occurred during translation: The read operation timed out\n",
      "index: 1786에서 google translate api 오류 발생 !!!\n"
     ]
    },
    {
     "name": "stderr",
     "output_type": "stream",
     "text": [
      " 14%|█▍        | 1788/12457 [10:09:24<58:24:43, 19.71s/it]"
     ]
    },
    {
     "name": "stdout",
     "output_type": "stream",
     "text": [
      "An error occurred during translation: The read operation timed out\n",
      "index: 1787에서 google translate api 오류 발생 !!!\n"
     ]
    },
    {
     "name": "stderr",
     "output_type": "stream",
     "text": [
      " 15%|█▌        | 1886/12457 [10:41:17<65:47:54, 22.41s/it]"
     ]
    },
    {
     "name": "stdout",
     "output_type": "stream",
     "text": [
      "An error occurred during translation: The read operation timed out\n",
      "index: 1885에서 google translate api 오류 발생 !!!\n"
     ]
    },
    {
     "name": "stderr",
     "output_type": "stream",
     "text": [
      " 15%|█▌        | 1887/12457 [10:41:23<50:40:25, 17.26s/it]"
     ]
    },
    {
     "name": "stdout",
     "output_type": "stream",
     "text": [
      "An error occurred during translation: The read operation timed out\n",
      "index: 1886에서 google translate api 오류 발생 !!!\n"
     ]
    },
    {
     "name": "stderr",
     "output_type": "stream",
     "text": [
      " 16%|█▋        | 2053/12457 [11:37:08<62:06:32, 21.49s/it]"
     ]
    },
    {
     "name": "stdout",
     "output_type": "stream",
     "text": [
      "An error occurred during translation: The read operation timed out\n",
      "index: 2052에서 google translate api 오류 발생 !!!\n"
     ]
    },
    {
     "name": "stderr",
     "output_type": "stream",
     "text": [
      " 17%|█▋        | 2086/12457 [11:47:28<50:34:16, 17.55s/it]"
     ]
    },
    {
     "name": "stdout",
     "output_type": "stream",
     "text": [
      "An error occurred during translation: The read operation timed out\n",
      "index: 2085에서 google translate api 오류 발생 !!!\n"
     ]
    },
    {
     "name": "stderr",
     "output_type": "stream",
     "text": [
      " 17%|█▋        | 2131/12457 [12:03:46<57:59:35, 20.22s/it]"
     ]
    },
    {
     "name": "stdout",
     "output_type": "stream",
     "text": [
      "An error occurred during translation: The read operation timed out\n",
      "index: 2130에서 google translate api 오류 발생 !!!\n"
     ]
    },
    {
     "name": "stderr",
     "output_type": "stream",
     "text": [
      " 18%|█▊        | 2202/12457 [12:28:05<36:02:31, 12.65s/it]"
     ]
    },
    {
     "name": "stdout",
     "output_type": "stream",
     "text": [
      "An error occurred during translation: The read operation timed out\n",
      "index: 2201에서 google translate api 오류 발생 !!!\n"
     ]
    },
    {
     "name": "stderr",
     "output_type": "stream",
     "text": [
      " 18%|█▊        | 2233/12457 [12:37:38<52:41:48, 18.56s/it]"
     ]
    },
    {
     "name": "stdout",
     "output_type": "stream",
     "text": [
      "An error occurred during translation: The read operation timed out\n",
      "index: 2232에서 google translate api 오류 발생 !!!\n"
     ]
    },
    {
     "name": "stderr",
     "output_type": "stream",
     "text": [
      " 18%|█▊        | 2255/12457 [12:45:14<50:50:07, 17.94s/it]"
     ]
    },
    {
     "name": "stdout",
     "output_type": "stream",
     "text": [
      "An error occurred during translation: The read operation timed out\n",
      "index: 2254에서 google translate api 오류 발생 !!!\n"
     ]
    },
    {
     "name": "stderr",
     "output_type": "stream",
     "text": [
      " 18%|█▊        | 2256/12457 [12:45:19<40:02:03, 14.13s/it]"
     ]
    },
    {
     "name": "stdout",
     "output_type": "stream",
     "text": [
      "An error occurred during translation: The read operation timed out\n",
      "index: 2255에서 google translate api 오류 발생 !!!\n"
     ]
    },
    {
     "name": "stderr",
     "output_type": "stream",
     "text": [
      " 18%|█▊        | 2265/12457 [12:47:37<53:32:20, 18.91s/it]"
     ]
    },
    {
     "name": "stdout",
     "output_type": "stream",
     "text": [
      "An error occurred during translation: The read operation timed out\n",
      "index: 2264에서 google translate api 오류 발생 !!!\n"
     ]
    },
    {
     "name": "stderr",
     "output_type": "stream",
     "text": [
      " 19%|█▉        | 2345/12457 [13:15:12<41:36:42, 14.81s/it]"
     ]
    },
    {
     "name": "stdout",
     "output_type": "stream",
     "text": [
      "An error occurred during translation: The read operation timed out\n",
      "index: 2344에서 google translate api 오류 발생 !!!\n"
     ]
    },
    {
     "name": "stderr",
     "output_type": "stream",
     "text": [
      " 19%|█▉        | 2346/12457 [13:15:17<33:32:27, 11.94s/it]"
     ]
    },
    {
     "name": "stdout",
     "output_type": "stream",
     "text": [
      "An error occurred during translation: The read operation timed out\n",
      "index: 2345에서 google translate api 오류 발생 !!!\n"
     ]
    },
    {
     "name": "stderr",
     "output_type": "stream",
     "text": [
      " 20%|█▉        | 2462/12457 [13:55:26<47:01:12, 16.94s/it]"
     ]
    },
    {
     "name": "stdout",
     "output_type": "stream",
     "text": [
      "An error occurred during translation: The read operation timed out\n",
      "index: 2461에서 google translate api 오류 발생 !!!\n"
     ]
    },
    {
     "name": "stderr",
     "output_type": "stream",
     "text": [
      " 20%|██        | 2536/12457 [14:20:29<52:24:19, 19.02s/it]"
     ]
    },
    {
     "name": "stdout",
     "output_type": "stream",
     "text": [
      "An error occurred during translation: The read operation timed out\n",
      "index: 2535에서 google translate api 오류 발생 !!!\n"
     ]
    },
    {
     "name": "stderr",
     "output_type": "stream",
     "text": [
      " 21%|██        | 2574/12457 [14:32:48<55:37:17, 20.26s/it]"
     ]
    },
    {
     "name": "stdout",
     "output_type": "stream",
     "text": [
      "An error occurred during translation: The read operation timed out\n",
      "index: 2573에서 google translate api 오류 발생 !!!\n"
     ]
    },
    {
     "name": "stderr",
     "output_type": "stream",
     "text": [
      " 21%|██        | 2575/12457 [14:32:58<46:41:30, 17.01s/it]"
     ]
    },
    {
     "name": "stdout",
     "output_type": "stream",
     "text": [
      "An error occurred during translation: The read operation timed out\n",
      "index: 2574에서 google translate api 오류 발생 !!!\n"
     ]
    },
    {
     "name": "stderr",
     "output_type": "stream",
     "text": [
      " 21%|██        | 2585/12457 [14:35:59<44:42:27, 16.30s/it]"
     ]
    },
    {
     "name": "stdout",
     "output_type": "stream",
     "text": [
      "An error occurred during translation: the JSON object must be str, bytes or bytearray, not NoneType\n",
      "index: 2584에서 google translate api 오류 발생 !!!\n"
     ]
    },
    {
     "name": "stderr",
     "output_type": "stream",
     "text": [
      " 21%|██        | 2593/12457 [14:38:43<53:25:05, 19.50s/it]"
     ]
    },
    {
     "name": "stdout",
     "output_type": "stream",
     "text": [
      "An error occurred during translation: The read operation timed out\n",
      "index: 2592에서 google translate api 오류 발생 !!!\n"
     ]
    },
    {
     "name": "stderr",
     "output_type": "stream",
     "text": [
      " 21%|██        | 2610/12457 [14:44:53<52:10:58, 19.08s/it]"
     ]
    },
    {
     "name": "stdout",
     "output_type": "stream",
     "text": [
      "An error occurred during translation: The read operation timed out\n",
      "index: 2609에서 google translate api 오류 발생 !!!\n"
     ]
    },
    {
     "name": "stderr",
     "output_type": "stream",
     "text": [
      " 21%|██        | 2611/12457 [14:44:59<41:30:35, 15.18s/it]"
     ]
    },
    {
     "name": "stdout",
     "output_type": "stream",
     "text": [
      "An error occurred during translation: The read operation timed out\n",
      "index: 2610에서 google translate api 오류 발생 !!!\n"
     ]
    },
    {
     "name": "stderr",
     "output_type": "stream",
     "text": [
      " 21%|██        | 2621/12457 [14:47:34<33:23:10, 12.22s/it]"
     ]
    },
    {
     "name": "stdout",
     "output_type": "stream",
     "text": [
      "An error occurred during translation: The read operation timed out\n",
      "index: 2620에서 google translate api 오류 발생 !!!\n"
     ]
    },
    {
     "name": "stderr",
     "output_type": "stream",
     "text": [
      " 22%|██▏       | 2710/12457 [15:16:11<39:06:34, 14.44s/it]"
     ]
    }
   ],
   "source": [
    "s_idx = len(df)\n",
    "except_list = dict()\n",
    "\n",
    "\n",
    "for i in tqdm(range(len(df))):\n",
    "    idx = s_idx + i\n",
    "    df.loc[idx, 'fname'] = f'train_{idx}'\n",
    "    df.loc[idx, 'topic'] = df.loc[i, 'topic']\n",
    "    df.loc[idx, 'summary'] = df.loc[i, 'summary']\n",
    "    dia = backtranslate_with_placeholders(text=df.loc[i, 'dialogue'])\n",
    "    if dia != -1 :\n",
    "        df.loc[idx, 'dialogue'] = dia \n",
    "    else:\n",
    "        except_list[idx] = i\n",
    "        print(f'index: {i}에서 google translate api 오류 발생 !!!')\n",
    "    "
   ]
  },
  {
   "cell_type": "code",
   "execution_count": null,
   "metadata": {},
   "outputs": [],
   "source": [
    "df.to_csv(\"/data/ephemeral/home/data/train_add_translate.csv\", index=False)"
   ]
  },
  {
   "cell_type": "code",
   "execution_count": null,
   "metadata": {},
   "outputs": [],
   "source": [
    "except_df = pd.Dataframe(columns=['key', 'value'])\n",
    "index = 0\n",
    "for k, v in except_list.items():\n",
    "    except_df.loc[index, 'key'] = k \n",
    "    except_df.loc[index, 'value'] = v\n",
    "    index += 1\n",
    "\n",
    "except_df.to_csv(\"/data/ephemeral/home/data/except_list.csv\", index=False)"
   ]
  },
  {
   "cell_type": "code",
   "execution_count": null,
   "metadata": {},
   "outputs": [],
   "source": []
  }
 ],
 "metadata": {
  "kernelspec": {
   "display_name": "base",
   "language": "python",
   "name": "python3"
  },
  "language_info": {
   "codemirror_mode": {
    "name": "ipython",
    "version": 3
   },
   "file_extension": ".py",
   "mimetype": "text/x-python",
   "name": "python",
   "nbconvert_exporter": "python",
   "pygments_lexer": "ipython3",
   "version": "3.10.13"
  }
 },
 "nbformat": 4,
 "nbformat_minor": 2
}
