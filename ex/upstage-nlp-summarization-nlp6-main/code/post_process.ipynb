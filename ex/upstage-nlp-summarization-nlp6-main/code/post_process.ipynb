{
 "cells": [
  {
   "cell_type": "code",
   "execution_count": 4,
   "metadata": {},
   "outputs": [],
   "source": [
    "import pandas as pd\n",
    "import re\n",
    "\n",
    "# CSV 파일 읽기\n",
    "df = pd.read_csv('./result/output/output2.csv')\n",
    "\n",
    "# 각 문제를 해결하기 위한 함수\n",
    "def post_process_summary(summary):\n",
    "    # 1. '#'과 조사 사이의 띄어쓰기 제거\n",
    "    summary = re.sub(r'#([A-Za-z0-9_]+)#\\s+(은|는|이|가|을|를|에|에게|의|로|으로)', r'#\\1#\\g<2>', summary)\n",
    "    # 2. 의미 없는 큰 따옴표 제거\n",
    "    summary = summary.replace('\"', '')\n",
    "    # 3. 문장 맨 앞의 들여쓰기 제거\n",
    "    summary = summary.strip()\n",
    "    return summary\n",
    "\n",
    "# 'summary' 컬럼에 대해 post_process_summary 함수 적용\n",
    "df['summary'] = df['summary'].apply(post_process_summary)\n",
    "\n",
    "# 수정된 데이터프레임을 새로운 CSV 파일로 저장\n",
    "df.to_csv('./result/output/output2_post.csv', index=False)"
   ]
  },
  {
   "cell_type": "code",
   "execution_count": 5,
   "metadata": {},
   "outputs": [
    {
     "name": "stdout",
     "output_type": "stream",
     "text": [
      "        fname                                            summary\n",
      "0      test_0  더슨 씨는 #Person1#에게 사무실 통신이 이메일 통신과 공식 메모로 제한되어 ...\n",
      "1      test_1  #Person2#는 교통 체증에 걸렸다. #Person1#은 #Person2#에게 ...\n",
      "2      test_2  케이트는 마샤와 히어로가 이혼을 신청했다고 #Person1#에게 말한다. #Pers...\n",
      "3      test_3  브라이언은 #Person1#의 생일을 축하하기 위해 파티에 참석한다. #Person...\n",
      "4      test_4  #Person1# 과 #Person2#는 올림픽 공원에 대해 이야기합니다. #Per...\n",
      "..        ...                                                ...\n",
      "494  test_495  찰리는 아빠를 데리러 가야하기 때문에 새 게임에 대해 잭에게 이야기한다. 잭은 찰리...\n",
      "495  test_496  #Person2#는 #Person1#에게 컨트리 음악에 관심을 가지게 된 계기와 #...\n",
      "496  test_497  앨리스는 #Person1#에게 세탁기, 건조기, 비누를 사용하는 방법, 그리고 옷을...\n",
      "497  test_498  스티브와 매튜는 계약이 다음 달에 끝나기 때문에 새로운 집을 찾고 있다. 그들은 이...\n",
      "498  test_499  프랭크는 #Person1#에게 승진하고 친구들 모두를 위한 큰 파티를 열려고 한다고...\n",
      "\n",
      "[499 rows x 2 columns]\n"
     ]
    }
   ],
   "source": [
    "print(df)"
   ]
  }
 ],
 "metadata": {
  "kernelspec": {
   "display_name": "base",
   "language": "python",
   "name": "python3"
  },
  "language_info": {
   "codemirror_mode": {
    "name": "ipython",
    "version": 3
   },
   "file_extension": ".py",
   "mimetype": "text/x-python",
   "name": "python",
   "nbconvert_exporter": "python",
   "pygments_lexer": "ipython3",
   "version": "3.10.13"
  }
 },
 "nbformat": 4,
 "nbformat_minor": 2
}
