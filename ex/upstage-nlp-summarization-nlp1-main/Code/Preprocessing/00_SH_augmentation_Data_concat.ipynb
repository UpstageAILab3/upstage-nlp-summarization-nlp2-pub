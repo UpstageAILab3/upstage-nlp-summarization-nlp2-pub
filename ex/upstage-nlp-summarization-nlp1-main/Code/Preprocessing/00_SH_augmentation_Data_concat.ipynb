{
 "cells": [
  {
   "cell_type": "markdown",
   "metadata": {},
   "source": [
    "# EDA Concat"
   ]
  },
  {
   "cell_type": "code",
   "execution_count": 2,
   "metadata": {},
   "outputs": [
    {
     "name": "stdout",
     "output_type": "stream",
     "text": [
      "데이터 병합이 완료되었습니다.\n"
     ]
    }
   ],
   "source": [
    "import pandas as pd\n",
    "\n",
    "# 1. okt_back_train.csv 파일 로드\n",
    "okt_back_train_df = pd.read_csv('../data/augment/okt_back_train.csv')\n",
    "\n",
    "# 2. 무작위로 5000개 행 선택\n",
    "sampled_df = okt_back_train_df.sample(n=5000)\n",
    "\n",
    "# 3. back_result_train.csv 파일 로드\n",
    "back_result_train_df = pd.read_csv('../data/augment/last_back_train.csv')\n",
    "\n",
    "# 4. 두 DataFrame 병합\n",
    "concatenated_df = pd.concat([sampled_df, back_result_train_df], ignore_index=True)\n",
    "\n",
    "# 5. 결과를 새 CSV 파일로 저장\n",
    "concatenated_df.to_csv('../data/augment/eda_aug_back_train.csv', index=False)\n",
    "\n",
    "print(\"데이터 병합이 완료되었습니다.\")\n"
   ]
  },
  {
   "cell_type": "markdown",
   "metadata": {},
   "source": [
    "# AEDA Concat"
   ]
  },
  {
   "cell_type": "code",
   "execution_count": 3,
   "metadata": {},
   "outputs": [
    {
     "name": "stdout",
     "output_type": "stream",
     "text": [
      "데이터 병합이 완료되었습니다.\n"
     ]
    }
   ],
   "source": [
    "import pandas as pd\n",
    "\n",
    "# 1. okt_back_train.csv 파일 로드\n",
    "okt_back_train_df = pd.read_csv('../data/augment/aeda_back_train.csv')\n",
    "\n",
    "# 2. 무작위로 5000개 행 선택\n",
    "sampled_df = okt_back_train_df.sample(n=5000)\n",
    "\n",
    "# 3. back_result_train.csv 파일 로드\n",
    "back_result_train_df = pd.read_csv('../data/augment/last_back_train.csv')\n",
    "\n",
    "# 4. 두 DataFrame 병합\n",
    "concatenated_df = pd.concat([sampled_df, back_result_train_df], ignore_index=True)\n",
    "\n",
    "# 5. 결과를 새 CSV 파일로 저장\n",
    "concatenated_df.to_csv('../data/augment/aeda_aug_back_train.csv', index=False)\n",
    "\n",
    "print(\"데이터 병합이 완료되었습니다.\")\n"
   ]
  },
  {
   "cell_type": "markdown",
   "metadata": {},
   "source": [
    "# AEDA 2500 + EDA 2500 Concat"
   ]
  },
  {
   "cell_type": "code",
   "execution_count": 6,
   "metadata": {},
   "outputs": [
    {
     "name": "stdout",
     "output_type": "stream",
     "text": [
      "데이터 병합이 완료되었습니다.\n"
     ]
    }
   ],
   "source": [
    "import pandas as pd\n",
    "\n",
    "# 1. okt_back_train.csv 파일 로드\n",
    "okt_eda_back_train_df = pd.read_csv('../data/augment/okt_back_train.csv')\n",
    "\n",
    "# 2. 무작위로 2500개 행 선택\n",
    "sampled_eda_df = okt_eda_back_train_df.sample(n=2500)\n",
    "\n",
    "# 1. okt_back_train.csv 파일 로드\n",
    "okt_aeda_back_train_df = pd.read_csv('../data/augment/aeda_back_train.csv')\n",
    "\n",
    "# 2. 무작위로 2500개 행 선택\n",
    "sampled_aeda_df = okt_aeda_back_train_df.sample(n=2500)\n",
    "\n",
    "# 3. back_result_train.csv 파일 로드\n",
    "back_result_train_df = pd.read_csv('../data/augment/last_back_train.csv')\n",
    "\n",
    "# 4. 두 DataFrame 병합\n",
    "concatenated_df = pd.concat([sampled_eda_df, back_result_train_df], ignore_index=True)\n",
    "\n",
    "# 4. 두 DataFrame 병합\n",
    "concatenated_df = pd.concat([sampled_aeda_df, concatenated_df], ignore_index=True)\n",
    "\n",
    "# 5. 결과를 새 CSV 파일로 저장\n",
    "concatenated_df.to_csv('../data/augment/eda_aeda_aug_back_train.csv', index=False)\n",
    "\n",
    "print(\"데이터 병합이 완료되었습니다.\")\n"
   ]
  },
  {
   "cell_type": "markdown",
   "metadata": {},
   "source": [
    "# Aug 2500 + EDA 2500"
   ]
  },
  {
   "cell_type": "code",
   "execution_count": 3,
   "metadata": {},
   "outputs": [
    {
     "name": "stdout",
     "output_type": "stream",
     "text": [
      "데이터 병합이 완료되었습니다.\n"
     ]
    }
   ],
   "source": [
    "import pandas as pd\n",
    "\n",
    "# 1. okt_back_train.csv 파일 로드\n",
    "okt_eda_back_train_df = pd.read_csv('../data/augment/okt_back_train.csv')\n",
    "\n",
    "# 2. 무작위로 2500개 행 선택\n",
    "sampled_eda_df = okt_eda_back_train_df.sample(n=2500)\n",
    "\n",
    "# 1. okt_back_train.csv 파일 로드\n",
    "aug_back_train_df = pd.read_csv('../data/augment/kwn10000_back_train.csv')\n",
    "\n",
    "# 2. 무작위로 2500개 행 선택\n",
    "sampled_aug_df = aug_back_train_df.sample(n=2500)\n",
    "\n",
    "# 3. back_result_train.csv 파일 로드\n",
    "back_result_train_df = pd.read_csv('../data/augment/back_result_train.csv')\n",
    "\n",
    "# 4. 두 DataFrame 병합\n",
    "concatenated_df = pd.concat([sampled_eda_df, back_result_train_df], ignore_index=True)\n",
    "\n",
    "# 4. 두 DataFrame 병합\n",
    "concatenated_df = pd.concat([sampled_aug_df, concatenated_df], ignore_index=True)\n",
    "\n",
    "# 5. 결과를 새 CSV 파일로 저장\n",
    "concatenated_df.to_csv('../data/augment/kwn10000_eda_aug_back_train.csv', index=False)\n",
    "\n",
    "print(\"데이터 병합이 완료되었습니다.\")\n"
   ]
  },
  {
   "cell_type": "markdown",
   "metadata": {},
   "source": [
    "# aug 3000 + eda 3000 + aeda 3000"
   ]
  },
  {
   "cell_type": "code",
   "execution_count": 5,
   "metadata": {},
   "outputs": [
    {
     "name": "stdout",
     "output_type": "stream",
     "text": [
      "데이터 병합이 완료되었습니다.\n"
     ]
    }
   ],
   "source": [
    "import pandas as pd\n",
    "\n",
    "# 1. okt_back_train.csv 파일 로드\n",
    "okt_eda_back_train_df = pd.read_csv('../data/augment/okt_back_train.csv')\n",
    "\n",
    "# 2. 무작위로 2500개 행 선택\n",
    "sampled_eda_df = okt_eda_back_train_df.sample(n=3000)\n",
    "\n",
    "# 1. okt_back_train.csv 파일 로드\n",
    "aug_back_train_df = pd.read_csv('../data/augment/kwn10000_back_train.csv')\n",
    "\n",
    "# 2. 무작위로 2500개 행 선택\n",
    "sampled_aug_df = aug_back_train_df.sample(n=3000)\n",
    "\n",
    "# 1. okt_back_train.csv 파일 로드\n",
    "aug_back_train_df = pd.read_csv('../data/augment/aeda_back_train.csv')\n",
    "\n",
    "# 2. 무작위로 2500개 행 선택\n",
    "sampled_aug_df = aug_back_train_df.sample(n=3000)\n",
    "\n",
    "# 3. back_result_train.csv 파일 로드\n",
    "back_result_train_df = pd.read_csv('../data/augment/last_back_train.csv')\n",
    "\n",
    "# 4. 두 DataFrame 병합\n",
    "concatenated_df = pd.concat([sampled_eda_df, back_result_train_df], ignore_index=True)\n",
    "\n",
    "# 4. 두 DataFrame 병합\n",
    "concatenated_df = pd.concat([sampled_aug_df, concatenated_df], ignore_index=True)\n",
    "\n",
    "# 5. 결과를 새 CSV 파일로 저장\n",
    "concatenated_df.to_csv('../data/augment/kwn10000_eda_aeda_aug_back_train.csv', index=False)\n",
    "\n",
    "print(\"데이터 병합이 완료되었습니다.\")\n"
   ]
  },
  {
   "cell_type": "markdown",
   "metadata": {},
   "source": [
    "# Aug 2500 + AEDA 2500"
   ]
  },
  {
   "cell_type": "code",
   "execution_count": 7,
   "metadata": {},
   "outputs": [
    {
     "name": "stdout",
     "output_type": "stream",
     "text": [
      "데이터 병합이 완료되었습니다.\n"
     ]
    },
    {
     "ename": "",
     "evalue": "",
     "output_type": "error",
     "traceback": [
      "\u001b[1;31mThe Kernel crashed while executing code in the current cell or a previous cell. \n",
      "\u001b[1;31mPlease review the code in the cell(s) to identify a possible cause of the failure. \n",
      "\u001b[1;31mClick <a href='https://aka.ms/vscodeJupyterKernelCrash'>here</a> for more info. \n",
      "\u001b[1;31mView Jupyter <a href='command:jupyter.viewOutput'>log</a> for further details."
     ]
    }
   ],
   "source": [
    "import pandas as pd\n",
    "\n",
    "# 1. okt_back_train.csv 파일 로드\n",
    "okt_eda_back_train_df = pd.read_csv('../data/augment/kwn10000_back_train.csv')\n",
    "\n",
    "# 2. 무작위로 2500개 행 선택\n",
    "sampled_eda_df = okt_eda_back_train_df.sample(n=2500)\n",
    "\n",
    "# 1. okt_back_train.csv 파일 로드\n",
    "okt_aeda_back_train_df = pd.read_csv('../data/augment/aeda_back_train.csv')\n",
    "\n",
    "# 2. 무작위로 2500개 행 선택\n",
    "sampled_aeda_df = okt_aeda_back_train_df.sample(n=2500)\n",
    "\n",
    "# 3. back_result_train.csv 파일 로드\n",
    "back_result_train_df = pd.read_csv('../data/augment/last_back_train.csv')\n",
    "\n",
    "# 4. 두 DataFrame 병합\n",
    "concatenated_df = pd.concat([sampled_eda_df, back_result_train_df], ignore_index=True)\n",
    "\n",
    "# 4. 두 DataFrame 병합\n",
    "concatenated_df = pd.concat([sampled_aeda_df, concatenated_df], ignore_index=True)\n",
    "\n",
    "# 5. 결과를 새 CSV 파일로 저장\n",
    "concatenated_df.to_csv('../data/augment/kwn10000_aeda_aug_back_train.csv', index=False)\n",
    "\n",
    "print(\"데이터 병합이 완료되었습니다.\")\n"
   ]
  },
  {
   "cell_type": "code",
   "execution_count": 2,
   "metadata": {},
   "outputs": [
    {
     "name": "stdout",
     "output_type": "stream",
     "text": [
      "데이터 병합이 완료되었습니다.\n"
     ]
    }
   ],
   "source": [
    "import pandas as pd\n",
    "\n",
    "# 1. okt_back_train.csv 파일 로드\n",
    "okt_eda_back_train_df = pd.read_csv('../data/augment/back_kwn37500_train.csv')\n",
    "\n",
    "# 1. okt_back_train.csv 파일 로드\n",
    "okt_aeda_back_train_df = pd.read_csv('../data/augment/aeda_back_train.csv')\n",
    "\n",
    "# 2. 무작위로 2500개 행 선택\n",
    "sampled_aeda_df = okt_aeda_back_train_df.sample(n=2500)\n",
    "\n",
    "# 4. 두 DataFrame 병합\n",
    "concatenated_df = pd.concat([okt_eda_back_train_df, sampled_aeda_df], ignore_index=True)\n",
    "\n",
    "# 5. 결과를 새 CSV 파일로 저장\n",
    "concatenated_df.to_csv('../data/augment/Final.csv', index=False)\n",
    "\n",
    "print(\"데이터 병합이 완료되었습니다.\")"
   ]
  },
  {
   "cell_type": "code",
   "execution_count": 3,
   "metadata": {},
   "outputs": [
    {
     "name": "stdout",
     "output_type": "stream",
     "text": [
      "<class 'pandas.core.frame.DataFrame'>\n",
      "RangeIndex: 40000 entries, 0 to 39999\n",
      "Data columns (total 4 columns):\n",
      " #   Column    Non-Null Count  Dtype \n",
      "---  ------    --------------  ----- \n",
      " 0   fname     40000 non-null  object\n",
      " 1   dialogue  40000 non-null  object\n",
      " 2   summary   40000 non-null  object\n",
      " 3   topic     40000 non-null  object\n",
      "dtypes: object(4)\n",
      "memory usage: 1.2+ MB\n"
     ]
    }
   ],
   "source": [
    "concatenated_df.info()"
   ]
  },
  {
   "cell_type": "code",
   "execution_count": null,
   "metadata": {},
   "outputs": [],
   "source": []
  }
 ],
 "metadata": {
  "kernelspec": {
   "display_name": "base",
   "language": "python",
   "name": "python3"
  },
  "language_info": {
   "codemirror_mode": {
    "name": "ipython",
    "version": 3
   },
   "file_extension": ".py",
   "mimetype": "text/x-python",
   "name": "python",
   "nbconvert_exporter": "python",
   "pygments_lexer": "ipython3",
   "version": "3.10.13"
  }
 },
 "nbformat": 4,
 "nbformat_minor": 2
}
