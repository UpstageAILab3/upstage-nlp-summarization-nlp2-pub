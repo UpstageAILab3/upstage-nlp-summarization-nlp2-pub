{
 "cells": [
  {
   "cell_type": "markdown",
   "metadata": {},
   "source": [
    "# 5 eda aeda back\n",
    "\n",
    "### 1) Set functions\n",
    "- [\"Okt\", \"Kkma\", \"Komoran\", \"Mecab\", \"Hannanum\"]"
   ]
  },
  {
   "cell_type": "code",
   "execution_count": 1,
   "metadata": {},
   "outputs": [],
   "source": [
    "# # 분할을 원하지 않는 단어 모아두기\n",
    "# no_tokenized = ['#Person#', '#Person1#', '#Person2#', '#Person3#', \n",
    "# '#Person4#', '#Person5#', '#Person6#', '#Person7#', '#사람1#',\n",
    "# '#PhoneNumber#', '#Address#', '#PassportNumber#',\n",
    "# '#DateOfBirth#','#SSN#','#CardNumber#','#CarNumber#','#Email#']"
   ]
  },
  {
   "cell_type": "code",
   "execution_count": 2,
   "metadata": {},
   "outputs": [],
   "source": [
    "# from jamo import h2j, j2hcj\n",
    "\n",
    "# def get_jongsung_TF(sample_text):\n",
    "#     sample_text_list = list(sample_text)\n",
    "#     last_word = sample_text_list[-1]\n",
    "#     last_word_jamo_list = list(j2hcj(h2j(last_word)))\n",
    "#     last_jamo = last_word_jamo_list[-1]\n",
    "\n",
    "#     jongsung_TF = \"T\"\n",
    "\n",
    "#     if last_jamo in ['ㅏ', 'ㅑ', 'ㅓ', 'ㅕ', 'ㅗ', 'ㅛ', 'ㅜ', 'ㅠ', 'ㅡ', 'ㅣ', 'ㅘ', 'ㅚ', 'ㅙ', 'ㅝ', 'ㅞ', 'ㅢ', 'ㅐ,ㅔ', 'ㅟ', 'ㅖ', 'ㅒ']:\n",
    "#         jongsung_TF = \"F\"\n",
    "\n",
    "#     return jongsung_TF\n",
    "    \n",
    "\n",
    "# # tmp 경로에 저장된 사용자 사전 명사에 새로운 단어 추가\n",
    "# with open('../mecab-0.996-ko-0.9.2/mecab-ko-dic-2.1.1-20180720/user-dic/nnp.csv', \"r\", encoding='utf-8') as f:\n",
    "#   user_dict = f.readlines()\n",
    "\n",
    "# for word in no_tokenized:\n",
    "#   jongsung_TF = get_jongsung_TF(word)\n",
    "#   line = '{},*,*,*,NNP,*,{},{},*,*,*,*,*\\n'.format(word, jongsung_TF, word)\n",
    "\n",
    "#   user_dict.append(line)\n",
    "  \n",
    "# print(user_dict[-10:])"
   ]
  },
  {
   "cell_type": "code",
   "execution_count": 3,
   "metadata": {},
   "outputs": [],
   "source": [
    "# # 재저장\n",
    "# with open('../mecab-0.996-ko-0.9.2/mecab-ko-dic-2.1.1-20180720/user-dic/nnp.csv', 'w', encoding='utf-8') as f:\n",
    "#   for line in user_dict:\n",
    "#     f.write(line)"
   ]
  },
  {
   "cell_type": "code",
   "execution_count": 4,
   "metadata": {},
   "outputs": [],
   "source": [
    "# load library\n",
    "from koeda import EasyDataAugmentation, AEasierDataAugmentation\n",
    "import pandas as pd\n",
    "from tqdm.notebook import tqdm\n",
    "import random\n",
    "import time\n",
    "\n",
    "# EDA\n",
    "def augment_text_data_with_EDA(text_col, repetition):\n",
    "    # 단어 바꾸기\n",
    "    \"\"\"입력된 문장에 대해서 EDA를 통해 데이터 증강\"\"\"\n",
    "    eda = EasyDataAugmentation(\n",
    "        morpheme_analyzer=\"Mecab\"\n",
    "        )\n",
    "    \n",
    "    random.seed(42)\n",
    "\n",
    "    result = text_col.progress_apply(eda, p=(0.8, 0.01, 0.02, 0.01), repetition=repetition)\n",
    "    print(result)\n",
    "    \n",
    "    return result\n",
    "\n",
    "# AEDA\n",
    "def augment_text_data_with_AEDA(text_col, repetition):\n",
    "    # 단어 사이에 문자 추가하기\n",
    "    \"\"\"입력된 문장에 대해서 AEDA를 통해 데이터 증강\"\"\"\n",
    "    aeda = AEasierDataAugmentation(\n",
    "        morpheme_analyzer=\"Mecab\",\n",
    "        punctuations=[\".\", \",\", \"!\", \"?\", \";\", \":\"]\n",
    "    )\n",
    "\n",
    "    random.seed(42)\n",
    "    \n",
    "    # result = text_col.progress_apply(aeda, p=0.05, repetition=repetition)\n",
    "    result = []\n",
    "    for i in tqdm(range(len(text_col))):\n",
    "        time.sleep(0.01)\n",
    "        a = aeda(text_col[i], p = 0.05, repetition=repetition)\n",
    "        result.append(a)\n",
    "\n",
    "    print(result)\n",
    "    return result"
   ]
  },
  {
   "cell_type": "code",
   "execution_count": 5,
   "metadata": {},
   "outputs": [],
   "source": [
    "# pandas tqdm 호출\n",
    "tqdm.pandas() # tqdm의 pandas전용 메소드를 호출합니다."
   ]
  },
  {
   "cell_type": "markdown",
   "metadata": {},
   "source": [
    "### 2) application train data"
   ]
  },
  {
   "cell_type": "code",
   "execution_count": 6,
   "metadata": {},
   "outputs": [],
   "source": [
    "# load original data\n",
    "train = pd.read_csv('../data/back_result_train.csv')"
   ]
  },
  {
   "cell_type": "code",
   "execution_count": 7,
   "metadata": {},
   "outputs": [
    {
     "data": {
      "application/vnd.jupyter.widget-view+json": {
       "model_id": "1e46f44dfc6d41f5b014355a44693d1d",
       "version_major": 2,
       "version_minor": 0
      },
      "text/plain": [
       "  0%|          | 0/24914 [00:00<?, ?it/s]"
      ]
     },
     "metadata": {},
     "output_type": "display_data"
    },
    {
     "name": "stdout",
     "output_type": "stream",
     "text": [
      "0        #Person1#: 오늘 저녁에는 Ravensfield Outdoor Adventu...\n",
      "1        #Person1#: 그럼 제가 데리러 갈까요? #Person2#: 잘 모르겠습니다....\n",
      "2        #Person1#: 안녕, 루시. 당신이 가장 좋아하는 TV 프로그램은 무엇입니까?...\n",
      "3        #Person1#: 안녕하세요. #Person2#: 안녕하세요, 선생님. 런던 히드...\n",
      "4        #Person1#: 시내 중심가로 가는 방법에 대한 정보를 알려주실 수 있나요? #...\n",
      "                               ...                        \n",
      "24909    #Person1# 실례합니다. 맨체스터 출신의 그린 씨이신가요?#Person2#: ...\n",
      "24910    #Person1#: 이윙 씨가 우리가 컨퍼런스 센터에 오후 4시에 도착해야 한다고 ...\n",
      "24911    #Person1#: 오늘 어떻게 도와드릴까요?#Person2#: 차를 빌리고 싶습니...\n",
      "24912    #Person1#: 오늘 좀 행복해 보이지 않아. 무슨 일 있어?#Person2#:...\n",
      "24913    #Person1#: 엄마, 다음 토요일에 이 삼촌네 가족을 방문하기 위해 비행기를 ...\n",
      "Name: dialogue, Length: 24914, dtype: object\n"
     ]
    }
   ],
   "source": [
    "# eda\n",
    "train2 = train.copy()\n",
    "train2['dialogue'] = augment_text_data_with_EDA(train2['dialogue'], 1)\n",
    "train2.to_csv('../data/back_mecab_eda_augmentation.csv', index = False)"
   ]
  },
  {
   "cell_type": "code",
   "execution_count": 8,
   "metadata": {},
   "outputs": [],
   "source": [
    "# # aeda\n",
    "# train3 = train.copy()\n",
    "# train3['dialogue'] = augment_text_data_with_AEDA(train3['dialogue'], 1)\n",
    "# train3.to_csv('../data/mecab_aeda_augmentation.csv')"
   ]
  },
  {
   "cell_type": "code",
   "execution_count": 24,
   "metadata": {},
   "outputs": [
    {
     "data": {
      "application/vnd.jupyter.widget-view+json": {
       "model_id": "c4f6e8cf4d7f405b8ead00a7fa4847bc",
       "version_major": 2,
       "version_minor": 0
      },
      "text/plain": [
       "  0%|          | 0/3000 [00:00<?, ?it/s]"
      ]
     },
     "metadata": {},
     "output_type": "display_data"
    }
   ],
   "source": [
    "# 자동화 안되서 분할 적용하기 위해 수동으로 적용\n",
    "aeda = AEasierDataAugmentation(\n",
    "    morpheme_analyzer=\"Mecab\",\n",
    "    punctuations=[\".\", \",\", \"!\", \"?\", \";\", \":\"]\n",
    ")\n",
    "\n",
    "random.seed(42)\n",
    "\n",
    "# result = text_col.progress_apply(aeda, p=0.05, repetition=repetition)\n",
    "result = []\n",
    "n = len(train['dialogue'])\n",
    "for i in tqdm(range(3000)):\n",
    "    a = aeda(train['dialogue'][i], p = 0.05, repetition=1)\n",
    "    result.append(a)"
   ]
  },
  {
   "cell_type": "code",
   "execution_count": 25,
   "metadata": {},
   "outputs": [
    {
     "data": {
      "application/vnd.jupyter.widget-view+json": {
       "model_id": "df39425d5036461ea703987e57925d96",
       "version_major": 2,
       "version_minor": 0
      },
      "text/plain": [
       "  0%|          | 0/3000 [00:00<?, ?it/s]"
      ]
     },
     "metadata": {},
     "output_type": "display_data"
    }
   ],
   "source": [
    "# 2탄\n",
    "for i in tqdm(range(3000, 6000)):\n",
    "    a = aeda(train['dialogue'][i], p = 0.05, repetition=1)\n",
    "    result.append(a)"
   ]
  },
  {
   "cell_type": "code",
   "execution_count": 28,
   "metadata": {},
   "outputs": [
    {
     "data": {
      "application/vnd.jupyter.widget-view+json": {
       "model_id": "3c00996d61d74bcb8aaff73b08e1b63b",
       "version_major": 2,
       "version_minor": 0
      },
      "text/plain": [
       "  0%|          | 0/1732 [00:00<?, ?it/s]"
      ]
     },
     "metadata": {},
     "output_type": "display_data"
    }
   ],
   "source": [
    "# 3탄\n",
    "for i in tqdm(range(7268, 9000)):\n",
    "    a = aeda(train['dialogue'][i], p = 0.05, repetition=1)\n",
    "    result.append(a)"
   ]
  },
  {
   "cell_type": "code",
   "execution_count": 34,
   "metadata": {},
   "outputs": [
    {
     "data": {
      "application/vnd.jupyter.widget-view+json": {
       "model_id": "fb9759a1d2724316b98da349f4d0925a",
       "version_major": 2,
       "version_minor": 0
      },
      "text/plain": [
       "  0%|          | 0/5089 [00:00<?, ?it/s]"
      ]
     },
     "metadata": {},
     "output_type": "display_data"
    }
   ],
   "source": [
    "# 4탄\n",
    "for i in tqdm(range(19825, n)):\n",
    "    a = aeda(train['dialogue'][i], p = 0.05, repetition=1)\n",
    "    result.append(a)"
   ]
  },
  {
   "cell_type": "code",
   "execution_count": 35,
   "metadata": {},
   "outputs": [
    {
     "data": {
      "text/plain": [
       "24914"
      ]
     },
     "execution_count": 35,
     "metadata": {},
     "output_type": "execute_result"
    }
   ],
   "source": [
    "# 결과 비교\n",
    "len(result)"
   ]
  },
  {
   "cell_type": "code",
   "execution_count": 36,
   "metadata": {},
   "outputs": [
    {
     "data": {
      "text/plain": [
       "24914"
      ]
     },
     "execution_count": 36,
     "metadata": {},
     "output_type": "execute_result"
    }
   ],
   "source": [
    "# 동일한 개수 확인\n",
    "len(train['dialogue'])"
   ]
  },
  {
   "cell_type": "code",
   "execution_count": 37,
   "metadata": {},
   "outputs": [],
   "source": [
    "# 저장\n",
    "train3 = train.copy()\n",
    "train3['dialogue'] = result\n",
    "train3.to_csv('../data/back_mecab_aeda_augmentation.csv', index = False)"
   ]
  },
  {
   "cell_type": "code",
   "execution_count": 38,
   "metadata": {},
   "outputs": [],
   "source": [
    "# 통합 후 저장\n",
    "train_merge = pd.concat([train, train2, train3])\n",
    "train_merge.to_csv('../data/back_augment_train_merge.csv', index = False)"
   ]
  },
  {
   "cell_type": "code",
   "execution_count": null,
   "metadata": {},
   "outputs": [],
   "source": []
  }
 ],
 "metadata": {
  "kernelspec": {
   "display_name": "base",
   "language": "python",
   "name": "python3"
  },
  "language_info": {
   "codemirror_mode": {
    "name": "ipython",
    "version": 3
   },
   "file_extension": ".py",
   "mimetype": "text/x-python",
   "name": "python",
   "nbconvert_exporter": "python",
   "pygments_lexer": "ipython3",
   "version": "3.10.13"
  }
 },
 "nbformat": 4,
 "nbformat_minor": 2
}
