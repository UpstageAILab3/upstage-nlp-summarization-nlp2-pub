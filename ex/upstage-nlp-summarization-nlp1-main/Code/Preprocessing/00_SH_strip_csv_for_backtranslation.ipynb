{
 "cells": [
  {
   "cell_type": "code",
   "execution_count": 1,
   "metadata": {},
   "outputs": [
    {
     "name": "stdout",
     "output_type": "stream",
     "text": [
      "CSV 파일의 문장 앞뒤 빈 공간 제거 완료!\n"
     ]
    }
   ],
   "source": [
    "import csv\n",
    "\n",
    "# 원본 CSV 파일 이름\n",
    "input_filename = 'output.csv'\n",
    "# 수정된 내용을 저장할 새 CSV 파일 이름\n",
    "output_filename = 'modified_file.csv'\n",
    "\n",
    "# 수정된 라인들을 저장할 리스트\n",
    "modified_lines = []\n",
    "\n",
    "# 원본 파일을 읽기 모드로 열기\n",
    "with open(input_filename, mode='r', encoding='utf-8') as csvfile:\n",
    "    reader = csv.reader(csvfile)\n",
    "    for row in reader:\n",
    "        # 각 row는 리스트이며, 각 컬럼의 데이터를 포함합니다.\n",
    "        # 각 컬럼의 앞뒤 공백을 제거\n",
    "        modified_row = [cell.strip() for cell in row]\n",
    "        modified_lines.append(modified_row)\n",
    "\n",
    "# 수정된 내용을 새 파일에 쓰기\n",
    "with open(output_filename, mode='w', newline='', encoding='utf-8') as csvfile:\n",
    "    writer = csv.writer(csvfile)\n",
    "    writer.writerows(modified_lines)\n",
    "\n",
    "print('CSV 파일의 문장 앞뒤 빈 공간 제거 완료!')"
   ]
  },
  {
   "cell_type": "code",
   "execution_count": null,
   "metadata": {},
   "outputs": [],
   "source": []
  }
 ],
 "metadata": {
  "kernelspec": {
   "display_name": "base",
   "language": "python",
   "name": "python3"
  },
  "language_info": {
   "codemirror_mode": {
    "name": "ipython",
    "version": 3
   },
   "file_extension": ".py",
   "mimetype": "text/x-python",
   "name": "python",
   "nbconvert_exporter": "python",
   "pygments_lexer": "ipython3",
   "version": "3.10.13"
  }
 },
 "nbformat": 4,
 "nbformat_minor": 2
}
