{
 "cells": [
  {
   "cell_type": "markdown",
   "metadata": {},
   "source": [
    "# 5 eda aeda back\n",
    "\n",
    "### 1) Set functions\n",
    "- [\"Okt\", \"Kkma\", \"Komoran\", \"Mecab\", \"Hannanum\"]"
   ]
  },
  {
   "cell_type": "code",
   "execution_count": 1,
   "metadata": {},
   "outputs": [],
   "source": [
    "# # 분할을 원하지 않는 단어 모아두기\n",
    "# no_tokenized = ['#Person#', '#Person1#', '#Person2#', '#Person3#', \n",
    "# '#Person4#', '#Person5#', '#Person6#', '#Person7#', '#사람1#',\n",
    "# '#PhoneNumber#', '#Address#', '#PassportNumber#',\n",
    "# '#DateOfBirth#','#SSN#','#CardNumber#','#CarNumber#','#Email#']"
   ]
  },
  {
   "cell_type": "code",
   "execution_count": 2,
   "metadata": {},
   "outputs": [],
   "source": [
    "# from jamo import h2j, j2hcj\n",
    "\n",
    "# def get_jongsung_TF(sample_text):\n",
    "#     sample_text_list = list(sample_text)\n",
    "#     last_word = sample_text_list[-1]\n",
    "#     last_word_jamo_list = list(j2hcj(h2j(last_word)))\n",
    "#     last_jamo = last_word_jamo_list[-1]\n",
    "\n",
    "#     jongsung_TF = \"T\"\n",
    "\n",
    "#     if last_jamo in ['ㅏ', 'ㅑ', 'ㅓ', 'ㅕ', 'ㅗ', 'ㅛ', 'ㅜ', 'ㅠ', 'ㅡ', 'ㅣ', 'ㅘ', 'ㅚ', 'ㅙ', 'ㅝ', 'ㅞ', 'ㅢ', 'ㅐ,ㅔ', 'ㅟ', 'ㅖ', 'ㅒ']:\n",
    "#         jongsung_TF = \"F\"\n",
    "\n",
    "#     return jongsung_TF\n",
    "    \n",
    "\n",
    "# # tmp 경로에 저장된 사용자 사전 명사에 새로운 단어 추가\n",
    "# with open('../mecab-0.996-ko-0.9.2/mecab-ko-dic-2.1.1-20180720/user-dic/nnp.csv', \"r\", encoding='utf-8') as f:\n",
    "#   user_dict = f.readlines()\n",
    "\n",
    "# for word in no_tokenized:\n",
    "#   jongsung_TF = get_jongsung_TF(word)\n",
    "#   line = '{},*,*,*,NNP,*,{},{},*,*,*,*,*\\n'.format(word, jongsung_TF, word)\n",
    "\n",
    "#   user_dict.append(line)\n",
    "  \n",
    "# print(user_dict[-10:])"
   ]
  },
  {
   "cell_type": "code",
   "execution_count": 3,
   "metadata": {},
   "outputs": [],
   "source": [
    "# # 재저장\n",
    "# with open('../mecab-0.996-ko-0.9.2/mecab-ko-dic-2.1.1-20180720/user-dic/nnp.csv', 'w', encoding='utf-8') as f:\n",
    "#   for line in user_dict:\n",
    "#     f.write(line)"
   ]
  },
  {
   "cell_type": "code",
   "execution_count": 4,
   "metadata": {},
   "outputs": [],
   "source": [
    "# load library\n",
    "from koeda import EasyDataAugmentation, AEasierDataAugmentation\n",
    "import pandas as pd\n",
    "from tqdm.notebook import tqdm\n",
    "import random\n",
    "import time\n",
    "\n",
    "# EDA\n",
    "def augment_text_data_with_EDA(text_col, repetition):\n",
    "    # 단어 바꾸기\n",
    "    \"\"\"입력된 문장에 대해서 EDA를 통해 데이터 증강\"\"\"\n",
    "    eda = EasyDataAugmentation(\n",
    "        morpheme_analyzer=\"Mecab\"\n",
    "        )\n",
    "    \n",
    "    random.seed(42)\n",
    "\n",
    "    result = text_col.progress_apply(eda, p=(0.8, 0.1, 0.1, 0.05), repetition=repetition)\n",
    "    print(result)\n",
    "    \n",
    "    return result\n",
    "\n",
    "# AEDA\n",
    "def augment_text_data_with_AEDA(text_col, repetition):\n",
    "    # 단어 사이에 문자 추가하기\n",
    "    \"\"\"입력된 문장에 대해서 AEDA를 통해 데이터 증강\"\"\"\n",
    "    aeda = AEasierDataAugmentation(\n",
    "        morpheme_analyzer=\"Mecab\",\n",
    "        punctuations=[\".\", \",\", \"!\", \"?\", \";\", \":\"]\n",
    "    )\n",
    "\n",
    "    random.seed(42)\n",
    "    \n",
    "    # result = text_col.progress_apply(aeda, p=0.05, repetition=repetition)\n",
    "    result = []\n",
    "    for i in tqdm(range(len(text_col))):\n",
    "        time.sleep(0.01)\n",
    "        a = aeda(text_col[i], p = 0.05, repetition=repetition)\n",
    "        result.append(a)\n",
    "\n",
    "    print(result)\n",
    "    return result"
   ]
  },
  {
   "cell_type": "code",
   "execution_count": 5,
   "metadata": {},
   "outputs": [],
   "source": [
    "# pandas tqdm 호출\n",
    "tqdm.pandas() # tqdm의 pandas전용 메소드를 호출합니다."
   ]
  },
  {
   "cell_type": "markdown",
   "metadata": {},
   "source": [
    "### 2) application train data"
   ]
  },
  {
   "cell_type": "code",
   "execution_count": 6,
   "metadata": {},
   "outputs": [],
   "source": [
    "# load original data\n",
    "train = pd.read_csv('../data/동혁신_train.csv')"
   ]
  },
  {
   "cell_type": "code",
   "execution_count": 7,
   "metadata": {},
   "outputs": [
    {
     "data": {
      "application/vnd.jupyter.widget-view+json": {
       "model_id": "e6e6c5904b4d422e820239cebb790fb7",
       "version_major": 2,
       "version_minor": 0
      },
      "text/plain": [
       "  0%|          | 0/5000 [00:00<?, ?it/s]"
      ]
     },
     "metadata": {},
     "output_type": "display_data"
    },
    {
     "name": "stdout",
     "output_type": "stream",
     "text": [
      "15056    #Person1#: 보고서 작성을 시작하셨나요? #Person2#: 정보를 얻는 데...\n",
      "17792    #Person1#: 잘 선택하셨습니다. 이 중국 찻잔 세트는 매가 특이하네요.#Pe...\n",
      "18415    #Person1#? #전화:#. #Person2#: 주인과 통화할 수 있나요? #P...\n",
      "8410     #Person1#: 오전 에이브러햄 링컨이 가장 위대한 미국인이라는 것은 법칙 풍경...\n",
      "2867     #Person1#: 실례합니다. 뉴욕으로 보내는 편지의 우편 요금은 얼마인가요?#P...\n",
      "                               ...                        \n",
      "20481    #Person1#것 좋아요, 마크. 이제 당신 차례예요. 문가나 지난번세요 두드리에...\n",
      "33417    #Person1#: 무엇을 도와드릴까요?#Person2#: 프린터를 사용움직임고 싶...\n",
      "31090    #Person1#: 우리 회사에서는 새로운 직원들에게 아파트를 제공하나요?#Pers...\n",
      "28864    #Person1#: 주문 도와드릴까요?#Person2#: 네, 치즈버거랑 프렌치프라...\n",
      "32348    #Person1#: 이 시계는 제명 당신의 것인가요?#Person2#: 아니요, 제...\n",
      "Name: dialogue, Length: 5000, dtype: object\n"
     ]
    }
   ],
   "source": [
    "# eda\n",
    "train2 = train.sample(n=5000, random_state=42)\n",
    "train2['dialogue'] = augment_text_data_with_EDA(train2['dialogue'], 1)\n",
    "train2.to_csv('../data/동혁신_mecab_eda_augmentation.csv', index = False)"
   ]
  },
  {
   "cell_type": "code",
   "execution_count": 8,
   "metadata": {},
   "outputs": [],
   "source": [
    "# # aeda\n",
    "# train3 = train.copy()\n",
    "# train3['dialogue'] = augment_text_data_with_AEDA(train3['dialogue'], 1)\n",
    "# train3.to_csv('../data/mecab_aeda_augmentation.csv')"
   ]
  },
  {
   "cell_type": "code",
   "execution_count": 9,
   "metadata": {},
   "outputs": [
    {
     "data": {
      "application/vnd.jupyter.widget-view+json": {
       "model_id": "c124f7fddeb747d09e5f2f70917e83e5",
       "version_major": 2,
       "version_minor": 0
      },
      "text/plain": [
       "  0%|          | 0/5000 [00:00<?, ?it/s]"
      ]
     },
     "metadata": {},
     "output_type": "display_data"
    },
    {
     "ename": "KeyboardInterrupt",
     "evalue": "",
     "output_type": "error",
     "traceback": [
      "\u001b[0;31m---------------------------------------------------------------------------\u001b[0m",
      "\u001b[0;31mKeyboardInterrupt\u001b[0m                         Traceback (most recent call last)",
      "Cell \u001b[0;32mIn[9], line 14\u001b[0m\n\u001b[1;32m     12\u001b[0m n \u001b[38;5;241m=\u001b[39m \u001b[38;5;28mlen\u001b[39m(train_sample[\u001b[38;5;124m'\u001b[39m\u001b[38;5;124mdialogue\u001b[39m\u001b[38;5;124m'\u001b[39m])\n\u001b[1;32m     13\u001b[0m \u001b[38;5;28;01mfor\u001b[39;00m i \u001b[38;5;129;01min\u001b[39;00m tqdm(\u001b[38;5;28mrange\u001b[39m(n)):\n\u001b[0;32m---> 14\u001b[0m     a \u001b[38;5;241m=\u001b[39m \u001b[43maeda\u001b[49m\u001b[43m(\u001b[49m\u001b[43mtrain_sample\u001b[49m\u001b[43m[\u001b[49m\u001b[38;5;124;43m'\u001b[39;49m\u001b[38;5;124;43mdialogue\u001b[39;49m\u001b[38;5;124;43m'\u001b[39;49m\u001b[43m]\u001b[49m\u001b[43m[\u001b[49m\u001b[43mi\u001b[49m\u001b[43m]\u001b[49m\u001b[43m,\u001b[49m\u001b[43m \u001b[49m\u001b[43mp\u001b[49m\u001b[43m \u001b[49m\u001b[38;5;241;43m=\u001b[39;49m\u001b[43m \u001b[49m\u001b[38;5;241;43m0.05\u001b[39;49m\u001b[43m,\u001b[49m\u001b[43m \u001b[49m\u001b[43mrepetition\u001b[49m\u001b[38;5;241;43m=\u001b[39;49m\u001b[38;5;241;43m1\u001b[39;49m\u001b[43m)\u001b[49m\n\u001b[1;32m     15\u001b[0m     result\u001b[38;5;241m.\u001b[39mappend(a)\n",
      "File \u001b[0;32m/opt/conda/lib/python3.10/site-packages/koeda/aeda.py:35\u001b[0m, in \u001b[0;36mAEasierDataAugmentation.__call__\u001b[0;34m(self, *args, **kwargs)\u001b[0m\n\u001b[1;32m     34\u001b[0m \u001b[38;5;28;01mdef\u001b[39;00m \u001b[38;5;21m__call__\u001b[39m(\u001b[38;5;28mself\u001b[39m, \u001b[38;5;241m*\u001b[39margs, \u001b[38;5;241m*\u001b[39m\u001b[38;5;241m*\u001b[39mkwargs):\n\u001b[0;32m---> 35\u001b[0m     \u001b[38;5;28;01mreturn\u001b[39;00m \u001b[38;5;28;43mself\u001b[39;49m\u001b[38;5;241;43m.\u001b[39;49m\u001b[43maeda\u001b[49m\u001b[43m(\u001b[49m\u001b[38;5;241;43m*\u001b[39;49m\u001b[43margs\u001b[49m\u001b[43m,\u001b[49m\u001b[43m \u001b[49m\u001b[38;5;241;43m*\u001b[39;49m\u001b[38;5;241;43m*\u001b[39;49m\u001b[43mkwargs\u001b[49m\u001b[43m)\u001b[49m\n",
      "File \u001b[0;32m/opt/conda/lib/python3.10/site-packages/koeda/aeda.py:42\u001b[0m, in \u001b[0;36mAEasierDataAugmentation.aeda\u001b[0;34m(self, data, p, repetition)\u001b[0m\n\u001b[1;32m     40\u001b[0m \u001b[38;5;28;01mif\u001b[39;00m \u001b[38;5;28misinstance\u001b[39m(data, \u001b[38;5;28mstr\u001b[39m):\n\u001b[1;32m     41\u001b[0m     \u001b[38;5;28;01mif\u001b[39;00m repetition \u001b[38;5;241m<\u001b[39m\u001b[38;5;241m=\u001b[39m \u001b[38;5;241m1\u001b[39m:\n\u001b[0;32m---> 42\u001b[0m         \u001b[38;5;28;01mreturn\u001b[39;00m \u001b[38;5;28;43mself\u001b[39;49m\u001b[38;5;241;43m.\u001b[39;49m\u001b[43m_aeda\u001b[49m\u001b[43m(\u001b[49m\u001b[43mdata\u001b[49m\u001b[43m,\u001b[49m\u001b[43m \u001b[49m\u001b[43mp\u001b[49m\u001b[43m)\u001b[49m\n\u001b[1;32m     43\u001b[0m     \u001b[38;5;28;01melse\u001b[39;00m:\n\u001b[1;32m     44\u001b[0m         \u001b[38;5;28;01mreturn\u001b[39;00m \u001b[38;5;28mlist\u001b[39m(\n\u001b[1;32m     45\u001b[0m             \u001b[38;5;28mmap\u001b[39m(\u001b[38;5;28mself\u001b[39m\u001b[38;5;241m.\u001b[39m_aeda, repeat(data, repetition), repeat(p, repetition))\n\u001b[1;32m     46\u001b[0m         )\n",
      "File \u001b[0;32m/opt/conda/lib/python3.10/site-packages/koeda/aeda.py:73\u001b[0m, in \u001b[0;36mAEasierDataAugmentation._aeda\u001b[0;34m(self, data, p)\u001b[0m\n\u001b[1;32m     70\u001b[0m qs \u001b[38;5;241m=\u001b[39m random\u001b[38;5;241m.\u001b[39msample(\u001b[38;5;28mrange\u001b[39m(\u001b[38;5;241m0\u001b[39m, \u001b[38;5;28mlen\u001b[39m(split_words)), q)\n\u001b[1;32m     72\u001b[0m \u001b[38;5;28;01mwhile\u001b[39;00m \u001b[38;5;28mself\u001b[39m\u001b[38;5;241m.\u001b[39mcheck_special_selection(split_words, qs):\n\u001b[0;32m---> 73\u001b[0m     qs \u001b[38;5;241m=\u001b[39m \u001b[43mrandom\u001b[49m\u001b[38;5;241;43m.\u001b[39;49m\u001b[43msample\u001b[49m\u001b[43m(\u001b[49m\u001b[38;5;28;43mrange\u001b[39;49m\u001b[43m(\u001b[49m\u001b[38;5;241;43m0\u001b[39;49m\u001b[43m,\u001b[49m\u001b[43m \u001b[49m\u001b[38;5;28;43mlen\u001b[39;49m\u001b[43m(\u001b[49m\u001b[43msplit_words\u001b[49m\u001b[43m)\u001b[49m\u001b[43m)\u001b[49m\u001b[43m,\u001b[49m\u001b[43m \u001b[49m\u001b[43mq\u001b[49m\u001b[43m)\u001b[49m\n\u001b[1;32m     75\u001b[0m \u001b[38;5;28;01mfor\u001b[39;00m j, word \u001b[38;5;129;01min\u001b[39;00m \u001b[38;5;28menumerate\u001b[39m(split_words):\n\u001b[1;32m     76\u001b[0m     \u001b[38;5;28;01mif\u001b[39;00m j \u001b[38;5;129;01min\u001b[39;00m qs:\n",
      "File \u001b[0;32m/opt/conda/lib/python3.10/random.py:499\u001b[0m, in \u001b[0;36mRandom.sample\u001b[0;34m(self, population, k, counts)\u001b[0m\n\u001b[1;32m    497\u001b[0m selected_add \u001b[38;5;241m=\u001b[39m selected\u001b[38;5;241m.\u001b[39madd\n\u001b[1;32m    498\u001b[0m \u001b[38;5;28;01mfor\u001b[39;00m i \u001b[38;5;129;01min\u001b[39;00m \u001b[38;5;28mrange\u001b[39m(k):\n\u001b[0;32m--> 499\u001b[0m     j \u001b[38;5;241m=\u001b[39m \u001b[43mrandbelow\u001b[49m\u001b[43m(\u001b[49m\u001b[43mn\u001b[49m\u001b[43m)\u001b[49m\n\u001b[1;32m    500\u001b[0m     \u001b[38;5;28;01mwhile\u001b[39;00m j \u001b[38;5;129;01min\u001b[39;00m selected:\n\u001b[1;32m    501\u001b[0m         j \u001b[38;5;241m=\u001b[39m randbelow(n)\n",
      "File \u001b[0;32m/opt/conda/lib/python3.10/random.py:239\u001b[0m, in \u001b[0;36mRandom._randbelow_with_getrandbits\u001b[0;34m(self, n)\u001b[0m\n\u001b[1;32m    236\u001b[0m             \u001b[38;5;28mcls\u001b[39m\u001b[38;5;241m.\u001b[39m_randbelow \u001b[38;5;241m=\u001b[39m \u001b[38;5;28mcls\u001b[39m\u001b[38;5;241m.\u001b[39m_randbelow_without_getrandbits\n\u001b[1;32m    237\u001b[0m             \u001b[38;5;28;01mbreak\u001b[39;00m\n\u001b[0;32m--> 239\u001b[0m \u001b[38;5;28;01mdef\u001b[39;00m \u001b[38;5;21m_randbelow_with_getrandbits\u001b[39m(\u001b[38;5;28mself\u001b[39m, n):\n\u001b[1;32m    240\u001b[0m     \u001b[38;5;124m\"\u001b[39m\u001b[38;5;124mReturn a random int in the range [0,n).  Returns 0 if n==0.\u001b[39m\u001b[38;5;124m\"\u001b[39m\n\u001b[1;32m    242\u001b[0m     \u001b[38;5;28;01mif\u001b[39;00m \u001b[38;5;129;01mnot\u001b[39;00m n:\n",
      "\u001b[0;31mKeyboardInterrupt\u001b[0m: "
     ]
    }
   ],
   "source": [
    "# 자동화 안되서 분할 적용하기 위해 수동으로 적용\n",
    "aeda = AEasierDataAugmentation(\n",
    "    morpheme_analyzer=\"Mecab\",\n",
    "    punctuations=[\".\", \",\", \"!\", \"?\", \";\", \":\"]\n",
    ")\n",
    "# sampling \n",
    "train_sample = train.sample(n=5000, random_state=42).reset_index(drop = True)\n",
    "\n",
    "random.seed(42)\n",
    "# result = text_col.progress_apply(aeda, p=0.05, repetition=repetition)\n",
    "result = []\n",
    "n = len(train_sample['dialogue'])\n",
    "for i in tqdm(range(n)):\n",
    "    a = aeda(train_sample['dialogue'][i], p = 0.05, repetition=1)\n",
    "    result.append(a)"
   ]
  },
  {
   "cell_type": "code",
   "execution_count": 13,
   "metadata": {},
   "outputs": [
    {
     "data": {
      "application/vnd.jupyter.widget-view+json": {
       "model_id": "85d08146d7da4653a4b9f8eb2739845e",
       "version_major": 2,
       "version_minor": 0
      },
      "text/plain": [
       "  0%|          | 0/1093 [00:00<?, ?it/s]"
      ]
     },
     "metadata": {},
     "output_type": "display_data"
    }
   ],
   "source": [
    "# 2탄\n",
    "for i in tqdm(range(3907, n)):\n",
    "    a = aeda(train_sample['dialogue'][i], p = 0.05, repetition=1)\n",
    "    result.append(a)"
   ]
  },
  {
   "cell_type": "code",
   "execution_count": null,
   "metadata": {},
   "outputs": [],
   "source": [
    "# # 3탄\n",
    "# for i in tqdm(range(7268, 9000)):\n",
    "#     a = aeda(train_sample['dialogue'][i], p = 0.05, repetition=1)\n",
    "#     result.append(a)"
   ]
  },
  {
   "cell_type": "code",
   "execution_count": null,
   "metadata": {},
   "outputs": [],
   "source": [
    "# # 4탄\n",
    "# for i in tqdm(range(19825, n)):\n",
    "#     a = aeda(train_sample['dialogue'][i], p = 0.05, repetition=1)\n",
    "#     result.append(a)"
   ]
  },
  {
   "cell_type": "code",
   "execution_count": 14,
   "metadata": {},
   "outputs": [
    {
     "data": {
      "text/plain": [
       "5000"
      ]
     },
     "execution_count": 14,
     "metadata": {},
     "output_type": "execute_result"
    }
   ],
   "source": [
    "# 결과 비교\n",
    "len(result)"
   ]
  },
  {
   "cell_type": "code",
   "execution_count": 15,
   "metadata": {},
   "outputs": [
    {
     "data": {
      "text/plain": [
       "5000"
      ]
     },
     "execution_count": 15,
     "metadata": {},
     "output_type": "execute_result"
    }
   ],
   "source": [
    "# 동일한 개수 확인\n",
    "len(train_sample['dialogue'])"
   ]
  },
  {
   "cell_type": "code",
   "execution_count": 16,
   "metadata": {},
   "outputs": [],
   "source": [
    "# 저장\n",
    "train3 = train_sample.copy()\n",
    "train3['dialogue'] = result\n",
    "train3.to_csv('../data/동혁신_mecab_aeda_augmentation.csv', index = False)"
   ]
  },
  {
   "cell_type": "code",
   "execution_count": 17,
   "metadata": {},
   "outputs": [],
   "source": [
    "# 통합 후 저장\n",
    "train_merge = pd.concat([train, train2, train3])\n",
    "train_merge.to_csv('../data/동혁신_augment_train_merge.csv', index = False)"
   ]
  },
  {
   "cell_type": "code",
   "execution_count": null,
   "metadata": {},
   "outputs": [],
   "source": []
  }
 ],
 "metadata": {
  "kernelspec": {
   "display_name": "base",
   "language": "python",
   "name": "python3"
  },
  "language_info": {
   "codemirror_mode": {
    "name": "ipython",
    "version": 3
   },
   "file_extension": ".py",
   "mimetype": "text/x-python",
   "name": "python",
   "nbconvert_exporter": "python",
   "pygments_lexer": "ipython3",
   "version": "3.10.13"
  }
 },
 "nbformat": 4,
 "nbformat_minor": 2
}
