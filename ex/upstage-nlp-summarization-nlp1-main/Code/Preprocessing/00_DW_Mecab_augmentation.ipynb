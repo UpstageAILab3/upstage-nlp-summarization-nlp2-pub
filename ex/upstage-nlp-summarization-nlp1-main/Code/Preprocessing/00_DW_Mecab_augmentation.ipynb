{
 "cells": [
  {
   "cell_type": "markdown",
   "metadata": {},
   "source": [
    "# 5 eda aeda back\n",
    "\n",
    "### 1) Set functions\n",
    "- [\"Okt\", \"Kkma\", \"Komoran\", \"Mecab\", \"Hannanum\"]"
   ]
  },
  {
   "cell_type": "code",
   "execution_count": 1,
   "metadata": {},
   "outputs": [],
   "source": [
    "# # 분할을 원하지 않는 단어 모아두기\n",
    "# no_tokenized = ['#Person#', '#Person1#', '#Person2#', '#Person3#', \n",
    "# '#Person4#', '#Person5#', '#Person6#', '#Person7#', '#사람1#',\n",
    "# '#PhoneNumber#', '#Address#', '#PassportNumber#',\n",
    "# '#DateOfBirth#','#SSN#','#CardNumber#','#CarNumber#','#Email#']"
   ]
  },
  {
   "cell_type": "code",
   "execution_count": 2,
   "metadata": {},
   "outputs": [],
   "source": [
    "# from jamo import h2j, j2hcj\n",
    "\n",
    "# def get_jongsung_TF(sample_text):\n",
    "#     sample_text_list = list(sample_text)\n",
    "#     last_word = sample_text_list[-1]\n",
    "#     last_word_jamo_list = list(j2hcj(h2j(last_word)))\n",
    "#     last_jamo = last_word_jamo_list[-1]\n",
    "\n",
    "#     jongsung_TF = \"T\"\n",
    "\n",
    "#     if last_jamo in ['ㅏ', 'ㅑ', 'ㅓ', 'ㅕ', 'ㅗ', 'ㅛ', 'ㅜ', 'ㅠ', 'ㅡ', 'ㅣ', 'ㅘ', 'ㅚ', 'ㅙ', 'ㅝ', 'ㅞ', 'ㅢ', 'ㅐ,ㅔ', 'ㅟ', 'ㅖ', 'ㅒ']:\n",
    "#         jongsung_TF = \"F\"\n",
    "\n",
    "#     return jongsung_TF\n",
    "    \n",
    "\n",
    "# # tmp 경로에 저장된 사용자 사전 명사에 새로운 단어 추가\n",
    "# with open('../mecab-0.996-ko-0.9.2/mecab-ko-dic-2.1.1-20180720/user-dic/nnp.csv', \"r\", encoding='utf-8') as f:\n",
    "#   user_dict = f.readlines()\n",
    "\n",
    "# for word in no_tokenized:\n",
    "#   jongsung_TF = get_jongsung_TF(word)\n",
    "#   line = '{},*,*,*,NNP,*,{},{},*,*,*,*,*\\n'.format(word, jongsung_TF, word)\n",
    "\n",
    "#   user_dict.append(line)\n",
    "  \n",
    "# print(user_dict[-10:])"
   ]
  },
  {
   "cell_type": "code",
   "execution_count": 3,
   "metadata": {},
   "outputs": [],
   "source": [
    "# # 재저장\n",
    "# with open('../mecab-0.996-ko-0.9.2/mecab-ko-dic-2.1.1-20180720/user-dic/nnp.csv', 'w', encoding='utf-8') as f:\n",
    "#   for line in user_dict:\n",
    "#     f.write(line)"
   ]
  },
  {
   "cell_type": "code",
   "execution_count": 4,
   "metadata": {},
   "outputs": [],
   "source": [
    "# load library\n",
    "from koeda import EasyDataAugmentation, AEasierDataAugmentation\n",
    "import pandas as pd\n",
    "from tqdm.notebook import tqdm\n",
    "import random\n",
    "import time\n",
    "\n",
    "# EDA\n",
    "def augment_text_data_with_EDA(text_col, repetition):\n",
    "    # 단어 바꾸기\n",
    "    \"\"\"입력된 문장에 대해서 EDA를 통해 데이터 증강\"\"\"\n",
    "    eda = EasyDataAugmentation(\n",
    "        morpheme_analyzer=\"Mecab\"\n",
    "        )\n",
    "    \n",
    "    random.seed(42)\n",
    "\n",
    "    result = text_col.progress_apply(eda, p=(0.8, 0.01, 0.02, 0.01), repetition=repetition)\n",
    "    print(result)\n",
    "    \n",
    "    return result\n",
    "\n",
    "# AEDA\n",
    "def augment_text_data_with_AEDA(text_col, repetition):\n",
    "    # 단어 사이에 문자 추가하기\n",
    "    \"\"\"입력된 문장에 대해서 AEDA를 통해 데이터 증강\"\"\"\n",
    "    aeda = AEasierDataAugmentation(\n",
    "        morpheme_analyzer=\"Mecab\",\n",
    "        punctuations=[\".\", \",\", \"!\", \"?\", \";\", \":\"]\n",
    "    )\n",
    "\n",
    "    random.seed(42)\n",
    "    \n",
    "    # result = text_col.progress_apply(aeda, p=0.05, repetition=repetition)\n",
    "    result = []\n",
    "    for i in tqdm(range(len(text_col))):\n",
    "        time.sleep(0.01)\n",
    "        a = aeda(text_col[i], p = 0.05, repetition=repetition)\n",
    "        result.append(a)\n",
    "\n",
    "    print(result)\n",
    "    return result"
   ]
  },
  {
   "cell_type": "code",
   "execution_count": 5,
   "metadata": {},
   "outputs": [],
   "source": [
    "# pandas tqdm 호출\n",
    "tqdm.pandas() # tqdm의 pandas전용 메소드를 호출합니다."
   ]
  },
  {
   "cell_type": "markdown",
   "metadata": {},
   "source": [
    "### 2) application train data"
   ]
  },
  {
   "cell_type": "code",
   "execution_count": 6,
   "metadata": {},
   "outputs": [],
   "source": [
    "# load original data\n",
    "train = pd.read_csv('../data/train.csv')"
   ]
  },
  {
   "cell_type": "code",
   "execution_count": 7,
   "metadata": {},
   "outputs": [
    {
     "data": {
      "application/vnd.jupyter.widget-view+json": {
       "model_id": "562b48d58f7b47d19d6dbc4201e60ec1",
       "version_major": 2,
       "version_minor": 0
      },
      "text/plain": [
       "  0%|          | 0/12457 [00:00<?, ?it/s]"
      ]
     },
     "metadata": {},
     "output_type": "display_data"
    },
    {
     "name": "stdout",
     "output_type": "stream",
     "text": [
      "0        #Person1#: 안녕하세요, 스미스씨. 저는 호킨스 의사입니다. 오늘 왜 오셨나...\n",
      "1        #Person1#: 안녕하세요, 파커 부인, 어떻게 지내셨나요?#Person2#: ...\n",
      "2        #Person1#: 실례합니다, 열쇠 한 묶음 보셨나요?#Person2#: 어떤 종...\n",
      "3        #Person1#: 왜 너는 여자친구가 있다는 걸 말해주지 않았어?#Person2#...\n",
      "4        #Person1#: 안녕, 숙녀분들! 오늘 밤 당신들은 정말 멋져 보여. 이 춤을 ...\n",
      "                               ...                        \n",
      "12452    #Person1#: 실례합니다. 맨체스터 출신의 그린 씨이신가요?#Person2#:...\n",
      "12453    #Person1#: 이윙 씨가 우리가 컨퍼런스 센터에 4시에 도착해야 한다고 했죠?...\n",
      "12454    #Person1#: 오늘 어떻게 도와드릴까요?#Person2#: 차를 빌리고 싶습니...\n",
      "12455    #Person1#: 오늘 좀 행복해 보이지 않아. 무슨 일 있어?#Person2#:...\n",
      "12456    #Person1#: 엄마, 다음 토요일에 이 삼촌네 가족을 방문하기 위해 비행기를 ...\n",
      "Name: dialogue, Length: 12457, dtype: object\n"
     ]
    }
   ],
   "source": [
    "# eda\n",
    "train2 = train.copy()\n",
    "train2['dialogue'] = augment_text_data_with_EDA(train2['dialogue'], 1)\n",
    "train2.to_csv('../data/mecab_eda_augmentation.csv', index = False)"
   ]
  },
  {
   "cell_type": "code",
   "execution_count": 8,
   "metadata": {},
   "outputs": [],
   "source": [
    "# # aeda\n",
    "# train3 = train.copy()\n",
    "# train3['dialogue'] = augment_text_data_with_AEDA(train3['dialogue'], 1)\n",
    "# train3.to_csv('../data/mecab_aeda_augmentation.csv')"
   ]
  },
  {
   "cell_type": "code",
   "execution_count": 14,
   "metadata": {},
   "outputs": [
    {
     "data": {
      "application/vnd.jupyter.widget-view+json": {
       "model_id": "382a01a453e44399b1be5b08a2ec709b",
       "version_major": 2,
       "version_minor": 0
      },
      "text/plain": [
       "  0%|          | 0/3000 [00:00<?, ?it/s]"
      ]
     },
     "metadata": {},
     "output_type": "display_data"
    }
   ],
   "source": [
    "# 자동화 안되서 분할 적용하기 위해 수동으로 적용\n",
    "aeda = AEasierDataAugmentation(\n",
    "    morpheme_analyzer=\"Mecab\",\n",
    "    punctuations=[\".\", \",\", \"!\", \"?\", \";\", \":\"]\n",
    ")\n",
    "\n",
    "random.seed(42)\n",
    "\n",
    "# result = text_col.progress_apply(aeda, p=0.05, repetition=repetition)\n",
    "result = []\n",
    "n = len(train['dialogue'])\n",
    "for i in tqdm(range(3000)):\n",
    "    a = aeda(train['dialogue'][i], p = 0.05, repetition=1)\n",
    "    result.append(a)"
   ]
  },
  {
   "cell_type": "code",
   "execution_count": 15,
   "metadata": {},
   "outputs": [
    {
     "data": {
      "application/vnd.jupyter.widget-view+json": {
       "model_id": "0e81aa54b6204e98bc810972a2821003",
       "version_major": 2,
       "version_minor": 0
      },
      "text/plain": [
       "  0%|          | 0/3000 [00:00<?, ?it/s]"
      ]
     },
     "metadata": {},
     "output_type": "display_data"
    }
   ],
   "source": [
    "# 2탄\n",
    "for i in tqdm(range(3000, 6000)):\n",
    "    a = aeda(train['dialogue'][i], p = 0.05, repetition=1)\n",
    "    result.append(a)"
   ]
  },
  {
   "cell_type": "code",
   "execution_count": 19,
   "metadata": {},
   "outputs": [
    {
     "data": {
      "application/vnd.jupyter.widget-view+json": {
       "model_id": "b517ef593a3d4c0c8ceaaf0b5f4b2358",
       "version_major": 2,
       "version_minor": 0
      },
      "text/plain": [
       "  0%|          | 0/1632 [00:00<?, ?it/s]"
      ]
     },
     "metadata": {},
     "output_type": "display_data"
    }
   ],
   "source": [
    "# 3탄\n",
    "for i in tqdm(range(7368, 9000)):\n",
    "    a = aeda(train['dialogue'][i], p = 0.05, repetition=1)\n",
    "    result.append(a)"
   ]
  },
  {
   "cell_type": "code",
   "execution_count": 20,
   "metadata": {},
   "outputs": [
    {
     "data": {
      "application/vnd.jupyter.widget-view+json": {
       "model_id": "6cf11b27e38a42ab944559ab1346d6c6",
       "version_major": 2,
       "version_minor": 0
      },
      "text/plain": [
       "  0%|          | 0/3457 [00:00<?, ?it/s]"
      ]
     },
     "metadata": {},
     "output_type": "display_data"
    }
   ],
   "source": [
    "# 4탄\n",
    "for i in tqdm(range(9000, n)):\n",
    "    a = aeda(train['dialogue'][i], p = 0.05, repetition=1)\n",
    "    result.append(a)"
   ]
  },
  {
   "cell_type": "code",
   "execution_count": 21,
   "metadata": {},
   "outputs": [
    {
     "data": {
      "text/plain": [
       "12457"
      ]
     },
     "execution_count": 21,
     "metadata": {},
     "output_type": "execute_result"
    }
   ],
   "source": [
    "# 결과 비교\n",
    "len(result)"
   ]
  },
  {
   "cell_type": "code",
   "execution_count": 22,
   "metadata": {},
   "outputs": [
    {
     "data": {
      "text/plain": [
       "12457"
      ]
     },
     "execution_count": 22,
     "metadata": {},
     "output_type": "execute_result"
    }
   ],
   "source": [
    "# 동일한 개수 확인\n",
    "len(train['dialogue'])"
   ]
  },
  {
   "cell_type": "code",
   "execution_count": 23,
   "metadata": {},
   "outputs": [],
   "source": [
    "# 저장\n",
    "train3 = train.copy()\n",
    "train3['dialogue'] = result\n",
    "train3.to_csv('../data/mecab_aeda_augmentation.csv', index = False)"
   ]
  },
  {
   "cell_type": "code",
   "execution_count": 24,
   "metadata": {},
   "outputs": [],
   "source": [
    "# 통합 후 저장\n",
    "train_merge = pd.concat([train, train2, train3])\n",
    "train_merge.to_csv('../data/augment_train_merge.csv', index = False)"
   ]
  },
  {
   "cell_type": "code",
   "execution_count": null,
   "metadata": {},
   "outputs": [],
   "source": []
  }
 ],
 "metadata": {
  "kernelspec": {
   "display_name": "base",
   "language": "python",
   "name": "python3"
  },
  "language_info": {
   "codemirror_mode": {
    "name": "ipython",
    "version": 3
   },
   "file_extension": ".py",
   "mimetype": "text/x-python",
   "name": "python",
   "nbconvert_exporter": "python",
   "pygments_lexer": "ipython3",
   "version": "3.10.13"
  }
 },
 "nbformat": 4,
 "nbformat_minor": 2
}
