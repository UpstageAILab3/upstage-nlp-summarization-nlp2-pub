{
 "cells": [
  {
   "cell_type": "code",
   "execution_count": 3,
   "metadata": {},
   "outputs": [
    {
     "name": "stdout",
     "output_type": "stream",
     "text": [
      "train: ['#Address#', '#CarNumber#', '#CardNumber#', '#DateOfBirth#', '#Email#', '#PassportNumber#', '#Person#', '#Person1#', '#Person2#', '#Person3#', '#Person4#', '#Person5#', '#Person6#', '#Person7#', '#PhoneNumber#', '#SSN#']\n",
      "dev: ['#Address#', '#DateOfBirth#', '#Person1#', '#Person2#', '#Person3#', '#Person4#', '#PhoneNumber#']\n",
      "test: ['#Address#', '#PassportNumber#', '#Person1#', '#Person2#', '#Person3#', '#PhoneNumber#']\n",
      "Combined keywords: ['#Address#', '#CarNumber#', '#CardNumber#', '#DateOfBirth#', '#Email#', '#PassportNumber#', '#Person#', '#Person1#', '#Person2#', '#Person3#', '#Person4#', '#Person5#', '#Person6#', '#Person7#', '#PhoneNumber#', '#SSN#']\n"
     ]
    }
   ],
   "source": [
    "import pandas as pd\n",
    "import re\n",
    "import os\n",
    "import platform\n",
    "\n",
    "def extract_keywords(text):\n",
    "    pattern = r\"#\\w+#\"\n",
    "    keywords = re.findall(pattern, text)\n",
    "    return keywords\n",
    "\n",
    "def extract_keywords_from_file(file_path):\n",
    "    df = pd.read_csv(file_path)\n",
    "    \n",
    "    all_keywords = []\n",
    "    for text in df['dialogue']:  # 'dialogue' column used to extract keywords\n",
    "        keywords = extract_keywords(text)\n",
    "        all_keywords.extend(keywords)\n",
    "    \n",
    "    return all_keywords\n",
    "\n",
    "if __name__ == \"__main__\":\n",
    "    os_name = platform.system()\n",
    "    if os_name == 'Windows':\n",
    "        PRE_PATH = ''\n",
    "    elif os_name in ['Linux', 'Darwin']:  # Linux or Mac\n",
    "        PRE_PATH = '/kkh/'\n",
    "\n",
    "    # Initialize sets to store unique keywords for each file and the combined set\n",
    "    unique_keywords_train = set()\n",
    "    unique_keywords_dev = set()\n",
    "    unique_keywords_test = set()\n",
    "\n",
    "    # Process train.csv\n",
    "    file_path = os.path.join(PRE_PATH + 'data', 'train.csv')\n",
    "    keywords_train = extract_keywords_from_file(file_path)\n",
    "    unique_keywords_train.update(keywords_train)\n",
    "    print(f\"train: {sorted(unique_keywords_train)}\")\n",
    "\n",
    "    # Process dev.csv\n",
    "    file_path = os.path.join(PRE_PATH + 'data', 'dev.csv')\n",
    "    keywords_dev = extract_keywords_from_file(file_path)\n",
    "    unique_keywords_dev.update(keywords_dev)\n",
    "    print(f\"dev: {sorted(unique_keywords_dev)}\")\n",
    "\n",
    "    # Process test.csv\n",
    "    file_path = os.path.join(PRE_PATH + 'data', 'test.csv')\n",
    "    keywords_test = extract_keywords_from_file(file_path)\n",
    "    unique_keywords_test.update(keywords_test)\n",
    "    print(f\"test: {sorted(unique_keywords_test)}\")\n",
    "\n",
    "    # Combine keywords from all sets\n",
    "    combined_keywords = unique_keywords_train | unique_keywords_dev | unique_keywords_test\n",
    "\n",
    "    # Convert the set to a sorted list for the combined keywords\n",
    "    sorted_combined_keywords = sorted(combined_keywords)\n",
    "    print(f\"Combined keywords: {sorted_combined_keywords}\")\n"
   ]
  }
 ],
 "metadata": {
  "kernelspec": {
   "display_name": "nlp",
   "language": "python",
   "name": "python3"
  },
  "language_info": {
   "codemirror_mode": {
    "name": "ipython",
    "version": 3
   },
   "file_extension": ".py",
   "mimetype": "text/x-python",
   "name": "python",
   "nbconvert_exporter": "python",
   "pygments_lexer": "ipython3",
   "version": "3.10.14"
  }
 },
 "nbformat": 4,
 "nbformat_minor": 2
}
