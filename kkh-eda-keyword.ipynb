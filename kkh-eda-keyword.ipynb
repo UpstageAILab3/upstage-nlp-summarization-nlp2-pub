{
 "cells": [
  {
   "cell_type": "code",
   "execution_count": 1,
   "metadata": {},
   "outputs": [
    {
     "name": "stdout",
     "output_type": "stream",
     "text": [
      "train: ['#Address#', '#CarNumber#', '#CardNumber#', '#DateOfBirth#', '#Email#', '#PassportNumber#', '#Person#', '#Person1#', '#Person2#', '#Person3#', '#Person4#', '#Person5#', '#Person6#', '#Person7#', '#PhoneNumber#', '#SSN#']\n",
      "dev: ['#Address#', '#DateOfBirth#', '#Person1#', '#Person2#', '#Person3#', '#Person4#', '#PhoneNumber#']\n",
      "test: ['#Address#', '#PassportNumber#', '#Person1#', '#Person2#', '#Person3#', '#PhoneNumber#']\n"
     ]
    }
   ],
   "source": [
    "import pandas as pd\n",
    "import re\n",
    "import os\n",
    "import platform\n",
    "\n",
    "def extract_keywords(text):\n",
    "    pattern = r\"#\\w+#\"\n",
    "    keywords = re.findall(pattern, text)\n",
    "    return keywords\n",
    "\n",
    "def extract_keywords_from_file(file_path):\n",
    "    df = pd.read_csv(file_path)\n",
    "    \n",
    "    all_keywords = []\n",
    "    for text in df['dialogue']:  # 'dialogue' 열에서 키워드 추출\n",
    "        keywords = extract_keywords(text)\n",
    "        all_keywords.extend(keywords)\n",
    "    \n",
    "    # 중복된 키워드를 제거하고 알파벳 순서로 정렬합니다.\n",
    "    unique_keywords = sorted(set(all_keywords))\n",
    "    return unique_keywords\n",
    "\n",
    "if __name__ == \"__main__\":\n",
    "    os_name = platform.system()\n",
    "    if os_name == 'Windows':\n",
    "        PRE_PATH = ''\n",
    "    elif os_name == 'Linux':\n",
    "        PRE_PATH = '/kkh/'\n",
    "    elif os_name == 'Darwin': # 맥\n",
    "        PRE_PATH = '/kkh/'\n",
    "\n",
    "    file_path = PRE_PATH + 'data/train.csv'\n",
    "    keywords = extract_keywords_from_file(file_path)\n",
    "    print(f\"train: {keywords}\")\n",
    "\n",
    "    file_path = PRE_PATH + 'data/dev.csv'\n",
    "    keywords = extract_keywords_from_file(file_path)\n",
    "    print(f\"dev: {keywords}\")\n",
    "\n",
    "    file_path = PRE_PATH + 'data/test.csv'\n",
    "    keywords = extract_keywords_from_file(file_path)\n",
    "    print(f\"test: {keywords}\")"
   ]
  }
 ],
 "metadata": {
  "kernelspec": {
   "display_name": "nlp",
   "language": "python",
   "name": "python3"
  },
  "language_info": {
   "codemirror_mode": {
    "name": "ipython",
    "version": 3
   },
   "file_extension": ".py",
   "mimetype": "text/x-python",
   "name": "python",
   "nbconvert_exporter": "python",
   "pygments_lexer": "ipython3",
   "version": "3.10.14"
  }
 },
 "nbformat": 4,
 "nbformat_minor": 2
}
