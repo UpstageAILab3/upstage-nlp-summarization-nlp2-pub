{
 "cells": [
  {
   "cell_type": "code",
   "execution_count": 1,
   "metadata": {},
   "outputs": [],
   "source": [
    "import pandas as pd\n",
    "import re\n",
    "import os\n",
    "import platform\n",
    "import shutil\n",
    "\n",
    "os_name = platform.system()\n",
    "if os_name == 'Windows':\n",
    "    PRE_PATH = ''\n",
    "elif os_name == 'Linux':\n",
    "    PRE_PATH = '/dj/'\n",
    "elif os_name == 'Darwin': # 맥\n",
    "    PRE_PATH = '/dj/'\n",
    "DATA_PATH = PRE_PATH + \"data/\"\n",
    "\n",
    "TRAIN_PATH = DATA_PATH + 'train.csv'\n",
    "DEV_PATH = DATA_PATH + 'dev.csv'\n",
    "TEST_PATH = DATA_PATH + 'test.csv'\n",
    "\n",
    "TRAIN_NEW_PATH = DATA_PATH + 'train_kkh_new.csv'\n",
    "DEV_NEW_PATH = DATA_PATH + 'dev_kkh_new.csv'\n",
    "TEST_NEW_PATH = DATA_PATH + 'test_kkh_new.csv'"
   ]
  },
  {
   "cell_type": "code",
   "execution_count": 2,
   "metadata": {},
   "outputs": [
    {
     "name": "stdout",
     "output_type": "stream",
     "text": [
      "Copied: /dj/data/train.csv to /dj/data/train_kkh_new.csv\n",
      "Copied: /dj/data/dev.csv to /dj/data/dev_kkh_new.csv\n",
      "Copied: /dj/data/test.csv to /dj/data/test_kkh_new.csv\n"
     ]
    }
   ],
   "source": [
    "def copy_file(src_path, dest_path):\n",
    "    try:\n",
    "        shutil.copyfile(src_path, dest_path)\n",
    "        print(f\"Copied: {src_path} to {dest_path}\")\n",
    "    except Exception as e:\n",
    "        print(f\"Failed to copy {src_path} to {dest_path}: {e}\")\n",
    "\n",
    "copy_file(TRAIN_PATH, TRAIN_NEW_PATH)\n",
    "copy_file(DEV_PATH, DEV_NEW_PATH)\n",
    "copy_file(TEST_PATH, TEST_NEW_PATH)"
   ]
  },
  {
   "cell_type": "code",
   "execution_count": 3,
   "metadata": {},
   "outputs": [
    {
     "name": "stdout",
     "output_type": "stream",
     "text": [
      "File: train_3154\n",
      "Utterance: #Person1#: 속았어! ㅋㅋ.. 완전 속았어. \n",
      "----------------------------------------\n",
      "File: train_5385\n",
      "Utterance: #Person2#: 먼저, 이것은 19세기 초 배경ㅇ로 설정된 로맨스 소설이에요.\n",
      "----------------------------------------\n",
      "File: train_5429\n",
      "Utterance: #Person2#: ㅋㅋ\n",
      "----------------------------------------\n",
      "File: train_6942\n",
      "Utterance: #Person2#: 'ㅣ'로 끝나는 이탈리아 이름 같네요. \n",
      "----------------------------------------\n",
      "File: train_7201\n",
      "Utterance: #Person1#: 편집장이 제ㅏ 다른 잡지에서 편집자로 일했던 경험이 있다는 걸 듣고, 그가 도우미 편집자가 되고 싶냐고 물어봤어요.\n",
      "----------------------------------------\n",
      "File: train_9677\n",
      "Utterance: #Person1#: 이제 그만. 너는 아직ㅍ알맞는 사람을 만나지 못했을 뿐이고, 너는 너무 많이 일하는 것 같아. 너는 어떻게 즐기고 삶을 즐기는 법을 배워야 해.\n",
      "----------------------------------------\n",
      "File: train_12181\n",
      "Utterance: #Person1#: 아무것도 안 했어. 그는 결국 나갔어. 그런데 오늘 또 그를 봤어. 신발 가게 밖에서. 카페 근처에서. 나는 CD 가게에 들어가서 CD를 보는 척했ㄷ거든. 그런데 그도 들어왔어.\n",
      "----------------------------------------\n"
     ]
    }
   ],
   "source": [
    "def find_incomplete_hangul(file_path):\n",
    "    df = pd.read_csv(file_path)\n",
    "    if 'dialogue' not in df.columns:\n",
    "        raise ValueError(\"'dialogue' 열이 CSV 파일에 없습니다.\")\n",
    "    consonants_and_vowels_pattern = re.compile(r'[ㄱ-ㅎㅏ-ㅣ]+')\n",
    "    \n",
    "    results = []\n",
    "    for _, row in df.iterrows():\n",
    "        fname = row['fname']\n",
    "        dialogue = row['dialogue']\n",
    "        utterances = dialogue.split('\\n')  # 각 발화는 줄바꿈으로 구분된다고 가정\n",
    "\n",
    "        for utterance in utterances:\n",
    "            incomplete_hangul = re.findall(consonants_and_vowels_pattern, utterance)\n",
    "            if incomplete_hangul:\n",
    "                results.append((fname, utterance))\n",
    "    return results\n",
    "\n",
    "incomplete_hangul_results = find_incomplete_hangul(TRAIN_NEW_PATH)\n",
    "\n",
    "# 결과 출력\n",
    "if incomplete_hangul_results:\n",
    "    for fname, utterance in incomplete_hangul_results:\n",
    "        print(f\"File: {fname}\")\n",
    "        print(f\"Utterance: {utterance}\")\n",
    "        print(\"-\" * 40)\n",
    "else:\n",
    "    print(\"No incomplete Hangul characters found.\")"
   ]
  },
  {
   "cell_type": "code",
   "execution_count": 4,
   "metadata": {},
   "outputs": [
    {
     "name": "stdout",
     "output_type": "stream",
     "text": [
      "No incomplete Hangul characters found.\n"
     ]
    }
   ],
   "source": [
    "incomplete_hangul_results = find_incomplete_hangul(DEV_NEW_PATH)\n",
    "\n",
    "# 결과 출력\n",
    "if incomplete_hangul_results:\n",
    "    for fname, utterance in incomplete_hangul_results:\n",
    "        print(f\"File: {fname}\")\n",
    "        print(f\"Utterance: {utterance}\")\n",
    "        print(\"-\" * 40)\n",
    "else:\n",
    "    print(\"No incomplete Hangul characters found.\")"
   ]
  },
  {
   "cell_type": "code",
   "execution_count": 5,
   "metadata": {},
   "outputs": [
    {
     "name": "stdout",
     "output_type": "stream",
     "text": [
      "No incomplete Hangul characters found.\n"
     ]
    }
   ],
   "source": [
    "incomplete_hangul_results = find_incomplete_hangul(TEST_NEW_PATH)\n",
    "\n",
    "# 결과 출력\n",
    "if incomplete_hangul_results:\n",
    "    for fname, utterance in incomplete_hangul_results:\n",
    "        print(f\"File: {fname}\")\n",
    "        print(f\"Utterance: {utterance}\")\n",
    "        print(\"-\" * 40)\n",
    "else:\n",
    "    print(\"No incomplete Hangul characters found.\")"
   ]
  },
  {
   "cell_type": "code",
   "execution_count": 6,
   "metadata": {},
   "outputs": [
    {
     "name": "stdout",
     "output_type": "stream",
     "text": [
      "Processed file saved to /dj/data/train_kkh_new.csv\n"
     ]
    }
   ],
   "source": [
    "def replace_text(dialogue, replacements):\n",
    "    for old, new in replacements.items():\n",
    "        dialogue = re.sub(re.escape(old), new, dialogue)\n",
    "    return dialogue\n",
    "\n",
    "def process_file(input_path, output_path, replacements):\n",
    "    df = pd.read_csv(input_path)\n",
    "    df['dialogue'] = df['dialogue'].apply(lambda x: replace_text(x, replacements))\n",
    "    df.to_csv(output_path, index=False)\n",
    "    print(f\"Processed file saved to {output_path}\")\n",
    "\n",
    "if __name__ == \"__main__\":\n",
    "    # Define the replacements\n",
    "    replacements = {\n",
    "        'ㅋㅋ': '웃겨',\n",
    "        '배경ㅇ로': '배경으로',\n",
    "        '제ㅏ': '제가',\n",
    "        '아직ㅍ알맞는': '아직 알맞는',\n",
    "        '척했ㄷ거든': '척 했거든'\n",
    "    }\n",
    "\n",
    "    # Define file paths\n",
    "    input_files = [TRAIN_NEW_PATH]\n",
    "    output_files = [TRAIN_NEW_PATH]\n",
    "\n",
    "    # Process each file\n",
    "    for input_path, output_path in zip(input_files, output_files):\n",
    "        process_file(input_path, output_path, replacements)"
   ]
  },
  {
   "cell_type": "code",
   "execution_count": 7,
   "metadata": {},
   "outputs": [
    {
     "name": "stdout",
     "output_type": "stream",
     "text": [
      "File: train_6942\n",
      "Utterance: #Person2#: 'ㅣ'로 끝나는 이탈리아 이름 같네요. \n",
      "----------------------------------------\n"
     ]
    }
   ],
   "source": [
    "incomplete_hangul_results = find_incomplete_hangul(TRAIN_NEW_PATH)\n",
    "\n",
    "# 결과 출력\n",
    "if incomplete_hangul_results:\n",
    "    for fname, utterance in incomplete_hangul_results:\n",
    "        print(f\"File: {fname}\")\n",
    "        print(f\"Utterance: {utterance}\")\n",
    "        print(\"-\" * 40)\n",
    "else:\n",
    "    print(\"No incomplete Hangul characters found.\")"
   ]
  },
  {
   "cell_type": "code",
   "execution_count": 8,
   "metadata": {},
   "outputs": [
    {
     "name": "stdout",
     "output_type": "stream",
     "text": [
      "File: train_276\n",
      "Sentence: #Person1#: 헤이, 그게 뭐예요? [아아아!]\n",
      "----------------------------------------\n",
      "File: train_460\n",
      "Sentence: #Person2#: 아아아아아아\n",
      "----------------------------------------\n",
      "File: train_901\n",
      "Sentence: #Person1#: (고통 속에서 울며) 아아아!\n",
      "----------------------------------------\n",
      "File: train_998\n",
      "Sentence: #Person2#: 하하하, 너 피곤하다고 했잖아. \n",
      "----------------------------------------\n",
      "File: train_1732\n",
      "Sentence: #Person2#: 아아아아, 아아아아.\n",
      "----------------------------------------\n",
      "File: train_1907\n",
      "Sentence: #Person1#: 아아아악!\n",
      "----------------------------------------\n",
      "File: train_2464\n",
      "Sentence: #Person1#: 그냥 똑똑똑 떨어지는 정도입니다. 그것도 물이 아니죠.\n",
      "----------------------------------------\n",
      "File: train_2727\n",
      "Sentence: #Person1#: 하하하, 아마 그게 너에게 체중 감량에 도움이 될지도 몰라. \n",
      "----------------------------------------\n",
      "File: train_4271\n",
      "Sentence: #Person2#: 잭, 너의 유머 감각이 그립다. 하하하! 세상에 너처럼 사는 사람은 처음 봤다. 넌 정말 천부적이야.\n",
      "----------------------------------------\n",
      "File: train_4401\n",
      "Sentence: #Person2#: 아아아아악! 침이 고이기 시작하던 참인데!\n",
      "----------------------------------------\n",
      "File: train_5429\n",
      "Sentence: #Person2#: 고마워. 일단 안녕. 키스스스스스.\n",
      "----------------------------------------\n",
      "File: train_6260\n",
      "Sentence: #Person1#: 그래. [주먹질과 발차기와 고함과 비명을 지르는 소리 ... ] 아, 오, 맨. 아아아. 아파.\n",
      "----------------------------------------\n",
      "File: train_6563\n",
      "Sentence: #Person2#: 허허허 ... 여자들이란! \n",
      "----------------------------------------\n",
      "File: train_7662\n",
      "Sentence: #Person2#: 하하하. 미안해. 그냥 장난이었어.\n",
      "----------------------------------------\n",
      "File: train_8060\n",
      "Sentence: #Person2#: 하하하, 너 피곤하다고 했잖아. \n",
      "----------------------------------------\n",
      "File: train_8206\n",
      "Sentence: #Person1#: 하하하.\n",
      "----------------------------------------\n",
      "File: train_9608\n",
      "Sentence: #Person1#: 이런 것들은 항상 너어어어무 지루해. 아무 소문 들은거 없어? 누구 큰 돈 번 사람 없나? \n",
      "----------------------------------------\n",
      "File: train_9982\n",
      "Sentence: #Person1#: 하하하! 그렇군요, 그건 제가 받아들여야겠네요. 설명해 드릴게요, 괜찮겠습니까?\n",
      "----------------------------------------\n",
      "File: train_10295\n",
      "Sentence: #Person1#: 하하하, 어디선가 아이스 커피라도 얻을 수 있으면 좋겠다.\n",
      "----------------------------------------\n",
      "File: train_11053\n",
      "Sentence: #Person2#: 아, 그건 쉬워요. 그는 밝은 빨간색 부츠와 보라색 모자를 썼어요... 음, 당신이 쓴 것처럼. 헤헤헤...\n",
      "----------------------------------------\n",
      "File: train_11677\n",
      "Sentence: #Person1#: 으으으으!!!\n",
      "----------------------------------------\n",
      "File: train_12167\n",
      "Sentence: #Person1#: 하하하! 그래, 남자들만의 세상이지!\n",
      "----------------------------------------\n",
      "File: train_12298\n",
      "Sentence: #Person2#: 하하하! 동감이에요. 그건 재미없죠.\n",
      "----------------------------------------\n"
     ]
    }
   ],
   "source": [
    "def find_repeated_hangul(file_path):\n",
    "    df = pd.read_csv(file_path)\n",
    "    if 'dialogue' not in df.columns:\n",
    "        raise ValueError(\"'dialogue' 열이 CSV 파일에 없습니다.\")\n",
    "    repeated_hangul_pattern = re.compile(r'([가-힣])\\1{2,}')  # 동일 한글 글자가 3번 이상 연속하는 패턴\n",
    "    \n",
    "    results = []\n",
    "    for _, row in df.iterrows():\n",
    "        fname = row['fname']\n",
    "        dialogue = row['dialogue']\n",
    "        \n",
    "        sentences = dialogue.split('\\n')  # 각 문장은 줄바꿈으로 구분된다고 가정\n",
    "        for sentence in sentences:\n",
    "            repeated_hangul = re.findall(repeated_hangul_pattern, sentence)\n",
    "            if repeated_hangul:\n",
    "                results.append((fname, sentence))\n",
    "    return results\n",
    "\n",
    "repeated_hangul_results = find_repeated_hangul(TRAIN_NEW_PATH)\n",
    "\n",
    "# 결과 출력\n",
    "if repeated_hangul_results:\n",
    "    for fname, sentence in repeated_hangul_results:\n",
    "        print(f\"File: {fname}\")\n",
    "        print(f\"Sentence: {sentence}\")\n",
    "        print(\"-\" * 40)\n",
    "else:\n",
    "    print(\"No repeated Hangul characters found.\")"
   ]
  },
  {
   "cell_type": "code",
   "execution_count": 9,
   "metadata": {},
   "outputs": [
    {
     "name": "stdout",
     "output_type": "stream",
     "text": [
      "File: dev_334\n",
      "Sentence: #Person1#: 아아아. 아직. 내가 식습관을 바꾸려고 결정했어.\n",
      "----------------------------------------\n",
      "File: dev_405\n",
      "Sentence: #Person2#: 제제제... 여자들이란!\n",
      "----------------------------------------\n"
     ]
    }
   ],
   "source": [
    "repeated_hangul_results = find_repeated_hangul(DEV_NEW_PATH)\n",
    "\n",
    "# 결과 출력\n",
    "if repeated_hangul_results:\n",
    "    for fname, sentence in repeated_hangul_results:\n",
    "        print(f\"File: {fname}\")\n",
    "        print(f\"Sentence: {sentence}\")\n",
    "        print(\"-\" * 40)\n",
    "else:\n",
    "    print(\"No repeated Hangul characters found.\")"
   ]
  },
  {
   "cell_type": "code",
   "execution_count": 10,
   "metadata": {},
   "outputs": [
    {
     "name": "stdout",
     "output_type": "stream",
     "text": [
      "No repeated Hangul characters found.\n"
     ]
    }
   ],
   "source": [
    "repeated_hangul_results = find_repeated_hangul(TEST_NEW_PATH)\n",
    "\n",
    "# 결과 출력\n",
    "if repeated_hangul_results:\n",
    "    for fname, sentence in repeated_hangul_results:\n",
    "        print(f\"File: {fname}\")\n",
    "        print(f\"Sentence: {sentence}\")\n",
    "        print(\"-\" * 40)\n",
    "else:\n",
    "    print(\"No repeated Hangul characters found.\")"
   ]
  },
  {
   "cell_type": "code",
   "execution_count": 11,
   "metadata": {},
   "outputs": [
    {
     "name": "stdout",
     "output_type": "stream",
     "text": [
      "Processed file saved to /dj/data/train_kkh_new.csv\n",
      "Processed file saved to /dj/data/dev_kkh_new.csv\n"
     ]
    }
   ],
   "source": [
    "def replace_text(dialogue, replacements):\n",
    "    for old, new in replacements.items():\n",
    "        dialogue = re.sub(re.escape(old), new, dialogue)\n",
    "    return dialogue\n",
    "\n",
    "def process_file(input_path, output_path, replacements):\n",
    "    df = pd.read_csv(input_path)\n",
    "    df['dialogue'] = df['dialogue'].apply(lambda x: replace_text(x, replacements))\n",
    "    df.to_csv(output_path, index=False)\n",
    "    print(f\"Processed file saved to {output_path}\")\n",
    "\n",
    "if __name__ == \"__main__\":\n",
    "    # Define the replacements\n",
    "    replacements = {\n",
    "        '...': '.',\n",
    "        '!!!': '!',\n",
    "        '하하하': '하하',\n",
    "        '아아아아아아': '아아',\n",
    "        '아아아아아': '아아',\n",
    "        '아아아아': '아아',\n",
    "        '아아아': '아아',\n",
    "        '똑똑똑': '똑똑',\n",
    "        '키스스스스스': '키스',\n",
    "        '허허허': '허허',\n",
    "        '너어어어무': '너무',\n",
    "        '헤헤헤': '헤헤',\n",
    "        '으으으으': '으으',\n",
    "        '제제제': '',\n",
    "    }\n",
    "\n",
    "    # Define file paths\n",
    "    input_files = [TRAIN_NEW_PATH, DEV_NEW_PATH]\n",
    "    output_files = [TRAIN_NEW_PATH, DEV_NEW_PATH]\n",
    "\n",
    "    # Process each file\n",
    "    for input_path, output_path in zip(input_files, output_files):\n",
    "        process_file(input_path, output_path, replacements)"
   ]
  },
  {
   "cell_type": "code",
   "execution_count": 12,
   "metadata": {},
   "outputs": [
    {
     "name": "stdout",
     "output_type": "stream",
     "text": [
      "No repeated Hangul characters found.\n"
     ]
    }
   ],
   "source": [
    "repeated_hangul_results = find_repeated_hangul(TRAIN_NEW_PATH)\n",
    "\n",
    "# 결과 출력\n",
    "if repeated_hangul_results:\n",
    "    for fname, sentence in repeated_hangul_results:\n",
    "        print(f\"File: {fname}\")\n",
    "        print(f\"Sentence: {sentence}\")\n",
    "        print(\"-\" * 40)\n",
    "else:\n",
    "    print(\"No repeated Hangul characters found.\")"
   ]
  },
  {
   "cell_type": "code",
   "execution_count": 13,
   "metadata": {},
   "outputs": [
    {
     "name": "stdout",
     "output_type": "stream",
     "text": [
      "No repeated Hangul characters found.\n"
     ]
    }
   ],
   "source": [
    "repeated_hangul_results = find_repeated_hangul(DEV_NEW_PATH)\n",
    "\n",
    "# 결과 출력\n",
    "if repeated_hangul_results:\n",
    "    for fname, sentence in repeated_hangul_results:\n",
    "        print(f\"File: {fname}\")\n",
    "        print(f\"Sentence: {sentence}\")\n",
    "        print(\"-\" * 40)\n",
    "else:\n",
    "    print(\"No repeated Hangul characters found.\")"
   ]
  },
  {
   "cell_type": "code",
   "execution_count": 14,
   "metadata": {},
   "outputs": [
    {
     "name": "stdout",
     "output_type": "stream",
     "text": [
      "train_420: #Person2#: 제 사무실 번호는 #PhoneNumber이고, 휴대폰 번호는 #PhoneNumber#입니다. 오늘 하루 종일 휴대폰으로 언제든지 연락하실 수 있고, 사무실 번호로는 오후 6시 이전에 연락하실 수 있습니다.\n",
      "train_839: #사람1만기 시 계정 갱신 서비스는 만기일이 다가오면 자동으로 갱신되며, 고객님이 직접 이곳에 오셔서 정리하실 필요가 없다는 뜻입니다. 여기에 서명만 하시면 저희가 모든 것을 설정해 드립니다.\n",
      "train_1125: 사람1#: 제니, 이번 금요일에, 음. 바쁘세요?\n",
      "train_1142: 사람1#: 실례합니다. 저는 STM에서 왔어요. 우리 도시의 교통에 대한 설문 조사를 하고 있는데, 몇 가지 질문해도 괜찮을까요?\n",
      "train_1213: #하지만 장기간의 무중력 상태, 음식 저장, 일련의 생리적 영향 등 해결해야 할 다른 큰 문제들이 아직 남아 있습니다.\n",
      "train_1236: #고객님, 크루즈 컨트롤에 대해 우려하는 고객들이 있다는 것을 알고 있습니다. 하지만 혼다는 크루즈 컨트롤 오작동으로 인한 사고가 단 한 건도 발생하지 않았습니다.\n",
      "train_1250: #여기 있습니다. 스티븐스 씨가 준비되었습니다. 이쪽 사무실로 안내해 드리겠습니다.\n",
      "train_1266: #고객님, 저희는 고객이 화나거나 불행한 상태로 머무는 것을 원치 않습니다.\n",
      "train_1278: #고객님, 죄송합니다만 계산대에서 계산하셔야 합니다. 저기 있습니다.\n",
      "train_1281: #잠깐만요, 버전 7 요구 사항을 불러올게요. . . 네, 저희의 예상이 고객님이 생각하신 것과 조금 다른 것은 당연하죠. 버전 7에는 버전 12에는 없던 호스티스 6명과 칵테일 셀프 서비스 바가 추가로 포함되어 있습니다. 이 프로젝트의 비용이 확실히 추가될 것입니다. . .\n",
      "train_1283: #어디 보자. 네, 그런 방이 두 개 남았습니다. 성함이 어떻게 되시나요?\n",
      "train_1301: #샐러드용 드레싱은 세 가지 종류가 있습니다. 이탈리안, 프렌치, 사우전드 아일랜드. 어떤 걸로 드시겠어요?\n",
      "train_1302: #페리에와 짐 빔 세 병씩 주세요.\n",
      "train_1306: #나 부엌에 있어. . . 들어와요!\n",
      "train_1322: #여기서 만나서 반갑습니다. 당신은 . . .\n",
      "train_1547: #작은 걸로 주세요.\n",
      "train_1609: #여기 있습니다.\n",
      "train_8318: #Person1#: 그건 그냥 긴장 때문이야. 지금은 오른손만 연주해봐. 하나 둘 셋 넷 다섯 여섯, 타 티 트리플티. 좋아, 좋아. 변주를 잊지 마! 악보에 그 음표는 G#이라고 써있어.\n",
      "train_8722: #Person1#: 그건 그냥 긴장해서 그래. 지금은 오른손만 연주해봐. 하나 둘 셋 넷 다섯 여섯, 타 티 트리플티. 좋아, 좋아. 변주를 잊지 마! 악보에는 그 음이 G#이어야 한다고 적혀있지만, 지금은 G이야. 이제 베이스 클레프를 추가해. 너무 빨리 가. 이 곡의 템포는 안단테야.\n",
      "train_9547: #Person1: 성인을 대상으로 하는 책을 쓰는 계획이 있나요?\n",
      "train_9547: #Person2: 제 첫 두 소설은 성인 대상이었어요. 아마 또 다른 성인용 소설을 쓸 수도 있겠지만, 사실 제가 글을 쓸 때는 대상 독자를 상상하지 않아요. 아이디어가 먼저 나와요. 그래서 그 다음에 나에게 끌리는 아이디어에 따라 다를 거에요.\n",
      "train_9548: #Person2: 분명히 그럴 거에요. 그 매니저는 아직 한 번도 우리를 실망시킨 적이 없었어요.\n",
      "train_9548: #Person1: 우리는 좋은 인상을 남기고 싶어요. 이 비즈니스 거래가 성공적이기만을 위한 게 아니라, 작년 도쿄에서 받은 훌륭한 대우에 대한 보답을 하려고 해요.\"\n",
      "train_9750: Person1#: 이번 여름에 당신의 정원이 정말 아름답게 피어나 보이네요. 꽃들이 정말 다채롭네요.\n",
      "train_9779: Person1#: 우리 오늘 운이 좋네.\n",
      "train_10370: #Person2#: 저는 기술 대학을 졸업하고 약 10년 동안 회사 #에서 기술자로 근무하고 있습니다.\n",
      "train_11716: ##Person1#: 안녕, 프란시스, 굿모닝! 오늘 기분 어때?\n"
     ]
    }
   ],
   "source": [
    "def extract_odd_sharp_sentence(text):\n",
    "    # 개행으로 문장을 분리\n",
    "    sentences = text.split('\\n')\n",
    "    \n",
    "    # 샵(#)이 홀수 개수로 있는 문장을 추출\n",
    "    odd_sharp_sentences = [sentence for sentence in sentences if sentence.count('#') % 2 == 1]\n",
    "    \n",
    "    return odd_sharp_sentences\n",
    "\n",
    "def extract_odd_sharp_from_file(file_path):\n",
    "    df = pd.read_csv(file_path)\n",
    "    \n",
    "    extracted_texts = []\n",
    "    for index, row in df.iterrows():\n",
    "        fname = row['fname']\n",
    "        text = row['dialogue']\n",
    "        odd_sharp_sentences = extract_odd_sharp_sentence(text)\n",
    "        \n",
    "        for sentence in odd_sharp_sentences:\n",
    "            extracted_texts.append(f\"{fname}: {sentence.strip()}\")\n",
    "    \n",
    "    return extracted_texts\n",
    "\n",
    "odd_sharp_texts = extract_odd_sharp_from_file(TRAIN_NEW_PATH)\n",
    "for text in odd_sharp_texts:\n",
    "    print(text)"
   ]
  },
  {
   "cell_type": "code",
   "execution_count": 15,
   "metadata": {},
   "outputs": [
    {
     "name": "stdout",
     "output_type": "stream",
     "text": [
      "dev_48: #다음 주 금요일 오전 10시에 베이징에서 출발하는 캐나다항공 30편이 있습니다. 좌석이 3개 있습니다. 괜찮을까요?\n",
      "dev_63: #B형 계좌는 거래에 직접 관여할 수 없고 외부 출금 서비스도 이용할 수 없습니다.\n"
     ]
    }
   ],
   "source": [
    "odd_sharp_texts = extract_odd_sharp_from_file(DEV_NEW_PATH)\n",
    "for text in odd_sharp_texts:\n",
    "    print(text)"
   ]
  },
  {
   "cell_type": "code",
   "execution_count": 16,
   "metadata": {},
   "outputs": [
    {
     "name": "stdout",
     "output_type": "stream",
     "text": [
      "test_28: #Person2#: 6자리의 개인 식별 번호를 입력하고 #키를 눌러 주세요. 감사합니다. 옵션을 선택해 주세요. 감사합니다. 인출을 선택하셨습니다.\n"
     ]
    }
   ],
   "source": [
    "odd_sharp_texts = extract_odd_sharp_from_file(TEST_NEW_PATH)\n",
    "for text in odd_sharp_texts:\n",
    "    print(text)"
   ]
  },
  {
   "cell_type": "code",
   "execution_count": 17,
   "metadata": {},
   "outputs": [
    {
     "name": "stdout",
     "output_type": "stream",
     "text": [
      "Processed file saved to /dj/data/train_kkh_new.csv\n",
      "Processed file saved to /dj/data/dev_kkh_new.csv\n"
     ]
    }
   ],
   "source": [
    "def replace_text(dialogue, replacements):\n",
    "    for old, new in replacements.items():\n",
    "        dialogue = re.sub(re.escape(old), new, dialogue)\n",
    "    return dialogue\n",
    "\n",
    "def process_file(input_path, output_path, replacements):\n",
    "    df = pd.read_csv(input_path)\n",
    "    df['dialogue'] = df['dialogue'].apply(lambda x: replace_text(x, replacements))\n",
    "    df.to_csv(output_path, index=False)\n",
    "    print(f\"Processed file saved to {output_path}\")\n",
    "\n",
    "if __name__ == \"__main__\":\n",
    "    # Define the replacements\n",
    "    replacements = {\n",
    "        '#사람1만기 시': '#Person1#: 만기 시',\n",
    "        '사람1#:': '#Person1#:',\n",
    "        '#하지만 장기간의': '하지만 장기간의',\n",
    "        '#고객님, 크루즈': '고객님, 크루즈',\n",
    "        '#여기 있습니다.': '여기 있습니다.',\n",
    "        '#고객님,': '고객님,',\n",
    "        '#잠깐만요,': '잠깐만요,',\n",
    "        '#어디 보자.': '어디 보자.',\n",
    "        '#샐러드용': '샐러드용',\n",
    "        '#페리에와': '페리에와',\n",
    "        '#나 부엌에 있어.': '나 부엌에 있어.',\n",
    "        '#여기서 만나서': '여기서 만나서',\n",
    "        '#작은 걸로': '작은 걸로',\n",
    "        '#여기 있습니다.': '여기 있습니다.',\n",
    "        '#Person1:': '#Person1#:',\n",
    "        '#Person2:': '#Person2#:',\n",
    "        'Person1#:': '#Person1#:',\n",
    "        '#다음 주 금요일': '다음 주 금요일',\n",
    "        '#B형 계좌는': 'B형 계좌는',\n",
    "        '#PhoneNumber이고': '#PhoneNumber#이고',\n",
    "        '회사 #에서': '회사에서',\n",
    "        '##Person1#': '#Person1#',\n",
    "        '##': '#'\n",
    "    }\n",
    "\n",
    "    # Define file paths\n",
    "    input_files = [TRAIN_NEW_PATH, DEV_NEW_PATH]\n",
    "    output_files = [TRAIN_NEW_PATH, DEV_NEW_PATH]\n",
    "\n",
    "    # Process each file\n",
    "    for input_path, output_path in zip(input_files, output_files):\n",
    "        process_file(input_path, output_path, replacements)"
   ]
  },
  {
   "cell_type": "code",
   "execution_count": 18,
   "metadata": {},
   "outputs": [
    {
     "name": "stdout",
     "output_type": "stream",
     "text": [
      "train_8318: #Person1#: 그건 그냥 긴장 때문이야. 지금은 오른손만 연주해봐. 하나 둘 셋 넷 다섯 여섯, 타 티 트리플티. 좋아, 좋아. 변주를 잊지 마! 악보에 그 음표는 G#이라고 써있어.\n",
      "train_8722: #Person1#: 그건 그냥 긴장해서 그래. 지금은 오른손만 연주해봐. 하나 둘 셋 넷 다섯 여섯, 타 티 트리플티. 좋아, 좋아. 변주를 잊지 마! 악보에는 그 음이 G#이어야 한다고 적혀있지만, 지금은 G이야. 이제 베이스 클레프를 추가해. 너무 빨리 가. 이 곡의 템포는 안단테야.\n"
     ]
    }
   ],
   "source": [
    "odd_sharp_texts = extract_odd_sharp_from_file(TRAIN_NEW_PATH)\n",
    "for text in odd_sharp_texts:\n",
    "    print(text)"
   ]
  },
  {
   "cell_type": "code",
   "execution_count": 19,
   "metadata": {},
   "outputs": [],
   "source": [
    "odd_sharp_texts = extract_odd_sharp_from_file(DEV_NEW_PATH)\n",
    "for text in odd_sharp_texts:\n",
    "    print(text)"
   ]
  },
  {
   "cell_type": "code",
   "execution_count": 20,
   "metadata": {},
   "outputs": [
    {
     "name": "stdout",
     "output_type": "stream",
     "text": [
      "             fname                                           dialogue  \\\n",
      "830      train_830  #Person1#: 내일이 제 첫 출근인데, 어떤 옷을 입는 게 좋을까요?\\n#Pe...   \n",
      "6812    train_6812  #Person1#: 안녕하세요, 할머니. 다시 만나서 정말 좋아요.\\n#Person...   \n",
      "7529    train_7529  #Person1#: 안녕하세요, 저는 다니엘입니다. 저는 매니저 직책에 지원하고 있...   \n",
      "7551    train_7551  #Person1#: 좋아, 최신 지도를 가지고 있어. 여기서 공항까지의 경로를 확인...   \n",
      "7557    train_7557  #Person1#: 딩 씨, 안녕하세요? 저는 존 브라운입니다.\\n#Person2#...   \n",
      "10062  train_10062  #Person1#: 안녕하세요, 그린입니다.\\n#Person2#: 아, 그린씨, 제...   \n",
      "10896  train_10896  #Person1#: 기분이 어때?\\r\\n#Person2#: 나빠. 코가 계속 흐르고...   \n",
      "10897  train_10897  #Person1#: 유럽 투어에 대한 정보를 좀 주실 수 있나요?\\n#Person2...   \n",
      "10900  train_10900  #Person1#: 좋아요, 테일러 씨, 시작해봅시다. 먼저, 마지막 직장에 대해 ...   \n",
      "\n",
      "                                                 summary        topic  \n",
      "830     #Person1#은 빌과 함께 졸업식에 참석한다. 그들은 졸업에 대한 감정을 표현한다.        복장 규정  \n",
      "6812   Grandma gives Jack a racing car as a gift. The...  할머니를 데리러 가다  \n",
      "7529   #Person1#은 자신이 MP3 플레이어와 스테레오 헤드폰을 가지고 있기 때문에 ...        직업 면접  \n",
      "7551   #Person1#은 #Person2#에게 숙제를 하라고 요청하지만, #Person2...        경로 확인  \n",
      "7557   #Person2#는 #Person1#와 함께 쇼핑을 갈 예정입니다. #Person2...       계약서 서명  \n",
      "10062      #Person1#은 매일 대중교통으로 사무실에 오고, 폴은 오토바이로 이동합니다.           교통  \n",
      "10896  Daniel got sick and Tom envies Daniel because ...     비밀을 유지하기  \n",
      "10897  #Person2#gives #Person1# some information on t...        유럽 투어  \n",
      "10900  #Person2# is interviewing Mr. Taylor. #Person2...        직장 면접  \n"
     ]
    }
   ],
   "source": [
    "train_df = pd.read_csv(TRAIN_NEW_PATH)\n",
    "\n",
    "# List of target fname values\n",
    "target_fnames = ['train_830', 'train_6812', 'train_7529', 'train_7551', 'train_7557', 'train_10062', 'train_10896', 'train_10897', 'train_10900']\n",
    "print(train_df[train_df['fname'].isin(target_fnames)])"
   ]
  },
  {
   "cell_type": "code",
   "execution_count": 21,
   "metadata": {},
   "outputs": [],
   "source": [
    "train_df = train_df[~train_df['fname'].isin(target_fnames)]"
   ]
  },
  {
   "cell_type": "code",
   "execution_count": 22,
   "metadata": {},
   "outputs": [
    {
     "name": "stdout",
     "output_type": "stream",
     "text": [
      "Empty DataFrame\n",
      "Columns: [fname, dialogue, summary, topic]\n",
      "Index: []\n"
     ]
    }
   ],
   "source": [
    "print(train_df[train_df['fname'].isin(target_fnames)])"
   ]
  },
  {
   "cell_type": "code",
   "execution_count": 23,
   "metadata": {},
   "outputs": [],
   "source": [
    "train_df.to_csv(TRAIN_NEW_PATH, index=False)"
   ]
  },
  {
   "cell_type": "code",
   "execution_count": 24,
   "metadata": {},
   "outputs": [
    {
     "name": "stdout",
     "output_type": "stream",
     "text": [
      "찾음:  B :: 미아오 앙!\n",
      "찾음:   나는 **야.\n"
     ]
    }
   ],
   "source": [
    "import warnings\n",
    "warnings.filterwarnings('ignore', category=FutureWarning)\n",
    "\n",
    "# Replacements to be checked\n",
    "replacements = {\n",
    "    'B :: 미아오 앙!': '미아오 앙!',\n",
    "    ' 나는 **야.': ''\n",
    "}\n",
    "\n",
    "for old_text in replacements.keys():\n",
    "    mask = train_df.applymap(lambda x: old_text in str(x))\n",
    "    if mask.any().any():\n",
    "        print(f\"찾음:  {old_text}\")\n",
    "    else:\n",
    "        print(f\"없음:  {old_text}\")"
   ]
  },
  {
   "cell_type": "code",
   "execution_count": 25,
   "metadata": {},
   "outputs": [],
   "source": [
    "for old_text, new_text in replacements.items():\n",
    "    train_df = train_df.applymap(lambda x: str(x).replace(old_text, new_text))"
   ]
  },
  {
   "cell_type": "code",
   "execution_count": 26,
   "metadata": {},
   "outputs": [
    {
     "name": "stdout",
     "output_type": "stream",
     "text": [
      "없음:  B :: 미아오 앙!\n",
      "없음:   나는 **야.\n"
     ]
    }
   ],
   "source": [
    "for old_text in replacements.keys():\n",
    "    mask = train_df.applymap(lambda x: old_text in str(x))\n",
    "    if mask.any().any():\n",
    "        print(f\"찾음:  {old_text}\")\n",
    "    else:\n",
    "        print(f\"없음:  {old_text}\")"
   ]
  },
  {
   "cell_type": "code",
   "execution_count": 27,
   "metadata": {},
   "outputs": [],
   "source": [
    "train_df.to_csv(TRAIN_NEW_PATH, index=False)"
   ]
  },
  {
   "cell_type": "code",
   "execution_count": null,
   "metadata": {},
   "outputs": [],
   "source": []
  }
 ],
 "metadata": {
  "kernelspec": {
   "display_name": "base",
   "language": "python",
   "name": "python3"
  },
  "language_info": {
   "codemirror_mode": {
    "name": "ipython",
    "version": 3
   },
   "file_extension": ".py",
   "mimetype": "text/x-python",
   "name": "python",
   "nbconvert_exporter": "python",
   "pygments_lexer": "ipython3",
   "version": "3.10.13"
  }
 },
 "nbformat": 4,
 "nbformat_minor": 2
}
