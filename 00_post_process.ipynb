{
 "cells": [
  {
   "cell_type": "code",
   "execution_count": 4,
   "metadata": {},
   "outputs": [],
   "source": [
    "import pandas as pd\n",
    "import re\n",
    "\n",
    "# CSV 파일 읽기\n",
    "df = pd.read_csv('/kkh/submission/output1.csv')\n",
    "\n",
    "# 각 문제를 해결하기 위한 함수\n",
    "def post_process_summary(summary):\n",
    "    # 1. '#'과 조사 사이의 띄어쓰기 제거\n",
    "    summary = re.sub(r'#([A-Za-z0-9_]+)#\\s+(은|는|이|가|을|를|에|에게|의|로|으로)', r'#\\1#\\g<2>', summary)\n",
    "    # 2. 의미 없는 큰 따옴표 제거\n",
    "    summary = summary.replace('\"', '')\n",
    "    # 3. 문장 맨 앞의 들여쓰기 제거\n",
    "    summary = summary.strip()\n",
    "    return summary\n",
    "\n",
    "# 'summary' 컬럼에 대해 post_process_summary 함수 적용\n",
    "df['summary'] = df['summary'].apply(post_process_summary)\n",
    "\n",
    "# 수정된 데이터프레임을 새로운 CSV 파일로 저장\n",
    "df.to_csv('/kkh/submission/output2.csv', index=False)"
   ]
  }
 ],
 "metadata": {
  "kernelspec": {
   "display_name": "base",
   "language": "python",
   "name": "python3"
  },
  "language_info": {
   "codemirror_mode": {
    "name": "ipython",
    "version": 3
   },
   "file_extension": ".py",
   "mimetype": "text/x-python",
   "name": "python",
   "nbconvert_exporter": "python",
   "pygments_lexer": "ipython3",
   "version": "3.10.13"
  }
 },
 "nbformat": 4,
 "nbformat_minor": 2
}
