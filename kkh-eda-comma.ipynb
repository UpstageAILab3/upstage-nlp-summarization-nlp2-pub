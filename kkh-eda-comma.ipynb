{
 "cells": [
  {
   "cell_type": "code",
   "execution_count": 6,
   "metadata": {},
   "outputs": [
    {
     "name": "stdout",
     "output_type": "stream",
     "text": [
      "train_10046: #Person2#: 우리는 고속도로에 있어. 나는 **야.\n"
     ]
    }
   ],
   "source": [
    "import pandas as pd\n",
    "import re\n",
    "import os\n",
    "import platform\n",
    "\n",
    "def extract_odd_sharp_sentence(text):\n",
    "    # 개행으로 문장을 분리\n",
    "    sentences = text.split('\\n')\n",
    "    \n",
    "    # 샵(#)이 홀수 개수로 있는 문장을 추출\n",
    "    odd_sharp_sentences = [sentence for sentence in sentences if sentence.count('*') > 1]\n",
    "    \n",
    "    return odd_sharp_sentences\n",
    "\n",
    "def extract_odd_sharp_from_file(file_path):\n",
    "    df = pd.read_csv(file_path)\n",
    "    \n",
    "    extracted_texts = []\n",
    "    for index, row in df.iterrows():\n",
    "        fname = row['fname']\n",
    "        text = row['dialogue']\n",
    "        odd_sharp_sentences = extract_odd_sharp_sentence(text)\n",
    "        \n",
    "        for sentence in odd_sharp_sentences:\n",
    "            extracted_texts.append(f\"{fname}: {sentence.strip()}\")\n",
    "    \n",
    "    return extracted_texts\n",
    "\n",
    "if __name__ == \"__main__\":\n",
    "    os_name = platform.system()\n",
    "    if os_name == 'Windows':\n",
    "        PRE_PATH = ''\n",
    "    elif os_name == 'Linux':\n",
    "        PRE_PATH = '/kkh/'\n",
    "    elif os_name == 'Darwin':  # 맥\n",
    "        PRE_PATH = '/kkh/'\n",
    "\n",
    "    DATA_PATH = PRE_PATH + \"data/\"\n",
    "    file_path = DATA_PATH + 'train.csv'\n",
    "    \n",
    "    # 파일에서 샵(#)이 홀수 개수로 등장하는 문장을 추출하여 출력합니다.\n",
    "    odd_sharp_texts = extract_odd_sharp_from_file(file_path)\n",
    "    for text in odd_sharp_texts:\n",
    "        print(text)\n"
   ]
  }
 ],
 "metadata": {
  "kernelspec": {
   "display_name": "nlp",
   "language": "python",
   "name": "python3"
  },
  "language_info": {
   "codemirror_mode": {
    "name": "ipython",
    "version": 3
   },
   "file_extension": ".py",
   "mimetype": "text/x-python",
   "name": "python",
   "nbconvert_exporter": "python",
   "pygments_lexer": "ipython3",
   "version": "3.10.14"
  }
 },
 "nbformat": 4,
 "nbformat_minor": 2
}
